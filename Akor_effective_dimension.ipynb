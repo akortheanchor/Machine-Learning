{
  "cells": [
    {
      "cell_type": "markdown",
      "metadata": {
        "id": "view-in-github",
        "colab_type": "text"
      },
      "source": [
        "<a href=\"https://colab.research.google.com/github/akortheanchor/Machine-Learning/blob/master/Akor_effective_dimension.ipynb\" target=\"_parent\"><img src=\"https://colab.research.google.com/assets/colab-badge.svg\" alt=\"Open In Colab\"/></a>"
      ]
    },
    {
      "cell_type": "code",
      "source": [
        "#after running this block you need to restart the runtime\n",
        "#to do this go to Runtime at the top and click Restart runtime\n",
        "!pip install qiskit qiskit_machine_learning pylatexenc"
      ],
      "metadata": {
        "colab": {
          "base_uri": "https://localhost:8080/"
        },
        "id": "l-Ur5dD9qzks",
        "outputId": "b9123eef-9510-4e9f-93b6-1af61d7c22f2"
      },
      "execution_count": 1,
      "outputs": [
        {
          "output_type": "stream",
          "name": "stdout",
          "text": [
            "Collecting qiskit\n",
            "  Downloading qiskit-0.45.1-py3-none-any.whl (9.6 kB)\n",
            "Collecting qiskit_machine_learning\n",
            "  Downloading qiskit_machine_learning-0.7.1-py3-none-any.whl (96 kB)\n",
            "\u001b[2K     \u001b[90m━━━━━━━━━━━━━━━━━━━━━━━━━━━━━━━━━━━━━━━━\u001b[0m \u001b[32m96.8/96.8 kB\u001b[0m \u001b[31m2.7 MB/s\u001b[0m eta \u001b[36m0:00:00\u001b[0m\n",
            "\u001b[?25hCollecting pylatexenc\n",
            "  Downloading pylatexenc-2.10.tar.gz (162 kB)\n",
            "\u001b[2K     \u001b[90m━━━━━━━━━━━━━━━━━━━━━━━━━━━━━━━━━━━━━━━━\u001b[0m \u001b[32m162.6/162.6 kB\u001b[0m \u001b[31m8.4 MB/s\u001b[0m eta \u001b[36m0:00:00\u001b[0m\n",
            "\u001b[?25h  Preparing metadata (setup.py) ... \u001b[?25l\u001b[?25hdone\n",
            "Collecting qiskit-terra==0.45.1 (from qiskit)\n",
            "  Downloading qiskit_terra-0.45.1-cp38-abi3-manylinux_2_17_x86_64.manylinux2014_x86_64.whl (6.3 MB)\n",
            "\u001b[2K     \u001b[90m━━━━━━━━━━━━━━━━━━━━━━━━━━━━━━━━━━━━━━━━\u001b[0m \u001b[32m6.3/6.3 MB\u001b[0m \u001b[31m61.8 MB/s\u001b[0m eta \u001b[36m0:00:00\u001b[0m\n",
            "\u001b[?25hCollecting rustworkx>=0.13.0 (from qiskit-terra==0.45.1->qiskit)\n",
            "  Downloading rustworkx-0.13.2-cp310-cp310-manylinux_2_17_x86_64.manylinux2014_x86_64.whl (2.0 MB)\n",
            "\u001b[2K     \u001b[90m━━━━━━━━━━━━━━━━━━━━━━━━━━━━━━━━━━━━━━━━\u001b[0m \u001b[32m2.0/2.0 MB\u001b[0m \u001b[31m81.6 MB/s\u001b[0m eta \u001b[36m0:00:00\u001b[0m\n",
            "\u001b[?25hRequirement already satisfied: numpy<2,>=1.17 in /usr/local/lib/python3.10/dist-packages (from qiskit-terra==0.45.1->qiskit) (1.23.5)\n",
            "Collecting ply>=3.10 (from qiskit-terra==0.45.1->qiskit)\n",
            "  Downloading ply-3.11-py2.py3-none-any.whl (49 kB)\n",
            "\u001b[2K     \u001b[90m━━━━━━━━━━━━━━━━━━━━━━━━━━━━━━━━━━━━━━━━\u001b[0m \u001b[32m49.6/49.6 kB\u001b[0m \u001b[31m5.9 MB/s\u001b[0m eta \u001b[36m0:00:00\u001b[0m\n",
            "\u001b[?25hRequirement already satisfied: psutil>=5 in /usr/local/lib/python3.10/dist-packages (from qiskit-terra==0.45.1->qiskit) (5.9.5)\n",
            "Requirement already satisfied: scipy>=1.5 in /usr/local/lib/python3.10/dist-packages (from qiskit-terra==0.45.1->qiskit) (1.11.4)\n",
            "Requirement already satisfied: sympy>=1.3 in /usr/local/lib/python3.10/dist-packages (from qiskit-terra==0.45.1->qiskit) (1.12)\n",
            "Collecting dill>=0.3 (from qiskit-terra==0.45.1->qiskit)\n",
            "  Downloading dill-0.3.7-py3-none-any.whl (115 kB)\n",
            "\u001b[2K     \u001b[90m━━━━━━━━━━━━━━━━━━━━━━━━━━━━━━━━━━━━━━━━\u001b[0m \u001b[32m115.3/115.3 kB\u001b[0m \u001b[31m14.1 MB/s\u001b[0m eta \u001b[36m0:00:00\u001b[0m\n",
            "\u001b[?25hRequirement already satisfied: python-dateutil>=2.8.0 in /usr/local/lib/python3.10/dist-packages (from qiskit-terra==0.45.1->qiskit) (2.8.2)\n",
            "Collecting stevedore>=3.0.0 (from qiskit-terra==0.45.1->qiskit)\n",
            "  Downloading stevedore-5.1.0-py3-none-any.whl (49 kB)\n",
            "\u001b[2K     \u001b[90m━━━━━━━━━━━━━━━━━━━━━━━━━━━━━━━━━━━━━━━━\u001b[0m \u001b[32m49.6/49.6 kB\u001b[0m \u001b[31m5.8 MB/s\u001b[0m eta \u001b[36m0:00:00\u001b[0m\n",
            "\u001b[?25hCollecting symengine!=0.10.0,>=0.9 (from qiskit-terra==0.45.1->qiskit)\n",
            "  Downloading symengine-0.11.0-cp310-cp310-manylinux_2_12_x86_64.manylinux2010_x86_64.whl (39.4 MB)\n",
            "\u001b[2K     \u001b[90m━━━━━━━━━━━━━━━━━━━━━━━━━━━━━━━━━━━━━━━━\u001b[0m \u001b[32m39.4/39.4 MB\u001b[0m \u001b[31m10.7 MB/s\u001b[0m eta \u001b[36m0:00:00\u001b[0m\n",
            "\u001b[?25hRequirement already satisfied: typing-extensions in /usr/local/lib/python3.10/dist-packages (from qiskit-terra==0.45.1->qiskit) (4.5.0)\n",
            "Collecting qiskit-algorithms>=0.2.0 (from qiskit_machine_learning)\n",
            "  Downloading qiskit_algorithms-0.2.1-py3-none-any.whl (306 kB)\n",
            "\u001b[2K     \u001b[90m━━━━━━━━━━━━━━━━━━━━━━━━━━━━━━━━━━━━━━━━\u001b[0m \u001b[32m306.9/306.9 kB\u001b[0m \u001b[31m28.2 MB/s\u001b[0m eta \u001b[36m0:00:00\u001b[0m\n",
            "\u001b[?25hRequirement already satisfied: scikit-learn>=1.2.0 in /usr/local/lib/python3.10/dist-packages (from qiskit_machine_learning) (1.2.2)\n",
            "Collecting fastdtw (from qiskit_machine_learning)\n",
            "  Downloading fastdtw-0.3.4.tar.gz (133 kB)\n",
            "\u001b[2K     \u001b[90m━━━━━━━━━━━━━━━━━━━━━━━━━━━━━━━━━━━━━━━━\u001b[0m \u001b[32m133.4/133.4 kB\u001b[0m \u001b[31m14.1 MB/s\u001b[0m eta \u001b[36m0:00:00\u001b[0m\n",
            "\u001b[?25h  Preparing metadata (setup.py) ... \u001b[?25l\u001b[?25hdone\n",
            "Requirement already satisfied: setuptools>=40.1.0 in /usr/local/lib/python3.10/dist-packages (from qiskit_machine_learning) (67.7.2)\n",
            "Requirement already satisfied: joblib>=1.1.1 in /usr/local/lib/python3.10/dist-packages (from scikit-learn>=1.2.0->qiskit_machine_learning) (1.3.2)\n",
            "Requirement already satisfied: threadpoolctl>=2.0.0 in /usr/local/lib/python3.10/dist-packages (from scikit-learn>=1.2.0->qiskit_machine_learning) (3.2.0)\n",
            "Requirement already satisfied: six>=1.5 in /usr/local/lib/python3.10/dist-packages (from python-dateutil>=2.8.0->qiskit-terra==0.45.1->qiskit) (1.16.0)\n",
            "Collecting pbr!=2.1.0,>=2.0.0 (from stevedore>=3.0.0->qiskit-terra==0.45.1->qiskit)\n",
            "  Downloading pbr-6.0.0-py2.py3-none-any.whl (107 kB)\n",
            "\u001b[2K     \u001b[90m━━━━━━━━━━━━━━━━━━━━━━━━━━━━━━━━━━━━━━━━\u001b[0m \u001b[32m107.5/107.5 kB\u001b[0m \u001b[31m12.0 MB/s\u001b[0m eta \u001b[36m0:00:00\u001b[0m\n",
            "\u001b[?25hRequirement already satisfied: mpmath>=0.19 in /usr/local/lib/python3.10/dist-packages (from sympy>=1.3->qiskit-terra==0.45.1->qiskit) (1.3.0)\n",
            "Building wheels for collected packages: pylatexenc, fastdtw\n",
            "  Building wheel for pylatexenc (setup.py) ... \u001b[?25l\u001b[?25hdone\n",
            "  Created wheel for pylatexenc: filename=pylatexenc-2.10-py3-none-any.whl size=136816 sha256=e72d7b76bf7df4fa16f04d40b79b9fabbd32bb37fbe0b32b408818564cd6a33a\n",
            "  Stored in directory: /root/.cache/pip/wheels/d3/31/8b/e09b0386afd80cfc556c00408c9aeea5c35c4d484a9c762fd5\n",
            "  Building wheel for fastdtw (setup.py) ... \u001b[?25l\u001b[?25hdone\n",
            "  Created wheel for fastdtw: filename=fastdtw-0.3.4-cp310-cp310-linux_x86_64.whl size=512572 sha256=262611ff7e3b9d8e5361f3370f58e01e34cbfd6f46d798dc70fef7e939b7a19e\n",
            "  Stored in directory: /root/.cache/pip/wheels/73/c8/f7/c25448dab74c3acf4848bc25d513c736bb93910277e1528ef4\n",
            "Successfully built pylatexenc fastdtw\n",
            "Installing collected packages: pylatexenc, ply, symengine, rustworkx, pbr, fastdtw, dill, stevedore, qiskit-terra, qiskit-algorithms, qiskit, qiskit_machine_learning\n",
            "Successfully installed dill-0.3.7 fastdtw-0.3.4 pbr-6.0.0 ply-3.11 pylatexenc-2.10 qiskit-0.45.1 qiskit-algorithms-0.2.1 qiskit-terra-0.45.1 qiskit_machine_learning-0.7.1 rustworkx-0.13.2 stevedore-5.1.0 symengine-0.11.0\n"
          ]
        }
      ]
    },
    {
      "cell_type": "markdown",
      "metadata": {
        "id": "HaJGM3xRqrfW"
      },
      "source": [
        "# Effective Dimension of Qiskit Neural Networks\n",
        "In this tutorial, we will take advantage of the `EffectiveDimension` and `LocalEffectiveDimension` classes to evaluate the power of Quantum Neural Network models. These are metrics based on information geometry that connect to notions such as trainability, expressibility or ability to generalize.\n",
        "\n",
        "Before diving into the code example, we will briefly explain what is the difference between these two metrics, and why are they relevant to the study of Quantum Neural Networks. More information about global effective dimension can be found in [this paper](https://arxiv.org/pdf/2011.00027.pdf), while the local effective dimension was introduced in a [later work](https://arxiv.org/abs/2112.04807)."
      ]
    },
    {
      "cell_type": "markdown",
      "metadata": {
        "pycharm": {
          "name": "#%% md\n"
        },
        "id": "PKnOCgnoqrfY"
      },
      "source": [
        "## 1. Global vs. Local Effective Dimension\n",
        "Both classical and quantum machine learning models share a common goal: being good at **generalizing**, i.e. learning insights from data and applying them on unseen data.\n",
        "\n",
        "Finding a good metric to assess this ability is a non-trivial matter. In [The Power of Quantum Neural Networks](https://arxiv.org/pdf/2011.00027.pdf), the authors introduce the **global** effective dimension as a useful indicator of how well a particular model will be able to perform on new data. In [Effective Dimension of Machine Learning Models](https://arxiv.org/pdf/2112.04807.pdf), the **local** effective dimension is proposed as a new capacity measure that bounds the generalization error of machine learning models.\n",
        "\n",
        "The key difference between global (`EffectiveDimension` class) and **local** effective dimension (`LocalEffectiveDimension` class) is actually not in the way they are computed, but in the nature of the parameter space that is analyzed. The global effective dimension incorporates the **full parameter space** of the model, and is calculated from a **large number of parameter (weight) sets**. On the other hand, the local effective dimension focuses on how well the **trained** model can generalize to new data, and how **expressive** it can be. Therefore, the local effective dimension is calculated from **a single** set of weight samples (training result). This difference is small in terms of practical implementation, but quite relevant at a conceptual level."
      ]
    },
    {
      "cell_type": "markdown",
      "metadata": {
        "id": "bZbK5Egaqrfa"
      },
      "source": [
        "## 2. The Effective Dimension Algorithm\n",
        "\n",
        "Both the global and local effective dimension algorithms use the Fisher Information matrix to provide a measure of complexity. The details on how this matrix is calculated are provided in the [reference paper](https://arxiv.org/pdf/2011.00027.pdf), but in general terms, this matrix captures how sensitive a neural network's output is to changes in the network's parameter space.\n",
        "\n",
        "In particular, this algorithm follows 4 main steps:\n",
        "\n",
        "1. **Monte Carlo simulation:** the forward and backward passes (gradients) of the neural network are computed for each pair of input and weight samples.\n",
        "2. **Fisher Matrix Computation:** these outputs and gradients are used to compute the Fisher Information Matrix.\n",
        "3. **Fisher Matrix Normalization:** averaging over all input samples and dividing by the matrix trace\n",
        "4. **Effective Dimension Calculation:** according to the formula from [*Abbas et al.*](https://arxiv.org/pdf/2011.00027.pdf)"
      ]
    },
    {
      "cell_type": "markdown",
      "metadata": {
        "id": "_cnD71utqrfb"
      },
      "source": [
        "## 3. Basic Example (SamplerQNN)\n",
        "\n",
        "This example shows how to set up a QNN model problem and run the global effective dimension algorithm. Both Qiskit `SamplerQNN` (shown in this example) and `EstimatorQNN` (shown in a later example) can be used with the `EffectiveDimension` class.\n",
        "\n",
        "We start off from the required imports and a fixed seed for the random number generator for reproducibility purposes."
      ]
    },
    {
      "cell_type": "code",
      "execution_count": 3,
      "metadata": {
        "id": "COGVJJp4qrfc"
      },
      "outputs": [],
      "source": [
        "# Necessary imports\n",
        "import matplotlib.pyplot as plt\n",
        "import numpy as np\n",
        "from IPython.display import clear_output\n",
        "from qiskit import QuantumCircuit\n",
        "from qiskit.algorithms.optimizers import COBYLA\n",
        "from qiskit.circuit.library import ZFeatureMap, RealAmplitudes\n",
        "from qiskit_algorithms.utils import algorithm_globals\n",
        "from sklearn.datasets import make_classification\n",
        "from sklearn.preprocessing import MinMaxScaler\n",
        "\n",
        "from qiskit_machine_learning.algorithms.classifiers import NeuralNetworkClassifier\n",
        "from qiskit_machine_learning.neural_networks import EffectiveDimension, LocalEffectiveDimension\n",
        "from qiskit_machine_learning.neural_networks import SamplerQNN, EstimatorQNN\n",
        "\n",
        "# set random seed\n",
        "algorithm_globals.random_seed = 42"
      ]
    },
    {
      "cell_type": "markdown",
      "metadata": {
        "pycharm": {
          "name": "#%% md\n"
        },
        "id": "OQASLsbtqrfd"
      },
      "source": [
        "### 3.1 Define QNN\n",
        "\n",
        "The first step to create a `SamplerQNN` is to define a parametrized feature map and ansatz. In this toy example, we will use 3 qubits, and we will define the circuit used in the `SamplerQNN` class."
      ]
    },
    {
      "cell_type": "code",
      "execution_count": 4,
      "metadata": {
        "pycharm": {
          "name": "#%%\n"
        },
        "colab": {
          "base_uri": "https://localhost:8080/",
          "height": 310
        },
        "id": "Pd0EU7Ejqrfe",
        "outputId": "bec1de26-54f6-4a7c-b9ce-48fd429ee1db"
      },
      "outputs": [
        {
          "output_type": "stream",
          "name": "stderr",
          "text": [
            "/usr/local/lib/python3.10/dist-packages/qiskit/visualization/circuit/matplotlib.py:266: FutureWarning: The default matplotlib drawer scheme will be changed to \"iqp\" in a following release. To silence this warning, specify the current default explicitly as style=\"clifford\", or the new default as style=\"iqp\".\n",
            "  self._style, def_font_ratio = load_style(self._style)\n"
          ]
        },
        {
          "output_type": "execute_result",
          "data": {
            "text/plain": [
              "<Figure size 621.941x284.278 with 1 Axes>"
            ],
            "image/png": "[encoded data removed]"
          },
          "metadata": {},
          "execution_count": 4
        }
      ],
      "source": [
        "num_qubits = 3\n",
        "# create a feature map\n",
        "feature_map = ZFeatureMap(feature_dimension=num_qubits, reps=1)\n",
        "# create a variational circuit\n",
        "ansatz = RealAmplitudes(num_qubits, reps=1)\n",
        "\n",
        "# combine feature map and ansatz into a single circuit\n",
        "qc = QuantumCircuit(num_qubits)\n",
        "qc.append(feature_map, range(num_qubits))\n",
        "qc.append(ansatz, range(num_qubits))\n",
        "qc.decompose().draw(\"mpl\")"
      ]
    },
    {
      "cell_type": "markdown",
      "metadata": {
        "id": "u2ZIkCBAqrff"
      },
      "source": [
        "The parametrized circuit can then be sent together with an optional interpret map (parity in this case) to the `SamplerQNN` constructor."
      ]
    },
    {
      "cell_type": "code",
      "execution_count": 5,
      "metadata": {
        "pycharm": {
          "name": "#%%\n"
        },
        "id": "df0nvC2Cqrfg"
      },
      "outputs": [],
      "source": [
        "# parity maps bitstrings to 0 or 1\n",
        "def parity(x):\n",
        "    return \"{:b}\".format(x).count(\"1\") % 2\n",
        "\n",
        "\n",
        "output_shape = 2  # corresponds to the number of classes, possible outcomes of the (parity) mapping."
      ]
    },
    {
      "cell_type": "code",
      "execution_count": 6,
      "metadata": {
        "pycharm": {
          "name": "#%%\n"
        },
        "id": "sFN7JrlRqrfj"
      },
      "outputs": [],
      "source": [
        "# construct QNN\n",
        "qnn = SamplerQNN(\n",
        "    circuit=qc,\n",
        "    input_params=feature_map.parameters,\n",
        "    weight_params=ansatz.parameters,\n",
        "    interpret=parity,\n",
        "    output_shape=output_shape,\n",
        "    sparse=False,\n",
        ")"
      ]
    },
    {
      "cell_type": "markdown",
      "metadata": {
        "id": "CWmuvnQLqrfk"
      },
      "source": [
        "### 3.2 Set up Effective Dimension calculation\n",
        "\n",
        "In order to compute the effective dimension of our QNN using the `EffectiveDimension` class, we need a series of sets of input samples and weights, as well as the total number of data samples available in a dataset. The `input_samples` and `weight_samples` are set in the class constructor, while the number of data samples is given during the call to the effective dimension computation, to be able to test and compare how this measure changes with different dataset sizes."
      ]
    },
    {
      "cell_type": "markdown",
      "metadata": {
        "id": "fhoDAZ51qrfl"
      },
      "source": [
        "We can define the number of input samples and weight samples and the class will randomly sample a corresponding array from a normal (for `input_samples`) or a uniform (for `weight_samples`) distribution. Instead of passing a number of samples we can pass an array, sampled manually."
      ]
    },
    {
      "cell_type": "code",
      "execution_count": 7,
      "metadata": {
        "pycharm": {
          "name": "#%%\n"
        },
        "id": "1jx6Rdhuqrfl"
      },
      "outputs": [],
      "source": [
        "# we can set the total number of input samples and weight samples for random selection\n",
        "num_input_samples = 10\n",
        "num_weight_samples = 10\n",
        "\n",
        "global_ed = EffectiveDimension(\n",
        "    qnn=qnn, weight_samples=num_weight_samples, input_samples=num_input_samples\n",
        ")"
      ]
    },
    {
      "cell_type": "markdown",
      "metadata": {
        "id": "KtyD1fB7qrfm"
      },
      "source": [
        "If we want to test a specific set of input samples and weight samples, we can provide it directly to the `EffectiveDimension` class as shown in the following snippet:"
      ]
    },
    {
      "cell_type": "code",
      "execution_count": 8,
      "metadata": {
        "pycharm": {
          "name": "#%%\n"
        },
        "id": "zD6TSa-6qrfm"
      },
      "outputs": [],
      "source": [
        "# we can also provide user-defined samples and parameters\n",
        "input_samples = algorithm_globals.random.normal(0, 1, size=(10, qnn.num_inputs))\n",
        "weight_samples = algorithm_globals.random.uniform(0, 1, size=(10, qnn.num_weights))\n",
        "\n",
        "global_ed = EffectiveDimension(qnn=qnn, weight_samples=weight_samples, input_samples=input_samples)"
      ]
    },
    {
      "cell_type": "markdown",
      "metadata": {
        "id": "3gy0-xjbqrfn"
      },
      "source": [
        "The effective dimension algorithm also requires a dataset size. In this example, we will define an array of sizes to later see how this input affects the result."
      ]
    },
    {
      "cell_type": "code",
      "execution_count": 9,
      "metadata": {
        "pycharm": {
          "name": "#%%\n"
        },
        "id": "sy2qUcxIqrfo"
      },
      "outputs": [],
      "source": [
        "# finally, we will define ranges to test different numbers of data, n\n",
        "n = [5000, 8000, 10000, 40000, 60000, 100000, 150000, 200000, 500000, 1000000]"
      ]
    },
    {
      "cell_type": "markdown",
      "metadata": {
        "id": "ByxilsSuqrfo"
      },
      "source": [
        "### 3.3 Compute Global Effective Dimension\n",
        "Let's now calculate the effective dimension of our network for the previously defined set of input samples, weights, and a dataset size of 5000."
      ]
    },
    {
      "cell_type": "code",
      "execution_count": 10,
      "metadata": {
        "pycharm": {
          "name": "#%%\n"
        },
        "id": "2uEZSGJ5qrfp"
      },
      "outputs": [],
      "source": [
        "global_eff_dim_0 = global_ed.get_effective_dimension(dataset_size=n[0])"
      ]
    },
    {
      "cell_type": "markdown",
      "metadata": {
        "id": "wSC0cpszqrfq"
      },
      "source": [
        "The effective dimension values will range between 0 and `d`, where `d` represents the dimension of the model, and it's practically obtained from the number of weights of the QNN. By dividing the result by `d`, we can obtain the normalized effective dimension, which correlates directly with the capacity of the model."
      ]
    },
    {
      "cell_type": "code",
      "execution_count": 11,
      "metadata": {
        "pycharm": {
          "name": "#%%\n"
        },
        "colab": {
          "base_uri": "https://localhost:8080/"
        },
        "id": "JqqCQkNYqrfq",
        "outputId": "7438dae9-590d-49d0-a2b0-2df9c1267677"
      },
      "outputs": [
        {
          "output_type": "stream",
          "name": "stdout",
          "text": [
            "Data size: 5000, global effective dimension: 4.6657\n",
            "Number of weights: 6, normalized effective dimension: 0.7776\n"
          ]
        }
      ],
      "source": [
        "d = qnn.num_weights\n",
        "\n",
        "print(\"Data size: {}, global effective dimension: {:.4f}\".format(n[0], global_eff_dim_0))\n",
        "print(\n",
        "    \"Number of weights: {}, normalized effective dimension: {:.4f}\".format(d, global_eff_dim_0 / d)\n",
        ")"
      ]
    },
    {
      "cell_type": "markdown",
      "metadata": {
        "id": "SE9wfqdwqrfq"
      },
      "source": [
        "By calling the `EffectiveDimension` class with an array if input sizes `n`, we can monitor how the effective dimension changes with the dataset size."
      ]
    },
    {
      "cell_type": "code",
      "execution_count": 12,
      "metadata": {
        "pycharm": {
          "name": "#%%\n"
        },
        "id": "rWuXEVVMqrfr"
      },
      "outputs": [],
      "source": [
        "global_eff_dim_1 = global_ed.get_effective_dimension(dataset_size=n)"
      ]
    },
    {
      "cell_type": "code",
      "execution_count": 13,
      "metadata": {
        "pycharm": {
          "name": "#%%\n"
        },
        "colab": {
          "base_uri": "https://localhost:8080/"
        },
        "id": "xJL1tWsdqrfr",
        "outputId": "0ac15490-43ac-486c-d1f2-5524adcf9af2"
      },
      "outputs": [
        {
          "output_type": "stream",
          "name": "stdout",
          "text": [
            "Effective dimension: [4.66565096 4.7133723  4.73782922 4.89963559 4.94632272 5.00280009\n",
            " 5.04530433 5.07408394 5.15786005 5.21349874]\n",
            "Number of weights: 6\n"
          ]
        }
      ],
      "source": [
        "print(\"Effective dimension: {}\".format(global_eff_dim_1))\n",
        "print(\"Number of weights: {}\".format(d))"
      ]
    },
    {
      "cell_type": "code",
      "execution_count": 14,
      "metadata": {
        "pycharm": {
          "name": "#%%\n"
        },
        "colab": {
          "base_uri": "https://localhost:8080/",
          "height": 449
        },
        "id": "8qsEEHyIqrfs",
        "outputId": "1475f630-41aa-4c25-e7ce-dd65d34eea0c"
      },
      "outputs": [
        {
          "output_type": "display_data",
          "data": {
            "text/plain": [
              "<Figure size 640x480 with 1 Axes>"
            ],
            "image/png": "[encoded data removed]"
          },
          "metadata": {}
        }
      ],
      "source": [
        "# plot the normalized effective dimension for the model\n",
        "plt.plot(n, np.array(global_eff_dim_1) / d)\n",
        "plt.xlabel(\"Number of data\")\n",
        "plt.ylabel(\"Normalized GLOBAL effective dimension\")\n",
        "plt.show()"
      ]
    },
    {
      "cell_type": "markdown",
      "metadata": {
        "pycharm": {
          "name": "#%% md\n"
        },
        "id": "EcHIzVlcqrfs"
      },
      "source": [
        "## 4. Local Effective Dimension Example\n",
        "As explained in the introduction, the local effective dimension algorithm only uses **one** set of weights, and it can be used to monitor how training affects the expressiveness of a neural network. The `LocalEffectiveDimension` class enforces this constraint to ensure that these calculations are conceptually separate, but the rest of the implementation is shared with `EffectiveDimension`.\n",
        "\n",
        "This example shows how to leverage the `LocalEffectiveDimension` class to analyze the effect of training on QNN expressiveness."
      ]
    },
    {
      "cell_type": "markdown",
      "metadata": {
        "id": "uXhgNXlMqrft"
      },
      "source": [
        "### 4.1 Define Dataset and QNN\n",
        "\n",
        "We start by creating a 3D binary classification dataset using `make_classification` function from scikit-learn."
      ]
    },
    {
      "cell_type": "code",
      "execution_count": 15,
      "metadata": {
        "pycharm": {
          "name": "#%%\n"
        },
        "id": "GPSxTu81qrft"
      },
      "outputs": [],
      "source": [
        "num_inputs = 3\n",
        "num_samples = 50\n",
        "\n",
        "X, y = make_classification(\n",
        "    n_samples=num_samples,\n",
        "    n_features=num_inputs,\n",
        "    n_informative=3,\n",
        "    n_redundant=0,\n",
        "    n_clusters_per_class=1,\n",
        "    class_sep=2.0,\n",
        ")\n",
        "X = MinMaxScaler().fit_transform(X)\n",
        "y = 2 * y - 1  # labels in {-1, 1}"
      ]
    },
    {
      "cell_type": "markdown",
      "metadata": {
        "id": "51AjEXU-qrft"
      },
      "source": [
        "The next step is to create a QNN, an instance of `EstimatorQNN` in our case in the same fashion we created an instance of `SamplerQNN`."
      ]
    },
    {
      "cell_type": "code",
      "execution_count": 16,
      "metadata": {
        "pycharm": {
          "name": "#%%\n"
        },
        "id": "_MqpOLg6qrfu"
      },
      "outputs": [],
      "source": [
        "estimator_qnn = EstimatorQNN(\n",
        "    circuit=qc, input_params=feature_map.parameters, weight_params=ansatz.parameters\n",
        ")"
      ]
    },
    {
      "cell_type": "markdown",
      "metadata": {
        "id": "RU5Yyy_Yqrfu"
      },
      "source": [
        "### 4.2 Train QNN\n",
        "\n",
        "We can now proceed to train the QNN. The training step may take some time, be patient. You can pass a callback to the classifier to observe how the training process is going on. We fix `initial_point` for reproducibility purposes as usual."
      ]
    },
    {
      "cell_type": "code",
      "execution_count": 17,
      "metadata": {
        "pycharm": {
          "name": "#%%\n"
        },
        "id": "beeclDGMqrfv"
      },
      "outputs": [],
      "source": [
        "# callback function that draws a live plot when the .fit() method is called\n",
        "def callback_graph(weights, obj_func_eval):\n",
        "    clear_output(wait=True)\n",
        "    objective_func_vals.append(obj_func_eval)\n",
        "    plt.title(\"Objective function value against iteration\")\n",
        "    plt.xlabel(\"Iteration\")\n",
        "    plt.ylabel(\"Objective function value\")\n",
        "    plt.plot(range(len(objective_func_vals)), objective_func_vals)\n",
        "    plt.show()"
      ]
    },
    {
      "cell_type": "code",
      "execution_count": 18,
      "metadata": {
        "pycharm": {
          "name": "#%%\n"
        },
        "id": "sA9PkLK2qrfv"
      },
      "outputs": [],
      "source": [
        "# construct classifier\n",
        "initial_point = algorithm_globals.random.random(estimator_qnn.num_weights)\n",
        "\n",
        "estimator_classifier = NeuralNetworkClassifier(\n",
        "    neural_network=estimator_qnn,\n",
        "    optimizer=COBYLA(maxiter=80),\n",
        "    initial_point=initial_point,\n",
        "    callback=callback_graph,\n",
        ")"
      ]
    },
    {
      "cell_type": "code",
      "execution_count": 19,
      "metadata": {
        "pycharm": {
          "name": "#%%\n"
        },
        "colab": {
          "base_uri": "https://localhost:8080/",
          "height": 564
        },
        "id": "Fdljvjzhqrfw",
        "outputId": "8a70e885-071b-4ecc-e0a7-0d0d9d9deb12"
      },
      "outputs": [
        {
          "output_type": "display_data",
          "data": {
            "text/plain": [
              "<Figure size 1200x600 with 1 Axes>"
            ],
            "image/png": "[encoded data removed]"
          },
          "metadata": {}
        }
      ],
      "source": [
        "# create empty array for callback to store evaluations of the objective function (callback)\n",
        "objective_func_vals = []\n",
        "plt.rcParams[\"figure.figsize\"] = (12, 6)\n",
        "\n",
        "# fit classifier to data\n",
        "estimator_classifier.fit(X, y)\n",
        "\n",
        "# return to default figsize\n",
        "plt.rcParams[\"figure.figsize\"] = (6, 4)"
      ]
    },
    {
      "cell_type": "markdown",
      "metadata": {
        "id": "zwhxgSY-qrfx"
      },
      "source": [
        "The classifier can now differentiate between classes with an accuracy of:"
      ]
    },
    {
      "cell_type": "code",
      "execution_count": 20,
      "metadata": {
        "colab": {
          "base_uri": "https://localhost:8080/"
        },
        "id": "pB8HbVqbqrfx",
        "outputId": "0850f43c-a4e1-4fd8-972a-bf59b9783e4e"
      },
      "outputs": [
        {
          "output_type": "execute_result",
          "data": {
            "text/plain": [
              "0.94"
            ]
          },
          "metadata": {},
          "execution_count": 20
        }
      ],
      "source": [
        "# score classifier\n",
        "estimator_classifier.score(X, y)"
      ]
    },
    {
      "cell_type": "markdown",
      "metadata": {
        "id": "BcaGMB7rqrfy"
      },
      "source": [
        "### 4.3 Compute Local Effective Dimension of trained QNN\n",
        "\n",
        "Now that we have trained our network, let's evaluate the local effective dimension based on the trained weights. To do that we access the trained weights directly from the classifier."
      ]
    },
    {
      "cell_type": "code",
      "execution_count": 21,
      "metadata": {
        "pycharm": {
          "name": "#%%\n"
        },
        "colab": {
          "base_uri": "https://localhost:8080/"
        },
        "id": "buMHmOKVqrfy",
        "outputId": "60c44b23-aa28-4f5d-9f50-d00b695dfbd2"
      },
      "outputs": [
        {
          "output_type": "stream",
          "name": "stdout",
          "text": [
            "normalized local effective dimensions for trained QNN:  [0.39824665 0.40237143 0.40480763 0.4251161  0.43243067 0.44240654\n",
            " 0.45087784 0.45715555 0.47838628 0.49539384]\n"
          ]
        }
      ],
      "source": [
        "trained_weights = estimator_classifier.weights\n",
        "\n",
        "# get Local Effective Dimension for set of trained weights\n",
        "local_ed_trained = LocalEffectiveDimension(\n",
        "    qnn=estimator_qnn, weight_samples=trained_weights, input_samples=X\n",
        ")\n",
        "\n",
        "local_eff_dim_trained = local_ed_trained.get_effective_dimension(dataset_size=n)\n",
        "\n",
        "print(\n",
        "    \"normalized local effective dimensions for trained QNN: \",\n",
        "    local_eff_dim_trained / estimator_qnn.num_weights,\n",
        ")"
      ]
    },
    {
      "cell_type": "markdown",
      "metadata": {
        "id": "L8UcEPaeqrfy"
      },
      "source": [
        "### 4.4 Compute Local Effective Dimension of untrained QNN\n",
        "\n",
        "We can compare this result with the effective dimension of the untrained network, using the `initial_point` as our weight sample:"
      ]
    },
    {
      "cell_type": "code",
      "execution_count": 22,
      "metadata": {
        "colab": {
          "base_uri": "https://localhost:8080/"
        },
        "id": "nuuan0YHqrfz",
        "outputId": "dd08970e-ec11-453f-9bed-3f129fbf221a"
      },
      "outputs": [
        {
          "output_type": "stream",
          "name": "stdout",
          "text": [
            "normalized local effective dimensions for untrained QNN:  [0.75484673 0.76804161 0.77432073 0.81068064 0.82000677 0.83081943\n",
            " 0.83868322 0.84389822 0.85868692 0.86827069]\n"
          ]
        }
      ],
      "source": [
        "# get Local Effective Dimension for set of untrained weights\n",
        "local_ed_untrained = LocalEffectiveDimension(\n",
        "    qnn=estimator_qnn, weight_samples=initial_point, input_samples=X\n",
        ")\n",
        "\n",
        "local_eff_dim_untrained = local_ed_untrained.get_effective_dimension(dataset_size=n)\n",
        "\n",
        "print(\n",
        "    \"normalized local effective dimensions for untrained QNN: \",\n",
        "    local_eff_dim_untrained / estimator_qnn.num_weights,\n",
        ")"
      ]
    },
    {
      "cell_type": "markdown",
      "metadata": {
        "pycharm": {
          "name": "#%% md\n"
        },
        "id": "vzLrx29zqrfz"
      },
      "source": [
        "### 4.5 Plot and analyze results\n",
        "\n",
        "If we plot the effective dimension values before and after training, we can see the following result:"
      ]
    },
    {
      "cell_type": "code",
      "execution_count": 23,
      "metadata": {
        "pycharm": {
          "name": "#%%\n"
        },
        "tags": [
          "nbsphinx-thumbnail"
        ],
        "colab": {
          "base_uri": "https://localhost:8080/",
          "height": 388
        },
        "id": "mteS7PD-qrf1",
        "outputId": "2894bda0-f55d-4fc0-e139-37c265f12ded"
      },
      "outputs": [
        {
          "output_type": "display_data",
          "data": {
            "text/plain": [
              "<Figure size 600x400 with 1 Axes>"
            ],
            "image/png": "[encoded data removed]"
          },
          "metadata": {}
        }
      ],
      "source": [
        "# plot the normalized effective dimension for the model\n",
        "plt.plot(n, np.array(local_eff_dim_trained) / estimator_qnn.num_weights, label=\"trained weights\")\n",
        "plt.plot(\n",
        "    n, np.array(local_eff_dim_untrained) / estimator_qnn.num_weights, label=\"untrained weights\"\n",
        ")\n",
        "\n",
        "plt.xlabel(\"Number of data\")\n",
        "plt.ylabel(\"Normalized LOCAL effective dimension\")\n",
        "plt.legend()\n",
        "plt.show()"
      ]
    },
    {
      "cell_type": "markdown",
      "metadata": {
        "id": "LddprCdDqrf1"
      },
      "source": [
        "In general, we should expect the value of the local effective dimension to decrease after training. This can be understood by looking back into the main goal of machine learning, which is to pick a model that is expressive enough to fit your data, but not too expressive that it overfits and performs badly on new data samples.  \n",
        "\n",
        "Certain optimizers help regularize the overfitting of a model by learning parameters, and this action of learning inherently reduces a model’s expressiveness, as measured by the local effective dimension. Following this logic, a randomly initialized parameter set will most likely produce a higher effective dimension that the final set of trained weights, because that model with that particular parameterization is “using more parameters” unnecessarily to fit the data. After training (with the implicit regularization), a trained model will not need to use so many parameters and thus have more “inactive parameters” and a lower effective dimension.\n",
        "\n",
        "We must keep in mind though that this is the general intuition, and there might be cases where a randomly selected set of weights happens to provide a lower effective dimension than the trained weights for a specific model."
      ]
    },
    {
      "cell_type": "code",
      "execution_count": 24,
      "metadata": {
        "pycharm": {
          "name": "#%%\n"
        },
        "colab": {
          "base_uri": "https://localhost:8080/",
          "height": 533
        },
        "id": "Ut162ODjqrf1",
        "outputId": "0c8673c4-6efd-4f39-8b9e-f4b939450e56"
      },
      "outputs": [
        {
          "output_type": "display_data",
          "data": {
            "text/plain": [
              "<IPython.core.display.HTML object>"
            ],
            "text/html": [
              "<h3>Version Information</h3><table><tr><th>Software</th><th>Version</th></tr><tr><td><code>qiskit</code></td><td>0.45.1</td></tr><tr><td><code>qiskit_machine_learning</code></td><td>0.7.1</td></tr><tr><td><code>qiskit_algorithms</code></td><td>0.2.1</td></tr><tr><th colspan='2'>System information</th></tr><tr><td>Python version</td><td>3.10.12</td></tr><tr><td>Python compiler</td><td>GCC 11.4.0</td></tr><tr><td>Python build</td><td>main, Nov 20 2023 15:14:05</td></tr><tr><td>OS</td><td>Linux</td></tr><tr><td>CPUs</td><td>1</td></tr><tr><td>Memory (Gb)</td><td>12.6783447265625</td></tr><tr><td colspan='2'>Sat Dec 02 07:01:24 2023 UTC</td></tr></table>"
            ]
          },
          "metadata": {}
        },
        {
          "output_type": "display_data",
          "data": {
            "text/plain": [
              "<IPython.core.display.HTML object>"
            ],
            "text/html": [
              "<div style='width: 100%; background-color:#d5d9e0;padding-left: 10px; padding-bottom: 10px; padding-right: 10px; padding-top: 5px'><h3>This code is a part of Qiskit</h3><p>&copy; Copyright IBM 2017, 2023.</p><p>This code is licensed under the Apache License, Version 2.0. You may<br>obtain a copy of this license in the LICENSE.txt file in the root directory<br> of this source tree or at http://www.apache.org/licenses/LICENSE-2.0.<p>Any modifications or derivative works of this code must retain this<br>copyright notice, and modified files need to carry a notice indicating<br>that they have been altered from the originals.</p></div>"
            ]
          },
          "metadata": {}
        }
      ],
      "source": [
        "import qiskit.tools.jupyter\n",
        "\n",
        "%qiskit_version_table\n",
        "%qiskit_copyright"
      ]
    }
  ],
  "metadata": {
    "celltoolbar": "Tags",
    "kernelspec": {
      "display_name": "Python 3",
      "language": "python",
      "name": "python3"
    },
    "language_info": {
      "codemirror_mode": {
        "name": "ipython",
        "version": 3
      },
      "file_extension": ".py",
      "mimetype": "text/x-python",
      "name": "python",
      "nbconvert_exporter": "python",
      "pygments_lexer": "ipython3",
      "version": "3.7.9"
    },
    "colab": {
      "provenance": [],
      "include_colab_link": true
    }
  },
  "nbformat": 4,
  "nbformat_minor": 0
}