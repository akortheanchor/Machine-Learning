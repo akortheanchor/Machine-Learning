{
  "nbformat": 4,
  "nbformat_minor": 0,
  "metadata": {
    "colab": {
      "provenance": [],
      "include_colab_link": true
    },
    "kernelspec": {
      "display_name": "Python 3",
      "language": "python",
      "name": "python3"
    },
    "language_info": {
      "codemirror_mode": {
        "name": "ipython",
        "version": 3
      },
      "file_extension": ".py",
      "mimetype": "text/x-python",
      "name": "python",
      "nbconvert_exporter": "python",
      "pygments_lexer": "ipython3",
      "version": "3.6.7"
    },
    "toc": {
      "base_numbering": 1,
      "nav_menu": {},
      "number_sections": true,
      "sideBar": true,
      "skip_h1_title": false,
      "title_cell": "Table of Contents",
      "title_sidebar": "Contents",
      "toc_cell": false,
      "toc_position": {},
      "toc_section_display": true,
      "toc_window_display": false
    },
    "varInspector": {
      "cols": {
        "lenName": 16,
        "lenType": 16,
        "lenVar": 40
      },
      "kernels_config": {
        "python": {
          "delete_cmd_postfix": "",
          "delete_cmd_prefix": "del ",
          "library": "var_list.py",
          "varRefreshCmd": "print(var_dic_list())"
        },
        "r": {
          "delete_cmd_postfix": ") ",
          "delete_cmd_prefix": "rm(",
          "library": "var_list.r",
          "varRefreshCmd": "cat(var_dic_list()) "
        }
      },
      "position": {
        "height": "399px",
        "left": "1070px",
        "right": "20px",
        "top": "120px",
        "width": "350px"
      },
      "types_to_exclude": [
        "module",
        "function",
        "builtin_function_or_method",
        "instance",
        "_Feature"
      ],
      "window_display": false
    }
  },
  "cells": [
    {
      "cell_type": "markdown",
      "metadata": {
        "id": "view-in-github",
        "colab_type": "text"
      },
      "source": [
        "<a href=\"https://colab.research.google.com/github/akortheanchor/Machine-Learning/blob/master/QSVM_Akor.ipynb\" target=\"_parent\"><img src=\"https://colab.research.google.com/assets/colab-badge.svg\" alt=\"Open In Colab\"/></a>"
      ]
    },
    {
      "cell_type": "markdown",
      "metadata": {
        "id": "RV9O5GbV96Xp"
      },
      "source": [
        "# Quantum Support Vector Machine\n",
        "\n",
        "Author: *Akoramurthy.B*"
      ]
    },
    {
      "cell_type": "markdown",
      "metadata": {
        "id": "1aXrFWzF4hoJ"
      },
      "source": [
        "In this notebook, we will explore a quantum algorithm developped to enhance a machine learning (ML) algorithm. In particular, we will study the Quantum enhanced support vector machine, introduced by the scientific staff of IBM in Ref.[1](https://arxiv.org/pdf/1804.11326.pdf)."
      ]
    },
    {
      "cell_type": "markdown",
      "metadata": {
        "id": "oNUpginB45JX"
      },
      "source": [
        "Before we start we briefly have to install qiskit, because it is not yet native in google colab."
      ]
    },
    {
      "cell_type": "code",
      "metadata": {
        "id": "1ZkrLepe43RI",
        "outputId": "5dcd3bf1-31a4-4e67-c0f9-2e7258574664",
        "colab": {
          "base_uri": "https://localhost:8080/",
          "height": 892
        }
      },
      "source": [
        "!pip install qiskit;"
      ],
      "execution_count": null,
      "outputs": [
        {
          "output_type": "stream",
          "text": [
            "Requirement already satisfied: qiskit in /usr/local/lib/python3.6/dist-packages (0.13.0)\n",
            "Requirement already satisfied: qiskit-aer==0.3.2 in /usr/local/lib/python3.6/dist-packages (from qiskit) (0.3.2)\n",
            "Requirement already satisfied: qiskit-ibmq-provider==0.3.3 in /usr/local/lib/python3.6/dist-packages (from qiskit) (0.3.3)\n",
            "Requirement already satisfied: qiskit-aqua==0.6.1 in /usr/local/lib/python3.6/dist-packages (from qiskit) (0.6.1)\n",
            "Requirement already satisfied: qiskit-terra==0.10.0 in /usr/local/lib/python3.6/dist-packages (from qiskit) (0.10.0)\n",
            "Requirement already satisfied: qiskit-ignis==0.2.0 in /usr/local/lib/python3.6/dist-packages (from qiskit) (0.2.0)\n",
            "Requirement already satisfied: numpy>=1.13 in /usr/local/lib/python3.6/dist-packages (from qiskit-aer==0.3.2->qiskit) (1.16.5)\n",
            "Requirement already satisfied: requests>=2.19 in /usr/local/lib/python3.6/dist-packages (from qiskit-ibmq-provider==0.3.3->qiskit) (2.21.0)\n",
            "Requirement already satisfied: nest-asyncio==1.0.0 in /usr/local/lib/python3.6/dist-packages (from qiskit-ibmq-provider==0.3.3->qiskit) (1.0.0)\n",
            "Requirement already satisfied: requests-ntlm>=1.1.0 in /usr/local/lib/python3.6/dist-packages (from qiskit-ibmq-provider==0.3.3->qiskit) (1.1.0)\n",
            "Requirement already satisfied: websockets<8,>=7 in /usr/local/lib/python3.6/dist-packages (from qiskit-ibmq-provider==0.3.3->qiskit) (7.0)\n",
            "Requirement already satisfied: h5py in /usr/local/lib/python3.6/dist-packages (from qiskit-aqua==0.6.1->qiskit) (2.8.0)\n",
            "Requirement already satisfied: fastdtw in /usr/local/lib/python3.6/dist-packages (from qiskit-aqua==0.6.1->qiskit) (0.3.4)\n",
            "Requirement already satisfied: networkx>=2.2 in /usr/local/lib/python3.6/dist-packages (from qiskit-aqua==0.6.1->qiskit) (2.4)\n",
            "Requirement already satisfied: cvxopt in /usr/local/lib/python3.6/dist-packages (from qiskit-aqua==0.6.1->qiskit) (1.2.3)\n",
            "Requirement already satisfied: docplex in /usr/local/lib/python3.6/dist-packages (from qiskit-aqua==0.6.1->qiskit) (2.10.155)\n",
            "Requirement already satisfied: pyscf; sys_platform != \"win32\" in /usr/local/lib/python3.6/dist-packages (from qiskit-aqua==0.6.1->qiskit) (1.6.4)\n",
            "Requirement already satisfied: sympy>=1.3 in /usr/local/lib/python3.6/dist-packages (from qiskit-aqua==0.6.1->qiskit) (1.4)\n",
            "Requirement already satisfied: jsonschema>=2.6 in /usr/local/lib/python3.6/dist-packages (from qiskit-aqua==0.6.1->qiskit) (2.6.0)\n",
            "Requirement already satisfied: scipy>=1.0 in /usr/local/lib/python3.6/dist-packages (from qiskit-aqua==0.6.1->qiskit) (1.3.1)\n",
            "Requirement already satisfied: psutil>=5 in /usr/local/lib/python3.6/dist-packages (from qiskit-aqua==0.6.1->qiskit) (5.4.8)\n",
            "Requirement already satisfied: setuptools>=40.1.0 in /usr/local/lib/python3.6/dist-packages (from qiskit-aqua==0.6.1->qiskit) (41.4.0)\n",
            "Requirement already satisfied: quandl in /usr/local/lib/python3.6/dist-packages (from qiskit-aqua==0.6.1->qiskit) (3.4.8)\n",
            "Requirement already satisfied: scikit-learn>=0.20.0 in /usr/local/lib/python3.6/dist-packages (from qiskit-aqua==0.6.1->qiskit) (0.21.3)\n",
            "Requirement already satisfied: dlx in /usr/local/lib/python3.6/dist-packages (from qiskit-aqua==0.6.1->qiskit) (1.0.4)\n",
            "Requirement already satisfied: marshmallow-polyfield<6,>=5.7 in /usr/local/lib/python3.6/dist-packages (from qiskit-terra==0.10.0->qiskit) (5.7)\n",
            "Requirement already satisfied: ply>=3.10 in /usr/local/lib/python3.6/dist-packages (from qiskit-terra==0.10.0->qiskit) (3.11)\n",
            "Requirement already satisfied: marshmallow<4,>=3 in /usr/local/lib/python3.6/dist-packages (from qiskit-terra==0.10.0->qiskit) (3.2.1)\n",
            "Requirement already satisfied: urllib3<1.25,>=1.21.1 in /usr/local/lib/python3.6/dist-packages (from requests>=2.19->qiskit-ibmq-provider==0.3.3->qiskit) (1.24.3)\n",
            "Requirement already satisfied: certifi>=2017.4.17 in /usr/local/lib/python3.6/dist-packages (from requests>=2.19->qiskit-ibmq-provider==0.3.3->qiskit) (2019.9.11)\n",
            "Requirement already satisfied: chardet<3.1.0,>=3.0.2 in /usr/local/lib/python3.6/dist-packages (from requests>=2.19->qiskit-ibmq-provider==0.3.3->qiskit) (3.0.4)\n",
            "Requirement already satisfied: idna<2.9,>=2.5 in /usr/local/lib/python3.6/dist-packages (from requests>=2.19->qiskit-ibmq-provider==0.3.3->qiskit) (2.8)\n",
            "Requirement already satisfied: cryptography>=1.3 in /usr/local/lib/python3.6/dist-packages (from requests-ntlm>=1.1.0->qiskit-ibmq-provider==0.3.3->qiskit) (2.8)\n",
            "Requirement already satisfied: ntlm-auth>=1.0.2 in /usr/local/lib/python3.6/dist-packages (from requests-ntlm>=1.1.0->qiskit-ibmq-provider==0.3.3->qiskit) (1.4.0)\n",
            "Requirement already satisfied: six in /usr/local/lib/python3.6/dist-packages (from h5py->qiskit-aqua==0.6.1->qiskit) (1.12.0)\n",
            "Requirement already satisfied: decorator>=4.3.0 in /usr/local/lib/python3.6/dist-packages (from networkx>=2.2->qiskit-aqua==0.6.1->qiskit) (4.4.0)\n",
            "Requirement already satisfied: docloud>=1.0.369 in /usr/local/lib/python3.6/dist-packages (from docplex->qiskit-aqua==0.6.1->qiskit) (1.0.375)\n",
            "Requirement already satisfied: mpmath>=0.19 in /usr/local/lib/python3.6/dist-packages (from sympy>=1.3->qiskit-aqua==0.6.1->qiskit) (1.1.0)\n",
            "Requirement already satisfied: python-dateutil in /usr/local/lib/python3.6/dist-packages (from quandl->qiskit-aqua==0.6.1->qiskit) (2.5.3)\n",
            "Requirement already satisfied: ndg-httpsclient in /usr/local/lib/python3.6/dist-packages (from quandl->qiskit-aqua==0.6.1->qiskit) (0.5.1)\n",
            "Requirement already satisfied: pandas>=0.14 in /usr/local/lib/python3.6/dist-packages (from quandl->qiskit-aqua==0.6.1->qiskit) (0.24.2)\n",
            "Requirement already satisfied: pyOpenSSL in /usr/local/lib/python3.6/dist-packages (from quandl->qiskit-aqua==0.6.1->qiskit) (19.0.0)\n",
            "Requirement already satisfied: more-itertools<=5.0.0 in /usr/local/lib/python3.6/dist-packages (from quandl->qiskit-aqua==0.6.1->qiskit) (5.0.0)\n",
            "Requirement already satisfied: inflection>=0.3.1 in /usr/local/lib/python3.6/dist-packages (from quandl->qiskit-aqua==0.6.1->qiskit) (0.3.1)\n",
            "Requirement already satisfied: pyasn1 in /usr/local/lib/python3.6/dist-packages (from quandl->qiskit-aqua==0.6.1->qiskit) (0.4.7)\n",
            "Requirement already satisfied: joblib>=0.11 in /usr/local/lib/python3.6/dist-packages (from scikit-learn>=0.20.0->qiskit-aqua==0.6.1->qiskit) (0.14.0)\n",
            "Requirement already satisfied: cffi!=1.11.3,>=1.8 in /usr/local/lib/python3.6/dist-packages (from cryptography>=1.3->requests-ntlm>=1.1.0->qiskit-ibmq-provider==0.3.3->qiskit) (1.13.0)\n",
            "Requirement already satisfied: pytz>=2011k in /usr/local/lib/python3.6/dist-packages (from pandas>=0.14->quandl->qiskit-aqua==0.6.1->qiskit) (2018.9)\n",
            "Requirement already satisfied: pycparser in /usr/local/lib/python3.6/dist-packages (from cffi!=1.11.3,>=1.8->cryptography>=1.3->requests-ntlm>=1.1.0->qiskit-ibmq-provider==0.3.3->qiskit) (2.19)\n"
          ],
          "name": "stdout"
        }
      ]
    },
    {
      "cell_type": "markdown",
      "metadata": {
        "id": "kQo5Onxj5bAv"
      },
      "source": [
        "Additionally we have to define a few helper functions that we will need to load data. In the Github version of this notebook we load them via external scripts. This is a bit nicer and keeps the code cleaner. Unfortunately it is extremely complicated to do this in google colab."
      ]
    },
    {
      "cell_type": "code",
      "metadata": {
        "id": "W5qLIG0R5jBB"
      },
      "source": [
        "import numpy as np\n",
        "import scipy\n",
        "from scipy.linalg import expm\n",
        "import matplotlib.pyplot as plt\n",
        "from mpl_toolkits.mplot3d import Axes3D\n",
        "from sklearn import datasets\n",
        "from sklearn.model_selection import train_test_split\n",
        "from sklearn.preprocessing import StandardScaler, MinMaxScaler\n",
        "from sklearn.decomposition import PCA\n",
        "import matplotlib.pyplot as plt\n",
        "\n",
        "def breast_cancer(training_size, test_size, n, PLOT_DATA=True):\n",
        "    class_labels = [r'Benign', r'Malignant']\n",
        "\n",
        "    # First the dataset must be imported.\n",
        "    cancer = datasets.load_breast_cancer()\n",
        "\n",
        "    # To find if the classifier is accurate, a common strategy is\n",
        "    # to divide the dataset into a training set and a test set.\n",
        "    # Here the data is divided into 70% training, 30% testing.\n",
        "    X_train, X_test, Y_train, Y_test = train_test_split(cancer.data, cancer.target, test_size=0.3, random_state=109)\n",
        "\n",
        "    # Now the dataset's features will be standardized\n",
        "    # to fit a normal distribution.\n",
        "    scaler = StandardScaler().fit(X_train)\n",
        "    X_train = scaler.transform(X_train)\n",
        "    X_test = scaler.transform(X_test)\n",
        "\n",
        "    # To be able to use this data with the given\n",
        "    # number of qubits, the data must be broken down from\n",
        "    # 30 dimensions to `n` dimensions.\n",
        "    # This is done with Principal Component Analysis (PCA),\n",
        "    # which finds patterns while keeping variation.\n",
        "    pca = PCA(n_components=n).fit(X_train)\n",
        "    X_train = pca.transform(X_train)\n",
        "    X_test = pca.transform(X_test)\n",
        "\n",
        "    # The last step in the data processing is\n",
        "    # to scale the data to be between -1 and 1\n",
        "    samples = np.append(X_train, X_test, axis=0)\n",
        "    minmax_scale = MinMaxScaler((-1, 1)).fit(samples)\n",
        "    X_train = minmax_scale.transform(X_train)\n",
        "    X_test = minmax_scale.transform(X_test)\n",
        "\n",
        "    # Now some sample should be picked to train the model from\n",
        "    training_input = {key: (X_train[Y_train == k, :])[:training_size] for k, key in enumerate(class_labels)}\n",
        "    test_input = {key: (X_train[Y_train == k, :])[training_size:(\n",
        "        training_size+test_size)] for k, key in enumerate(class_labels)}\n",
        "\n",
        "    if PLOT_DATA:\n",
        "        for k in range(0, 2):\n",
        "            x_axis_data = X_train[Y_train == k, 0][:training_size]\n",
        "            y_axis_data = X_train[Y_train == k, 1][:training_size]\n",
        "\n",
        "            label = 'Malignant' if k is 1 else 'Benign'\n",
        "            plt.scatter(x_axis_data, y_axis_data, label=label)\n",
        "\n",
        "        plt.title(\"Breast Cancer Dataset (Dimensionality Reduced With PCA)\")\n",
        "        plt.legend()\n",
        "        plt.show()\n",
        "\n",
        "\n",
        "    return X_train, training_input, test_input, class_labels\n",
        "\n",
        "\n",
        "\n",
        "class svm_utils:\n",
        "\n",
        "\tdef make_meshgrid(x, y, h=.02):\n",
        "\t    \"\"\"Create a mesh of points to plot in\n",
        "\n",
        "\t    Parameters\n",
        "\t    ----------\n",
        "\t    x: data to base x-axis meshgrid on\n",
        "\t    y: data to base y-axis meshgrid on\n",
        "\t    h: stepsize for meshgrid, optional\n",
        "\n",
        "\t    Returns\n",
        "\t    -------\n",
        "\t    xx, yy : ndarray\n",
        "\t    \"\"\"\n",
        "\t    x_min, x_max = x.min() - 1, x.max() + 1\n",
        "\t    y_min, y_max = y.min() - 1, y.max() + 1\n",
        "\t    xx, yy = np.meshgrid(np.arange(x_min, x_max, h),\n",
        "\t\t                 np.arange(y_min, y_max, h))\n",
        "\t    return xx, yy\n",
        "\n",
        "\n",
        "\tdef plot_contours(ax, clf, xx, yy, **params):\n",
        "\t    \"\"\"Plot the decision boundaries for a classifier.\n",
        "\n",
        "\t    Parameters\n",
        "\t    ----------\n",
        "\t    ax: matplotlib axes object\n",
        "\t    clf: a classifier\n",
        "\t    xx: meshgrid ndarray\n",
        "\t    yy: meshgrid ndarray\n",
        "\t    params: dictionary of params to pass to contourf, optional\n",
        "\t    \"\"\"\n",
        "\t    Z = clf.predict(np.c_[xx.ravel(), yy.ravel()])\n",
        "\t    Z = Z.reshape(xx.shape)\n",
        "\t    out = ax.contourf(xx, yy, Z, **params)\n",
        "\t    return out\n"
      ],
      "execution_count": null,
      "outputs": []
    },
    {
      "cell_type": "markdown",
      "metadata": {
        "id": "Opuj9aWV96Xu"
      },
      "source": [
        "## Brief overview of machine learning"
      ]
    },
    {
      "cell_type": "markdown",
      "metadata": {
        "id": "Q0USxDuX4hoO"
      },
      "source": [
        "Machine learning algorithms are mainly divided in two categories: supervised and unsupervised algorithms.\n",
        "\n",
        "<img src=\"https://raw.githubusercontent.com/PatrickHuembeli/QSVM-Introduction/master/pictures/supervised_learning.png\" />\n",
        "\n",
        "<img src=\"https://raw.githubusercontent.com/PatrickHuembeli/QSVM-Introduction/master/pictures/unsupervised_learning.png\" />\n",
        "\n",
        "\n"
      ]
    },
    {
      "cell_type": "markdown",
      "metadata": {
        "id": "1wW2jCZ34hoU"
      },
      "source": [
        "In the case of **supervised learning**, the training set is given with labels. For example, in the MNIST dataset, the training set are hanwritten numbers and the labels are the numbers. The goal of supervised algorithm is to learn to predict these labels and to be able to generalize to unlabelled data of the same kind. After the training on MNIST, the algorithm should be able predict that an image of a 5 is actually labelled by a 5. There many examples of supersvised learning such as support vector machine, random forest, deep neural networks, etc.\n",
        "\n",
        "In the case of **unsupervised learning**, the training set is given without labels. The goal of the algorithm is to find some structure in the data. One example of such algorithms is the k-means clustering. There, the user specifies the number of clusters he wants to find in the data and the algorithm finds automatically the different clusters. Another example is the T-SNE algotrithm, widely used for data visualisation. This algorithm takes data in a high-dimensional space and tries to find some structure in the data, that can be visualized by the user in 2D or 3D. As an example, we show here the application of the t-SNE algorithm on the MNIST dataset. Even without labels, the different numbers separate nicley in different clusters."
      ]
    },
    {
      "cell_type": "markdown",
      "metadata": {
        "id": "P1zCIJre4hoW"
      },
      "source": [
        "We will now focus on a specific supervised learning algorithm, the suppert vector machine. But, let us first introduce the data set we want to classify"
      ]
    },
    {
      "cell_type": "markdown",
      "metadata": {
        "id": "mHlvc9W796Xx"
      },
      "source": [
        "## Breast Cancer dataset"
      ]
    },
    {
      "cell_type": "markdown",
      "metadata": {
        "id": "ubXWYWEt96X1"
      },
      "source": [
        "We want to classfify the [Breast Cancer Wisconsin (Diagnostic) Data Set ](https://archive.ics.uci.edu/ml/datasets/Breast+Cancer+Wisconsin+(Diagnostic)). The dataset consists in 569 training examples, with each 32 attributes such as the perimeter, the texture, the area, etc. The diagnosis of these data can be malginant or benign.\n",
        "\n",
        "For the sake of simplicity, which will be particularly relevant for the quantum enhanced version of the algorithm, we do a dimensional reduction of our data from 32 attributes to 2, with the help of a [principal component analysis](https://es.wikipedia.org/wiki/An%C3%A1lisis_de_componentes_principales) (PCA). Such unsupervised algorithm finds the principal axes of the data with a singular value decomposition."
      ]
    },
    {
      "cell_type": "code",
      "metadata": {
        "ExecuteTime": {
          "end_time": "2019-10-18T17:11:45.060460Z",
          "start_time": "2019-10-18T17:11:45.050679Z"
        },
        "id": "Y6fqsFud96X4"
      },
      "source": [
        "import numpy as np\n",
        "from sklearn.datasets.samples_generator import make_blobs\n",
        "from qiskit.aqua.utils import split_dataset_to_data_and_labels\n",
        "from sklearn import svm\n",
        "from matplotlib import pyplot as plt\n",
        "%matplotlib inline\n",
        "%load_ext autoreload\n",
        "%autoreload 2"
      ],
      "execution_count": null,
      "outputs": []
    },
    {
      "cell_type": "code",
      "metadata": {
        "ExecuteTime": {
          "end_time": "2019-10-18T17:11:45.943870Z",
          "start_time": "2019-10-18T17:11:45.519773Z"
        },
        "outputId": "2148b8c8-ece2-4185-97f4-7f55f36a33c3",
        "scrolled": true,
        "id": "MZlMNnQS4hoj",
        "colab": {
          "base_uri": "https://localhost:8080/",
          "height": 281
        }
      },
      "source": [
        "n = 2 # number of principal components kept\n",
        "training_dataset_size = 20\n",
        "testing_dataset_size = 10\n",
        "\n",
        "sample_Total, training_input, test_input, class_labels = breast_cancer(training_dataset_size, testing_dataset_size, n)\n",
        "\n",
        "data_train, _ = split_dataset_to_data_and_labels(training_input)\n",
        "data_test, _ = split_dataset_to_data_and_labels(test_input)"
      ],
      "execution_count": null,
      "outputs": [
        {
          "output_type": "display_data",
          "data": {
            "image/png": "[encoded data removed]",
            "text/plain": [
              "<Figure size 432x288 with 1 Axes>"
            ]
          },
          "metadata": {
            "tags": []
          }
        }
      ]
    },
    {
      "cell_type": "markdown",
      "metadata": {
        "id": "fENC-pT14hop"
      },
      "source": [
        "## Linear Support vector machine"
      ]
    },
    {
      "cell_type": "markdown",
      "metadata": {
        "id": "AM2_WmqO4hos"
      },
      "source": [
        "We first emphasize that there two types of data that can be classified by these algorithms: linearly separable datasets and non linearly separable datasets. Our dataset is clearly not linearly separable. We show two examples in the different classes here below."
      ]
    },
    {
      "cell_type": "code",
      "metadata": {
        "id": "JpO8TPLA4hou",
        "outputId": "305e17f7-82d6-4f90-da0d-5e7675a0ec27",
        "colab": {
          "base_uri": "https://localhost:8080/",
          "height": 336
        }
      },
      "source": [
        "# We use the function of scikit learn to generate linearly separable blobs\n",
        "centers = [(2.5,0),(0,2.5)]\n",
        "x, y = make_blobs(n_samples=100, centers=centers, n_features=2,random_state=0,cluster_std=0.5)\n",
        "\n",
        "\n",
        "fig,ax=plt.subplots(1,2,figsize=(10,5))\n",
        "\n",
        "\n",
        "ax[0].scatter(data_train[0][:,0],data_train[0][:,1],c=data_train[1])\n",
        "ax[0].set_title('Breast Cancer dataset');\n",
        "\n",
        "ax[1].scatter(x[:,0],x[:,1],c=y)\n",
        "ax[1].set_title('Blobs linearly separable');"
      ],
      "execution_count": null,
      "outputs": [
        {
          "output_type": "display_data",
          "data": {
            "image/png": "[encoded data removed]",
            "text/plain": [
              "<Figure size 720x360 with 2 Axes>"
            ]
          },
          "metadata": {
            "tags": []
          }
        }
      ]
    },
    {
      "cell_type": "markdown",
      "metadata": {
        "id": "CRi-tJee4hoy"
      },
      "source": [
        "Let us first focus on the linearly separable dataset. We would first like to separate linearly the data set. However, there are many ways separating linearly this dataset,as one can see in the image below. Ideally, the separating line should be chosen such that it can generalize properly.\n",
        "\n",
        "<img src=\"https://raw.githubusercontent.com/PatrickHuembeli/QSVM-Introduction/master/pictures/linearly_separable.png\" >\n"
      ]
    },
    {
      "cell_type": "markdown",
      "metadata": {
        "id": "m2xNvDdS4ho0"
      },
      "source": [
        "### Linear Support vector machine: Hard margins and soft margins"
      ]
    },
    {
      "cell_type": "markdown",
      "metadata": {
        "id": "teSJynL64ho1"
      },
      "source": [
        "<img src=\"https://raw.githubusercontent.com/PatrickHuembeli/QSVM-Introduction/master/pictures/linear_svm_hardcore.png\" >"
      ]
    },
    {
      "cell_type": "markdown",
      "metadata": {
        "id": "-qVO-YCY4ho3"
      },
      "source": [
        "The support vector machine algorithm tries to find the parameters $w$ and $b$ such that the data with labels $y=1$ satisfy $w\\,x+b>1$, and the data $y=-1$ satisfy $w\\,x+b<1$. The optimization problem therefore consists in maximizing the distance between the two hyperplanes $\\frac{2}{\\vert \\vert w \\vert \\vert}$ (or minimizing $\\vert \\vert w \\vert \\vert^2$) given the constraints $y_i (w\\,x+b)>1$. This problem corresponds to the optimization of a quadratic problem with linear constraints\n",
        "\n",
        "$\\min \\limits_{w,b}\\vert \\vert w\\vert \\vert^2 \\text{ such that } y_i (w \\, x_i+b)\\geq 1, i=1...N$\n",
        "\n",
        "and has therefore a unique extremum. The latter can be found with a gradient-descent technique.\n",
        "\n",
        "In some of the problems, one would prefer to have a control on the margins by giving a weight to every point of the dataset, which would be an hyper parameter. This can done by considering the following problem\n",
        "\n",
        "$\\min \\limits_{w,b,\\xi_i>0}\\vert \\vert w\\vert \\vert^2+C\\sum_{i=1}^{N}\\xi_i \\text{ such that } y_i (w x_i+b)\\geq 1-\\xi_i, i=1...N$\n",
        "\n",
        "For $C=\\infty$, we recover the hard margin case. The value of C allows one to control the size of the margins.\n",
        "\n",
        "Combining the inequalities $\\xi\\geq 0$ and $y_i (w x_i+b)\\geq 1-\\xi_i$, the minization problem can be rewritten as\n",
        "\n",
        "$\\min \\limits_{w,b,\\xi_i>0}\\vert \\vert w\\vert \\vert^2+C\\sum_{i=1}^{N}\\max(0,1-y_i (w x_i+b))$\n",
        "\n",
        "The second term of this inequality is the so called Hinge Loss and the SVM problem can be seen as a minization of the Hing Loss with a $L_2$ regularization of the weigths. We finally notice that problem has still a unique minimum."
      ]
    },
    {
      "cell_type": "markdown",
      "metadata": {
        "id": "7voKbRBo4ho5"
      },
      "source": [
        "### Support vector machine and dual problem"
      ]
    },
    {
      "cell_type": "markdown",
      "metadata": {
        "id": "oQ4WKqnY4ho7"
      },
      "source": [
        "One can show that the optimization problem of the SVM is equivalent to the minization its dual formulation. For example, in the case of the soft margins, the dual problem takes the form\n",
        "\n",
        "$\\max \\limits_{\\{\\alpha_i\\}}\\sum_i-\\frac{1}{2}\\sum_{j,k}\\alpha_j\\alpha_k y_j y_k (x_j^Tx_k) \\text{ with the constraints } 0 \\leq \\alpha_i \\leq C \\text{ and } \\sum_i \\alpha_i y_i=0$\n",
        "\n",
        "One of the advantages of this formulation is that oit only involves the saclar products $ x_j^T x_k$. This is a crucial point when we will go to kernel methods."
      ]
    },
    {
      "cell_type": "markdown",
      "metadata": {
        "id": "y7Vxay2a4ho7"
      },
      "source": [
        "## Support vector machine with Kernel"
      ]
    },
    {
      "cell_type": "markdown",
      "metadata": {
        "id": "7-9BB3Hv4ho9"
      },
      "source": [
        "<img src=\"https://raw.githubusercontent.com/PatrickHuembeli/QSVM-Introduction/master/pictures/kernel.png\" >"
      ]
    },
    {
      "cell_type": "markdown",
      "metadata": {
        "id": "dNM8sskC4ho_"
      },
      "source": [
        "As we have already seen, the data are not always linearly separable. A simple trick to be able to still use a linear classifier are the kernel methods, as sketched in the Figure above. For example, this one-dimensional dataset is not linearly separable. However, when embedding them in the two-dimensional space with the map $\\Phi: x \\rightarrow (x,x^2)$. The datas become again linearly separable. In the ducal formulation, one only has to compute the scalar product $ x_j^T x_k$, which after the embedding takes the form $ \\Phi(x_j^T) \\Phi(x_k)$. The pretty nice point of using the kernel trick is that one does not have to do the embedding if one knows the value of the the scalar product. An example is the gaussian kernels where the data are embedded in a high dimensional space and mapped to gaussians, where the scalar product can be computed analitcally."
      ]
    },
    {
      "cell_type": "markdown",
      "metadata": {
        "id": "eyRm4S2196YF"
      },
      "source": [
        "# Hands-on session on support vector machine\n",
        "\n",
        "Before going to quantum case, we will implement the both the linear and kernel SVM algorihms for the  breast cancer dataset. We first have a look at our data set"
      ]
    },
    {
      "cell_type": "code",
      "metadata": {
        "id": "9Gz5iyVU4hpD",
        "outputId": "ae4986c3-0e8b-45f9-cc3f-8f83e030445b",
        "colab": {
          "base_uri": "https://localhost:8080/",
          "height": 281
        }
      },
      "source": [
        "plt.scatter(data_train[0][:,0],data_train[0][:,1],c=data_train[1])\n",
        "plt.title('Breast Cancer dataset');\n"
      ],
      "execution_count": null,
      "outputs": [
        {
          "output_type": "display_data",
          "data": {
            "image/png": "[encoded data removed]",
            "text/plain": [
              "<Figure size 432x288 with 1 Axes>"
            ]
          },
          "metadata": {
            "tags": []
          }
        }
      ]
    },
    {
      "cell_type": "markdown",
      "metadata": {
        "id": "abVAQc7l4hpH"
      },
      "source": [
        "We then define a linear SVM classifier and train it on the data set."
      ]
    },
    {
      "cell_type": "code",
      "metadata": {
        "id": "zmm94Wbd4hpK",
        "outputId": "db842084-6bc5-4869-d2a5-5216f0316c9b",
        "colab": {
          "base_uri": "https://localhost:8080/",
          "height": 88
        }
      },
      "source": [
        "model= svm.LinearSVC()\n",
        "model.fit(data_train[0], data_train[1])"
      ],
      "execution_count": null,
      "outputs": [
        {
          "output_type": "execute_result",
          "data": {
            "text/plain": [
              "LinearSVC(C=1.0, class_weight=None, dual=True, fit_intercept=True,\n",
              "          intercept_scaling=1, loss='squared_hinge', max_iter=1000,\n",
              "          multi_class='ovr', penalty='l2', random_state=None, tol=0.0001,\n",
              "          verbose=0)"
            ]
          },
          "metadata": {
            "tags": []
          },
          "execution_count": 11
        }
      ]
    },
    {
      "cell_type": "code",
      "metadata": {
        "id": "NDKmeylZ4hpQ",
        "outputId": "ed2ec7b0-a399-4edb-99fc-3a8d6abbda86",
        "colab": {
          "base_uri": "https://localhost:8080/",
          "height": 336
        }
      },
      "source": [
        "accuracy_train = model.score(data_train[0], data_train[1])\n",
        "accuracy_test = model.score(data_test[0], data_test[1])\n",
        "\n",
        "\n",
        "X0, X1 = data_train[0][:, 0], data_train[0][:, 1]\n",
        "xx, yy = svm_utils.make_meshgrid(X0, X1)\n",
        "Z = model.predict(np.c_[xx.ravel(), yy.ravel()])\n",
        "Z = Z.reshape(xx.shape)\n",
        "\n",
        "fig,ax=plt.subplots(1,2,figsize=(15,5))\n",
        "ax[0].contourf(xx, yy, Z, cmap=plt.cm.coolwarm)\n",
        "ax[0].scatter(data_train[0][:,0], data_train[0][:,1], c=data_train[1])\n",
        "ax[0].set_title('Accuracy on the training set: '+str(accuracy_train));\n",
        "\n",
        "ax[1].contourf(xx, yy, Z, cmap=plt.cm.coolwarm)\n",
        "ax[1].scatter(data_test[0][:,0], data_test[0][:,1], c=data_test[1])\n",
        "ax[1].set_title('Accuracy on the test set: '+str(accuracy_test));"
      ],
      "execution_count": null,
      "outputs": [
        {
          "output_type": "display_data",
          "data": {
            "image/png": "[encoded data removed]",
            "text/plain": [
              "<Figure size 1080x360 with 2 Axes>"
            ]
          },
          "metadata": {
            "tags": []
          }
        }
      ]
    },
    {
      "cell_type": "markdown",
      "metadata": {
        "id": "ANTSgP7L4hpU"
      },
      "source": [
        "The background indicates the decision function for the SVM algorithm. As an exercise, you can change the datasets to the linearly separable blobs and/or play with the value C, that change the margins. Remember, $C=\\infty$ is the hard margin case."
      ]
    },
    {
      "cell_type": "markdown",
      "metadata": {
        "id": "8LLk9_1x4hpW"
      },
      "source": [
        "We now implement a SVM with gaussian kernel"
      ]
    },
    {
      "cell_type": "code",
      "metadata": {
        "ExecuteTime": {
          "end_time": "2019-10-18T17:11:48.940359Z",
          "start_time": "2019-10-18T17:11:48.912034Z"
        },
        "id": "A3KvdhKg96YT",
        "scrolled": true
      },
      "source": [
        "clf = svm.SVC(gamma = 'scale')\n",
        "clf.fit(data_train[0], data_train[1]);"
      ],
      "execution_count": null,
      "outputs": []
    },
    {
      "cell_type": "code",
      "metadata": {
        "id": "dI-ShwA94hpb",
        "outputId": "d8d22250-cb28-4b18-f644-2eaa16a7de49",
        "colab": {
          "base_uri": "https://localhost:8080/",
          "height": 336
        }
      },
      "source": [
        "accuracy_train = clf.score(data_train[0], data_train[1])\n",
        "accuracy_test = clf.score(data_test[0], data_test[1])\n",
        "\n",
        "\n",
        "X0, X1 = data_train[0][:, 0], data_train[0][:, 1]\n",
        "xx, yy = svm_utils.make_meshgrid(X0, X1)\n",
        "Z = clf.predict(np.c_[xx.ravel(), yy.ravel()])\n",
        "Z = Z.reshape(xx.shape)\n",
        "\n",
        "fig,ax=plt.subplots(1,2,figsize=(15,5))\n",
        "ax[0].contourf(xx, yy, Z, cmap=plt.cm.coolwarm)\n",
        "ax[0].scatter(data_train[0][:,0], data_train[0][:,1], c=data_train[1])\n",
        "ax[0].set_title('Accuracy on the training set: '+str(accuracy_train));\n",
        "\n",
        "ax[1].contourf(xx, yy, Z, cmap=plt.cm.coolwarm)\n",
        "ax[1].scatter(data_test[0][:,0], data_test[0][:,1], c=data_test[1])\n",
        "ax[1].set_title('Accuracy on the test set: '+str(accuracy_test));"
      ],
      "execution_count": null,
      "outputs": [
        {
          "output_type": "display_data",
          "data": {
            "image/png": "[encoded data removed]",
            "text/plain": [
              "<Figure size 1080x360 with 2 Axes>"
            ]
          },
          "metadata": {
            "tags": []
          }
        }
      ]
    },
    {
      "cell_type": "markdown",
      "metadata": {
        "id": "cloOjX_R4hpg"
      },
      "source": [
        "## First steps in Qiskit\n",
        "\n",
        "We give a very brief introduction into Qiskit, which is a package to create quantum circuits and execute them on a local simulator or that can also be sent to IBMQ, a real quantum computer.\n",
        "\n",
        "So let's create a first quantum circuit, with a classical register."
      ]
    },
    {
      "cell_type": "code",
      "metadata": {
        "ExecuteTime": {
          "end_time": "2019-10-18T17:11:53.536521Z",
          "start_time": "2019-10-18T17:11:53.532195Z"
        },
        "id": "zVmXOnM34hpj"
      },
      "source": [
        "import qiskit as qk\n",
        "\n",
        "# Creating Qubits\n",
        "q = qk.QuantumRegister(2)\n",
        "# Creating Classical Bits\n",
        "c = qk.ClassicalRegister(2)"
      ],
      "execution_count": null,
      "outputs": []
    },
    {
      "cell_type": "markdown",
      "metadata": {
        "id": "3HjCGGu54hpm"
      },
      "source": [
        "### Define and print empty circuit\n",
        "\n",
        "So far we only have an empty quantum circuit with 2 qubits (`q0_0` and `q0_1`) and 2 classical registers (`c0_0` and `c0_1`)."
      ]
    },
    {
      "cell_type": "code",
      "metadata": {
        "ExecuteTime": {
          "end_time": "2019-10-18T17:11:54.870501Z",
          "start_time": "2019-10-18T17:11:54.858067Z"
        },
        "scrolled": true,
        "id": "L3WIrKYe4hpo",
        "outputId": "c469280c-f885-4223-fada-16b081173056",
        "colab": {
          "base_uri": "https://localhost:8080/",
          "height": 178
        }
      },
      "source": [
        "circuit = qk.QuantumCircuit(q, c)\n",
        "print(circuit)"
      ],
      "execution_count": null,
      "outputs": [
        {
          "output_type": "stream",
          "text": [
            "         \n",
            "q0_0: |0>\n",
            "         \n",
            "q0_1: |0>\n",
            "         \n",
            " c0_0: 0 \n",
            "         \n",
            " c0_1: 0 \n",
            "         \n"
          ],
          "name": "stdout"
        }
      ]
    },
    {
      "cell_type": "markdown",
      "metadata": {
        "id": "ybd7Ms2M4hps"
      },
      "source": [
        "### Add gates to the qubits\n",
        "\n",
        "As an example we add a Hadamard gate $H$ to the 0-th qubit and a Controlled-Not (also called Controlled-X, CNOT or CX) gate to the circuit, where the control qubit is qubit 0 and the target qubit is qubit 1.\n",
        "\n",
        "**What do these qubits do?**\n",
        "\n",
        "The initial state of `q0_0` is $\\vert 0 \\rangle_0$ and we first apply a Hadamard on it $H \\vert 0 \\rangle_0 = \\frac{1}{\\sqrt{2}} (\\vert 0 \\rangle_0 + \\vert 1 \\rangle_0)$.\n",
        "\n",
        "At this point `q0_1` is still in the ground state $\\vert 0 \\rangle_1$ and the state of the whole circuit can be described as $\\frac{1}{\\sqrt{2}} (\\vert 0 \\rangle_0 + \\vert 1 \\rangle_0) \\otimes \\vert 0 \\rangle_1$\n",
        "\n",
        "The CNOT gate now applies a $X$ gate to `q0_1` if `q0_0` is in the $\\vert 1 \\rangle$ state otherwise nothing happens to `q0_1` which is the same as applying the unity matrix $\\mathbb{1}$. This can be fromally writen as $\\vert 0 \\rangle \\langle 0 \\vert_0 \\otimes \\mathbb{1}_1 + \\vert 1 \\rangle \\langle 1 \\vert_0 \\otimes X_1$.\n",
        "\n",
        "The final state after these two gates is $\\frac{1}{\\sqrt{2}} (\\vert 00 \\rangle_{0,1} + \\vert 11 \\rangle_{0,1})$"
      ]
    },
    {
      "cell_type": "code",
      "metadata": {
        "ExecuteTime": {
          "end_time": "2019-10-18T17:11:56.502486Z",
          "start_time": "2019-10-18T17:11:56.493707Z"
        },
        "id": "HdtQnFOI4hpu",
        "outputId": "e02dde78-687d-479a-b995-67ee0935226d",
        "colab": {
          "base_uri": "https://localhost:8080/",
          "height": 178
        }
      },
      "source": [
        "# Initialize empty circuit\n",
        "circuit = qk.QuantumCircuit(q, c)\n",
        "# Hadamard Gate on the first Qubit\n",
        "circuit.h(q[0])\n",
        "# CNOT Gate on the first and second Qubits\n",
        "circuit.cx(q[0], q[1])\n",
        "# Measuring the Qubits\n",
        "circuit.measure(q, c)\n",
        "print (circuit)"
      ],
      "execution_count": null,
      "outputs": [
        {
          "output_type": "stream",
          "text": [
            "         ┌───┐     ┌─┐   \n",
            "q0_0: |0>┤ H ├──■──┤M├───\n",
            "         └───┘┌─┴─┐└╥┘┌─┐\n",
            "q0_1: |0>─────┤ X ├─╫─┤M├\n",
            "              └───┘ ║ └╥┘\n",
            " c0_0: 0 ═══════════╩══╬═\n",
            "                       ║ \n",
            " c0_1: 0 ══════════════╩═\n",
            "                         \n"
          ],
          "name": "stdout"
        }
      ]
    },
    {
      "cell_type": "markdown",
      "metadata": {
        "id": "t7ghIW104hpx"
      },
      "source": [
        "### Run the circuit on the quantum simulator\n",
        "\n",
        "In a next step we run this circuit on a quantum simulator.\n",
        "The measurements that we added before at the end of the circuit will measure if the single qubits are either in the state $\\vert 0 \\rangle$ or $\\vert 1 \\rangle$ by returning writing the classical bits 0 or 1 into the classical register."
      ]
    },
    {
      "cell_type": "code",
      "metadata": {
        "ExecuteTime": {
          "end_time": "2019-10-18T17:11:58.076667Z",
          "start_time": "2019-10-18T17:11:58.016817Z"
        },
        "id": "eizM81E24hpz",
        "outputId": "69c64bfb-ceca-4716-f029-56c69ceffc1e",
        "colab": {
          "base_uri": "https://localhost:8080/",
          "height": 35
        }
      },
      "source": [
        "# Using Qiskit Aer's Qasm Simulator: Define where do you want to run the simulation.\n",
        "simulator = qk.BasicAer.get_backend('qasm_simulator')\n",
        "\n",
        "# Simulating the circuit using the simulator to get the result\n",
        "job = qk.execute(circuit, simulator, shots=100)\n",
        "result = job.result()\n",
        "\n",
        "# Getting the aggregated binary outcomes of the circuit.\n",
        "counts = result.get_counts(circuit)\n",
        "print (counts)"
      ],
      "execution_count": null,
      "outputs": [
        {
          "output_type": "stream",
          "text": [
            "{'00': 54, '11': 46}\n"
          ],
          "name": "stdout"
        }
      ]
    },
    {
      "cell_type": "markdown",
      "metadata": {
        "id": "RIeyamyo96Yx"
      },
      "source": [
        "## Quantum Classification"
      ]
    },
    {
      "cell_type": "markdown",
      "metadata": {
        "id": "vdXr6kE-96Yz"
      },
      "source": [
        "Remember what is the idea of a classical SVM. We have a set of points that are in either one group or another and we want to find a line that separates these two groups. This line can be linear, but it can also be much more complex, which can be achieved by the use of Kernels.\n",
        "\n",
        "**So what will we need in the case of a quantum computer?**\n",
        "\n",
        "- 1st we will have to translate the classical data point $\\vec{x}$ into a quantum datapoint $\\vert \\Phi{(\\vec{x})} \\rangle$. This can be achieved by a circuit $\\mathcal{U}_{\\Phi(\\vec{x})} \\vert 0 \\rangle $. Where $\\Phi()$ could be any classical function applied on the classical data $\\vec{x}$.\n",
        "\n",
        "- 2nd we need a parameterized quantum circuit $W( \\theta )$ that processes the data in a way that in the end we...\n",
        "\n",
        "- 3rd can apply a measurement that returns a classical value $-1$ or $1$ for each classical input $\\vec{x}$ that indentifies the label of the classical data.\n",
        "\n",
        "**The most general ansatz**\n",
        "\n",
        "Following these steps we can define an ansatz for this kind of problem which is $W(\\theta) \\mathcal{U}_{\\Phi}(\\vec{x}) \\vert 0 \\rangle$.\n",
        "\n",
        "These kind of ansatz are called quantum variational circuits."
      ]
    },
    {
      "cell_type": "markdown",
      "metadata": {
        "id": "ak7wxqvZ4hp6"
      },
      "source": [
        "### Quantum SVM\n",
        "\n",
        "In the case of a quantum SVM we will only used the quantum feature maps $\\mathcal{U}_{\\Phi(\\vec{x})}$ to translate the classical data into quantum states and build the Kernel of the SVM out of these quantum states. After calculating the Kernel matrix on the quantum computer we can train the Quantum SVM the same way as the classical SVM.\n",
        "\n",
        "**Defining the Quantum Kernel**\n",
        "\n",
        "The idea of the quantum kernel is exactly the same as in the classical case. We take the inner product $K(\\vec{x}, \\vec{z}) = \\vert \\langle \\Phi (\\vec{x}) \\vert \\Phi(\\vec{z}) \\rangle \\vert^2 = \\langle 0^n \\vert \\mathcal{U}_{\\Phi(\\vec{x})}^{t} \\mathcal{U}_{\\Phi(\\vec{z})} \\vert 0^n \\rangle$, but now with the quantum feature maps $\\mathcal{U}_{\\Phi(\\vec{x})}$. The idea is that if we choose a quantum feature maps that is not easy to simulate with a classical computer we might obtain a quantum advantage.\n",
        "\n",
        "Side note: _There is no proof yet that the QSVM brings a quantum advantage, but the argument the authors of [1](https://arxiv.org/pdf/1804.11326.pdf) make, is that there is for sure no advantage if we use feature maps that are easy to simulate classically, because then we would not need a quantum computer to construct the Kernel._\n",
        "\n",
        "**Feature map**\n",
        "\n",
        "For the feature maps we use the ansatz $\\mathcal{U}_{\\Phi(x)} = U_{\\Phi(x)} \\otimes H^{\\otimes n}$, where $U_{\\Phi(x)} = \\exp \\left( i \\sum_{S \\in n} \\phi_S(x) \\prod_{i \\in S} Z_i \\right)$, which simplifies a lot when we (like in [1](https://arxiv.org/pdf/1804.11326.pdf)) only consider $S \\leq 2$ interactions, which means we only let two qubits interact at a time.\n",
        "For $S \\leq 2$ the product $\\prod_{i \\in S}$ only leads to interactions $Z_i Z_j$ and non interacting terms $Z_i$. And the sum $\\sum_{S \\in n}$ over all these terms that are possible with $n$ qubits.\n",
        "\n",
        "Finally we define the classical functions $\\phi_i(\\vec{x}) = x_i$ and $\\phi_{i,j}(\\vec{x}) = (\\pi - x_i)( \\pi- x_j)$.\n",
        "\n",
        "If we write this ansatz for 2 qubits and $S \\leq 2$ we see how it simplifies:\n",
        "\n",
        "$$U_{\\Phi(x)} = \\exp \\left(i \\left(x_1 Z_1 + x_2 Z_2 + (\\pi - x_1)( \\pi- x_2) Z_1 Z_2 \\right) \\right)$$\n",
        "\n",
        "We won't get into details to much here, why we would take this ansatz. It is simply an ansatz that is simple enough an leads to good results.\n",
        "\n",
        "Finally we can define a depth of these circuits. Depth 2 means we repeat this ansatz two times. Which means our feature map becomes $U_{\\Phi(x)} \\otimes H^{\\otimes n} \\otimes U_{\\Phi(x)} \\otimes H^{\\otimes n}$\n",
        "\n",
        "**Measuring the Quantum Kernel**\n",
        "\n",
        "Finally we need to extract the information about the quantum kernel again from the quantum circuit to feed it into the classical SVM algorithm. This is actual a non-trivial task, because we want to measure the overlap of two states $K(\\vec{x}, \\vec{z}) = \\vert \\langle \\Phi (\\vec{x}) \\vert \\Phi(\\vec{z}) \\rangle \\vert^2$ but there is a smart way to estimate this overlap, in [1](https://arxiv.org/pdf/1804.11326.pdf) they used this circuit for that estimation.\n",
        "\n",
        "<img src=\"https://raw.githubusercontent.com/PatrickHuembeli/QSVM-Introduction/master/pictures/Kernel_estimate.png\" />\n",
        "\n",
        "Which simply uses the fact that **if** $\\mathcal{U}_{\\Phi(x)} = \\mathcal{U}_{\\Phi(z)}$ the whole unitary would simplify to $\\mathbb{1}$ and the input should be equal to the output.\n",
        "If we now measure the output, the frequency of the measurement string $0^n$ gives you an estimate of the overlap $\\vert \\langle \\Phi (\\vec{x}) \\vert \\Phi(\\vec{z}) \\rangle \\vert^2$. (Because initially all qubits were $\\vert 0 \\rangle$)"
      ]
    },
    {
      "cell_type": "markdown",
      "metadata": {
        "id": "O0nhzwHL4hp6"
      },
      "source": [
        "### Build circuit for feature map\n",
        "\n",
        "Qiskit Aqua provides a pre-built function that can construct the quantum circuit for $\\mathcal{U}_{\\Phi(x)}$. The Second Order Expansion refers to the number of interacting qubits which we called $S$ before. Since $S \\leq 2$ we have terms with maximally two interacting qubits $Z_i Z_j$ (not for example $Z_i Z_j Z_k$), therefore Second Order.\n",
        "\n",
        "The function `SecondOrderExpansion` has the arguments `feature_dimension`, which is the dimension of the input data $\\vec{x}$ and at the same time also the number of qubits. `depth` is the number of repetitions of the feature map."
      ]
    },
    {
      "cell_type": "code",
      "metadata": {
        "ExecuteTime": {
          "end_time": "2019-10-18T17:12:04.325571Z",
          "start_time": "2019-10-18T17:12:04.317785Z"
        },
        "id": "nBKV2ZW796Y0"
      },
      "source": [
        "from qiskit.aqua.components.feature_maps import SecondOrderExpansion\n",
        "\n",
        "feature_map = SecondOrderExpansion(feature_dimension=2,\n",
        "                                   depth=1)"
      ],
      "execution_count": null,
      "outputs": []
    },
    {
      "cell_type": "markdown",
      "metadata": {
        "id": "UDEmJFzf4hqA"
      },
      "source": [
        "#### Print the feature map circuit\n",
        "\n",
        "To print the feature map circuit we define an arbitrary vector `x` that we want to encode and construct the circuit for this datapoint."
      ]
    },
    {
      "cell_type": "code",
      "metadata": {
        "ExecuteTime": {
          "end_time": "2019-10-18T17:12:07.024234Z",
          "start_time": "2019-10-18T17:12:07.005139Z"
        },
        "id": "ca7sm_6w4hqA",
        "outputId": "7c136b1a-7e02-4625-93bd-b15e4af64ed7",
        "colab": {
          "base_uri": "https://localhost:8080/",
          "height": 196
        }
      },
      "source": [
        "x = np.array([0.6, 0.3])\n",
        "print(feature_map.construct_circuit(x))"
      ],
      "execution_count": null,
      "outputs": [
        {
          "output_type": "stream",
          "text": [
            "        ┌───────────────┐┌─────────────┐ ░                 ░      »\n",
            "q_0: |0>┤ U3(pi/2,0,pi) ├┤ U3(0,0,1.2) ├─░─────────────────░───■──»\n",
            "        ├───────────────┤└─────────────┘ ░ ┌─────────────┐ ░ ┌─┴─┐»\n",
            "q_1: |0>┤ U3(pi/2,0,pi) ├────────────────░─┤ U3(0,0,0.6) ├─░─┤ X ├»\n",
            "        └───────────────┘                ░ └─────────────┘ ░ └───┘»\n",
            "«                         ░ \n",
            "«q_0: ────────────────■───░─\n",
            "«     ┌────────────┐┌─┴─┐ ░ \n",
            "«q_1: ┤ U1(14.444) ├┤ X ├─░─\n",
            "«     └────────────┘└───┘ ░ \n"
          ],
          "name": "stdout"
        }
      ]
    },
    {
      "cell_type": "markdown",
      "metadata": {
        "id": "wrtZdCZs4hqE"
      },
      "source": [
        "You might wonder now why there are no $Z_i$ and $Z_i Z_j$ matrices. This is simply because Qiskit does not provide these gates. We have to tranlate them into the gate set that Qiskit provides, which are manly 1-qubit rotations (here `U3`) and CNOTs. Qiskit does this work for us. It translates our feature map directly to gates that can be run on their qunatum computer. This is called compiling."
      ]
    },
    {
      "cell_type": "markdown",
      "metadata": {
        "id": "Hq4AQI9b96ZB"
      },
      "source": [
        "### QSVM Algorithm\n",
        "\n",
        "Qiskit aqua also provides a pre-defined function to train the whole QSVM. Where we only have to provide the feature map, a training and a test set and Qiskit will do all the work for us.\n",
        "\n",
        "Apart from finding the quantum Kernel the QSVM algorithm does only classical optimization. In the end there is no difference to the classical SVM, except that the Kernels are coming from a quantum distribution.\n",
        "\n",
        "QSVM will minimize the loss\n",
        "$$L(W) = \\sum_i \\alpha_i - \\frac{1}{2}\\sum_{i,j} y_i y_j \\alpha_i \\alpha_j K(\\vec{x}_i, \\vec{x}_j)$$\n",
        "via optimizing the parameters $\\vec{\\alpha}$.\n",
        "\n",
        "After training we can predict a label $y'$ of a data instance $\\vec{s}$ with $y' = \\text{sign}\\left( \\sum_i y_i \\alpha_i K(\\vec{x}_i, \\vec{s}) \\right)$."
      ]
    },
    {
      "cell_type": "code",
      "metadata": {
        "ExecuteTime": {
          "end_time": "2019-10-18T17:14:15.125939Z",
          "start_time": "2019-10-18T17:14:15.120545Z"
        },
        "id": "hmXCweOE96ZD"
      },
      "source": [
        "from qiskit.aqua.algorithms import QSVM\n",
        "\n",
        "qsvm = QSVM(feature_map, training_input, test_input)"
      ],
      "execution_count": null,
      "outputs": []
    },
    {
      "cell_type": "markdown",
      "metadata": {
        "id": "pXwxzGpJ4hqJ"
      },
      "source": [
        "#### Run QSVM\n",
        "\n",
        "Finally we will have to define where we would like to run this algorithm. For now we will run it on a local QASM Simulator. But the algorithm could also be sent to the IBMQ an be evaluated on a real quantum computer.\n",
        "\n",
        "We will have to define the `shots`, which are the number of measurements that we will take for each qubit. And for better reproducability we also set here the random seeds `seed_simulator` and `see_transpiler`."
      ]
    },
    {
      "cell_type": "code",
      "metadata": {
        "ExecuteTime": {
          "end_time": "2019-10-18T17:34:40.115464Z",
          "start_time": "2019-10-18T17:32:34.129749Z"
        },
        "id": "CN-LyEy196ZS"
      },
      "source": [
        "from qiskit.aqua import run_algorithm, QuantumInstance\n",
        "from qiskit import BasicAer\n",
        "\n",
        "backend = BasicAer.get_backend('qasm_simulator')\n",
        "quantum_instance = QuantumInstance(backend, shots=1024, seed_simulator=10598, seed_transpiler=10598)\n",
        "\n",
        "result = qsvm.run(quantum_instance)"
      ],
      "execution_count": null,
      "outputs": []
    },
    {
      "cell_type": "markdown",
      "metadata": {
        "id": "ms3be-IH4hqQ"
      },
      "source": [
        "### Analyze output\n",
        "\n",
        "`results` is a dictionary that contains elements like the kernel matrix, the label predictions and also the classical weights of the QSVM.\n",
        "\n",
        "Let's have a quick look at them:"
      ]
    },
    {
      "cell_type": "markdown",
      "metadata": {
        "id": "Q0ZJISWF4hqQ"
      },
      "source": [
        "#### The kernel matrix for the training\n",
        "\n",
        "Since the training set contains 40 elements, the kernel matrix has dimension 40x40"
      ]
    },
    {
      "cell_type": "code",
      "metadata": {
        "ExecuteTime": {
          "end_time": "2019-10-18T17:46:23.487018Z",
          "start_time": "2019-10-18T17:46:23.349398Z"
        },
        "id": "9YpMBOsD4hqS",
        "outputId": "a722d007-894b-4904-af7c-c768390536b9",
        "colab": {
          "base_uri": "https://localhost:8080/",
          "height": 305
        }
      },
      "source": [
        "plt.scatter(training_input['Benign'][:,0], training_input['Benign'][:,1])\n",
        "plt.scatter(training_input['Malignant'][:,0], training_input['Malignant'][:,1])\n",
        "plt.show()\n",
        "length_data = len(training_input['Benign']) + len(training_input['Malignant'])\n",
        "print(\"size training set: {}\".format(length_data))\n",
        "print(\"Matrix dimension: {}\".format(result['kernel_matrix_training'].shape))"
      ],
      "execution_count": null,
      "outputs": [
        {
          "output_type": "display_data",
          "data": {
            "image/png": "[encoded data removed]",
            "text/plain": [
              "<Figure size 432x288 with 1 Axes>"
            ]
          },
          "metadata": {
            "tags": []
          }
        },
        {
          "output_type": "stream",
          "text": [
            "size training set: 40\n",
            "Matrix dimension: (40, 40)\n"
          ],
          "name": "stdout"
        }
      ]
    },
    {
      "cell_type": "markdown",
      "metadata": {
        "id": "KXLzWz-T4hqV"
      },
      "source": [
        "The success ratio shows how accurate the QSVM predicts the labels"
      ]
    },
    {
      "cell_type": "code",
      "metadata": {
        "ExecuteTime": {
          "end_time": "2019-10-18T17:48:38.118748Z",
          "start_time": "2019-10-18T17:48:38.112632Z"
        },
        "id": "ZMKsFtJT96ZX",
        "outputId": "371df998-262b-4aad-e577-1c292d91ef0f",
        "colab": {
          "base_uri": "https://localhost:8080/",
          "height": 35
        }
      },
      "source": [
        "print(\"testing success ratio: \", result['testing_accuracy'])"
      ],
      "execution_count": null,
      "outputs": [
        {
          "output_type": "stream",
          "text": [
            "testing success ratio:  0.9\n"
          ],
          "name": "stdout"
        }
      ]
    },
    {
      "cell_type": "code",
      "metadata": {
        "ExecuteTime": {
          "end_time": "2019-10-18T18:16:21.106885Z",
          "start_time": "2019-10-18T18:15:25.244287Z"
        },
        "id": "ZZRUYVkZ4hqZ"
      },
      "source": [
        "test_set = np.concatenate((test_input['Benign'], test_input['Malignant']))\n",
        "y_test = qsvm.predict(test_set, quantum_instance)"
      ],
      "execution_count": null,
      "outputs": []
    },
    {
      "cell_type": "markdown",
      "metadata": {
        "id": "If0-hCN94hqc"
      },
      "source": [
        "And here we plot the results. The first plot shows the label predictions of the QSVM and the second plot shows the test labels."
      ]
    },
    {
      "cell_type": "code",
      "metadata": {
        "ExecuteTime": {
          "end_time": "2019-10-18T18:21:21.288443Z",
          "start_time": "2019-10-18T18:21:20.936674Z"
        },
        "id": "ncM36Vn_4hqd",
        "outputId": "ee762209-0d92-4270-d8c6-eb59e48cf055",
        "colab": {
          "base_uri": "https://localhost:8080/",
          "height": 521
        }
      },
      "source": [
        "plt.scatter(test_set[:, 0], test_set[:,1], c=y_test)\n",
        "plt.show()\n",
        "\n",
        "plt.scatter(test_input['Benign'][:,0], test_input['Benign'][:,1])\n",
        "plt.scatter(test_input['Malignant'][:,0], test_input['Malignant'][:,1])\n",
        "plt.show()"
      ],
      "execution_count": null,
      "outputs": [
        {
          "output_type": "display_data",
          "data": {
            "image/png": "[encoded data removed]",
            "text/plain": [
              "<Figure size 432x288 with 1 Axes>"
            ]
          },
          "metadata": {
            "tags": []
          }
        },
        {
          "output_type": "display_data",
          "data": {
            "image/png": "[encoded data removed]",
            "text/plain": [
              "<Figure size 432x288 with 1 Axes>"
            ]
          },
          "metadata": {
            "tags": []
          }
        }
      ]
    },
    {
      "cell_type": "markdown",
      "metadata": {
        "id": "XgNHbLJ396Zg"
      },
      "source": [
        "# References\n",
        "\n",
        "[1] Vojtech Havlicek, Antonio D. C´orcoles, Kristan Temme, Aram W. Harrow, Abhinav Kandala, Jerry M. Chow, and Jay M. Gambetta1, *Supervised learning with quantum enhanced feature spaces*, Nature 567, 209–212 (2019).\n",
        "\n",
        "[2] Rebentrost, P., Mohseni, M. & Lloyd, S. *Quantum support vector machine for big data classification*, Physical\n",
        "review letters 113, 130503 (2014).\n",
        "\n",
        "[3] Lectures notes on Machine learning, Andrew Zisserman  (2015)\n",
        "\n",
        "[4] Kristin P. Bennett and Colin Campbell, Support Vector Machines: Hype or Hallelujah?, SIGKDD Explorations 2, 1 (2000)"
      ]
    }
  ]
}