{
  "cells": [
    {
      "cell_type": "markdown",
      "metadata": {
        "id": "view-in-github",
        "colab_type": "text"
      },
      "source": [
        "<a href=\"https://colab.research.google.com/github/akortheanchor/Machine-Learning/blob/master/Akor_pegasos.ipynb\" target=\"_parent\"><img src=\"https://colab.research.google.com/assets/colab-badge.svg\" alt=\"Open In Colab\"/></a>"
      ]
    },
    {
      "cell_type": "code",
      "source": [
        "!pip install qiskit qiskit_machine_learning"
      ],
      "metadata": {
        "colab": {
          "base_uri": "https://localhost:8080/"
        },
        "id": "sF5hdtOMhRQ6",
        "outputId": "0948e193-7295-44c1-9e06-c336382af8bf"
      },
      "id": "sF5hdtOMhRQ6",
      "execution_count": 1,
      "outputs": [
        {
          "output_type": "stream",
          "name": "stdout",
          "text": [
            "Collecting qiskit\n",
            "  Downloading qiskit-0.45.1-py3-none-any.whl (9.6 kB)\n",
            "Collecting qiskit_machine_learning\n",
            "  Downloading qiskit_machine_learning-0.7.1-py3-none-any.whl (96 kB)\n",
            "\u001b[2K     \u001b[90m━━━━━━━━━━━━━━━━━━━━━━━━━━━━━━━━━━━━━━━━\u001b[0m \u001b[32m96.8/96.8 kB\u001b[0m \u001b[31m2.5 MB/s\u001b[0m eta \u001b[36m0:00:00\u001b[0m\n",
            "\u001b[?25hCollecting qiskit-terra==0.45.1 (from qiskit)\n",
            "  Downloading qiskit_terra-0.45.1-cp38-abi3-manylinux_2_17_x86_64.manylinux2014_x86_64.whl (6.3 MB)\n",
            "\u001b[2K     \u001b[90m━━━━━━━━━━━━━━━━━━━━━━━━━━━━━━━━━━━━━━━━\u001b[0m \u001b[32m6.3/6.3 MB\u001b[0m \u001b[31m47.8 MB/s\u001b[0m eta \u001b[36m0:00:00\u001b[0m\n",
            "\u001b[?25hCollecting rustworkx>=0.13.0 (from qiskit-terra==0.45.1->qiskit)\n",
            "  Downloading rustworkx-0.13.2-cp310-cp310-manylinux_2_17_x86_64.manylinux2014_x86_64.whl (2.0 MB)\n",
            "\u001b[2K     \u001b[90m━━━━━━━━━━━━━━━━━━━━━━━━━━━━━━━━━━━━━━━━\u001b[0m \u001b[32m2.0/2.0 MB\u001b[0m \u001b[31m89.2 MB/s\u001b[0m eta \u001b[36m0:00:00\u001b[0m\n",
            "\u001b[?25hRequirement already satisfied: numpy<2,>=1.17 in /usr/local/lib/python3.10/dist-packages (from qiskit-terra==0.45.1->qiskit) (1.23.5)\n",
            "Collecting ply>=3.10 (from qiskit-terra==0.45.1->qiskit)\n",
            "  Downloading ply-3.11-py2.py3-none-any.whl (49 kB)\n",
            "\u001b[2K     \u001b[90m━━━━━━━━━━━━━━━━━━━━━━━━━━━━━━━━━━━━━━━━\u001b[0m \u001b[32m49.6/49.6 kB\u001b[0m \u001b[31m8.4 MB/s\u001b[0m eta \u001b[36m0:00:00\u001b[0m\n",
            "\u001b[?25hRequirement already satisfied: psutil>=5 in /usr/local/lib/python3.10/dist-packages (from qiskit-terra==0.45.1->qiskit) (5.9.5)\n",
            "Requirement already satisfied: scipy>=1.5 in /usr/local/lib/python3.10/dist-packages (from qiskit-terra==0.45.1->qiskit) (1.11.4)\n",
            "Requirement already satisfied: sympy>=1.3 in /usr/local/lib/python3.10/dist-packages (from qiskit-terra==0.45.1->qiskit) (1.12)\n",
            "Collecting dill>=0.3 (from qiskit-terra==0.45.1->qiskit)\n",
            "  Downloading dill-0.3.7-py3-none-any.whl (115 kB)\n",
            "\u001b[2K     \u001b[90m━━━━━━━━━━━━━━━━━━━━━━━━━━━━━━━━━━━━━━━━\u001b[0m \u001b[32m115.3/115.3 kB\u001b[0m \u001b[31m15.7 MB/s\u001b[0m eta \u001b[36m0:00:00\u001b[0m\n",
            "\u001b[?25hRequirement already satisfied: python-dateutil>=2.8.0 in /usr/local/lib/python3.10/dist-packages (from qiskit-terra==0.45.1->qiskit) (2.8.2)\n",
            "Collecting stevedore>=3.0.0 (from qiskit-terra==0.45.1->qiskit)\n",
            "  Downloading stevedore-5.1.0-py3-none-any.whl (49 kB)\n",
            "\u001b[2K     \u001b[90m━━━━━━━━━━━━━━━━━━━━━━━━━━━━━━━━━━━━━━━━\u001b[0m \u001b[32m49.6/49.6 kB\u001b[0m \u001b[31m7.7 MB/s\u001b[0m eta \u001b[36m0:00:00\u001b[0m\n",
            "\u001b[?25hCollecting symengine!=0.10.0,>=0.9 (from qiskit-terra==0.45.1->qiskit)\n",
            "  Downloading symengine-0.11.0-cp310-cp310-manylinux_2_12_x86_64.manylinux2010_x86_64.whl (39.4 MB)\n",
            "\u001b[2K     \u001b[90m━━━━━━━━━━━━━━━━━━━━━━━━━━━━━━━━━━━━━━━━\u001b[0m \u001b[32m39.4/39.4 MB\u001b[0m \u001b[31m15.2 MB/s\u001b[0m eta \u001b[36m0:00:00\u001b[0m\n",
            "\u001b[?25hRequirement already satisfied: typing-extensions in /usr/local/lib/python3.10/dist-packages (from qiskit-terra==0.45.1->qiskit) (4.5.0)\n",
            "Collecting qiskit-algorithms>=0.2.0 (from qiskit_machine_learning)\n",
            "  Downloading qiskit_algorithms-0.2.1-py3-none-any.whl (306 kB)\n",
            "\u001b[2K     \u001b[90m━━━━━━━━━━━━━━━━━━━━━━━━━━━━━━━━━━━━━━━━\u001b[0m \u001b[32m306.9/306.9 kB\u001b[0m \u001b[31m30.4 MB/s\u001b[0m eta \u001b[36m0:00:00\u001b[0m\n",
            "\u001b[?25hRequirement already satisfied: scikit-learn>=1.2.0 in /usr/local/lib/python3.10/dist-packages (from qiskit_machine_learning) (1.2.2)\n",
            "Collecting fastdtw (from qiskit_machine_learning)\n",
            "  Downloading fastdtw-0.3.4.tar.gz (133 kB)\n",
            "\u001b[2K     \u001b[90m━━━━━━━━━━━━━━━━━━━━━━━━━━━━━━━━━━━━━━━━\u001b[0m \u001b[32m133.4/133.4 kB\u001b[0m \u001b[31m12.4 MB/s\u001b[0m eta \u001b[36m0:00:00\u001b[0m\n",
            "\u001b[?25h  Preparing metadata (setup.py) ... \u001b[?25l\u001b[?25hdone\n",
            "Requirement already satisfied: setuptools>=40.1.0 in /usr/local/lib/python3.10/dist-packages (from qiskit_machine_learning) (67.7.2)\n",
            "Requirement already satisfied: joblib>=1.1.1 in /usr/local/lib/python3.10/dist-packages (from scikit-learn>=1.2.0->qiskit_machine_learning) (1.3.2)\n",
            "Requirement already satisfied: threadpoolctl>=2.0.0 in /usr/local/lib/python3.10/dist-packages (from scikit-learn>=1.2.0->qiskit_machine_learning) (3.2.0)\n",
            "Requirement already satisfied: six>=1.5 in /usr/local/lib/python3.10/dist-packages (from python-dateutil>=2.8.0->qiskit-terra==0.45.1->qiskit) (1.16.0)\n",
            "Collecting pbr!=2.1.0,>=2.0.0 (from stevedore>=3.0.0->qiskit-terra==0.45.1->qiskit)\n",
            "  Downloading pbr-6.0.0-py2.py3-none-any.whl (107 kB)\n",
            "\u001b[2K     \u001b[90m━━━━━━━━━━━━━━━━━━━━━━━━━━━━━━━━━━━━━━━━\u001b[0m \u001b[32m107.5/107.5 kB\u001b[0m \u001b[31m8.5 MB/s\u001b[0m eta \u001b[36m0:00:00\u001b[0m\n",
            "\u001b[?25hRequirement already satisfied: mpmath>=0.19 in /usr/local/lib/python3.10/dist-packages (from sympy>=1.3->qiskit-terra==0.45.1->qiskit) (1.3.0)\n",
            "Building wheels for collected packages: fastdtw\n",
            "  Building wheel for fastdtw (setup.py) ... \u001b[?25l\u001b[?25hdone\n",
            "  Created wheel for fastdtw: filename=fastdtw-0.3.4-cp310-cp310-linux_x86_64.whl size=512574 sha256=000c08cdfa4e6d8eed61b2d33df1ce80e77b63f7f5523dbb28d08cdde51b0301\n",
            "  Stored in directory: /root/.cache/pip/wheels/73/c8/f7/c25448dab74c3acf4848bc25d513c736bb93910277e1528ef4\n",
            "Successfully built fastdtw\n",
            "Installing collected packages: ply, symengine, rustworkx, pbr, fastdtw, dill, stevedore, qiskit-terra, qiskit-algorithms, qiskit, qiskit_machine_learning\n",
            "Successfully installed dill-0.3.7 fastdtw-0.3.4 pbr-6.0.0 ply-3.11 qiskit-0.45.1 qiskit-algorithms-0.2.1 qiskit-terra-0.45.1 qiskit_machine_learning-0.7.1 rustworkx-0.13.2 stevedore-5.1.0 symengine-0.11.0\n"
          ]
        }
      ]
    },
    {
      "cell_type": "markdown",
      "id": "opened-florist",
      "metadata": {
        "id": "opened-florist"
      },
      "source": [
        "# Pegasos Quantum Support Vector Classifier\n",
        "\n",
        "There's another SVM based algorithm that benefits from the quantum kernel method. Here, we introduce an implementation of a another classification algorithm, which is an alternative version to the `QSVC` available in Qiskit Machine Learning and shown in the [\"Quantum Kernel Machine Learning\"](./03_quantum_kernel.ipynb) tutorial. This classification algorithm implements the Pegasos algorithm from the paper \"Pegasos: Primal Estimated sub-GrAdient SOlver for SVM\" by Shalev-Shwartz et al., see: https://home.ttic.edu/~nati/Publications/PegasosMPB.pdf.\n",
        "\n",
        "This algorithm is an alternative to the dual optimization from the `scikit-learn` package, benefits from the kernel trick, and yields a training complexity that is independent of the size of the training set. Thus, the `PegasosQSVC` is expected to train faster than QSVC for sufficiently large training sets.\n",
        "\n",
        "The algorithm can be used as direct replacement of `QSVC` with some hyper-parameterization."
      ]
    },
    {
      "cell_type": "markdown",
      "id": "thirty-painting",
      "metadata": {
        "id": "thirty-painting"
      },
      "source": [
        "Let's generate some data:"
      ]
    },
    {
      "cell_type": "code",
      "execution_count": 2,
      "id": "impressed-laser",
      "metadata": {
        "id": "impressed-laser"
      },
      "outputs": [],
      "source": [
        "from sklearn.datasets import make_blobs\n",
        "\n",
        "# example dataset\n",
        "features, labels = make_blobs(n_samples=20, n_features=2, centers=2, random_state=3, shuffle=True)"
      ]
    },
    {
      "cell_type": "markdown",
      "id": "moderate-yugoslavia",
      "metadata": {
        "id": "moderate-yugoslavia"
      },
      "source": [
        "We pre-process the data to ensure compatibility with the rotation encoding and split it into the training and test datasets."
      ]
    },
    {
      "cell_type": "code",
      "execution_count": 3,
      "id": "adolescent-composer",
      "metadata": {
        "id": "adolescent-composer"
      },
      "outputs": [],
      "source": [
        "import numpy as np\n",
        "\n",
        "from sklearn.model_selection import train_test_split\n",
        "from sklearn.preprocessing import MinMaxScaler\n",
        "\n",
        "features = MinMaxScaler(feature_range=(0, np.pi)).fit_transform(features)\n",
        "\n",
        "train_features, test_features, train_labels, test_labels = train_test_split(\n",
        "    features, labels, train_size=15, shuffle=False\n",
        ")"
      ]
    },
    {
      "cell_type": "markdown",
      "id": "central-poverty",
      "metadata": {
        "id": "central-poverty"
      },
      "source": [
        "We have two features in the dataset, so we set a number of qubits to the number of features in the dataset.\n",
        "\n",
        "Then we set $\\tau$ to the number of steps performed during the training procedure. Please note that, there is no early stopping criterion in the algorithm. The algorithm iterates over all $\\tau$ steps.\n",
        "\n",
        "And the last one is the hyperparameter $C$. This is a positive regularization parameter. The strength of the regularization is inversely proportional to $C$. Smaller $C$ induce smaller weights which generally helps preventing overfitting. However, due to the nature of this algorithm, some of the computation steps become trivial for larger $C$. Thus, larger $C$ improve the performance of the algorithm drastically. If the data is linearly separable in feature space, $C$ should be chosen to be large. If the separation is not perfect, $C$ should be chosen smaller to prevent overfitting."
      ]
    },
    {
      "cell_type": "code",
      "execution_count": 4,
      "id": "dying-dispatch",
      "metadata": {
        "id": "dying-dispatch"
      },
      "outputs": [],
      "source": [
        "# number of qubits is equal to the number of features\n",
        "num_qubits = 2\n",
        "\n",
        "# number of steps performed during the training procedure\n",
        "tau = 100\n",
        "\n",
        "# regularization parameter\n",
        "C = 1000"
      ]
    },
    {
      "cell_type": "markdown",
      "id": "improving-wilderness",
      "metadata": {
        "id": "improving-wilderness"
      },
      "source": [
        "The algorithm will run using:\n",
        "\n",
        "- The default fidelity instantiated in `FidelityQuantumKernel`\n",
        "- A quantum kernel created from `ZFeatureMap`"
      ]
    },
    {
      "cell_type": "code",
      "execution_count": 6,
      "id": "automated-allergy",
      "metadata": {
        "id": "automated-allergy"
      },
      "outputs": [],
      "source": [
        "from qiskit import BasicAer\n",
        "from qiskit.circuit.library import ZFeatureMap\n",
        "from qiskit_algorithms.utils import algorithm_globals\n",
        "\n",
        "from qiskit_machine_learning.kernels import FidelityQuantumKernel\n",
        "\n",
        "algorithm_globals.random_seed = 12345\n",
        "\n",
        "feature_map = ZFeatureMap(feature_dimension=num_qubits, reps=1)\n",
        "\n",
        "qkernel = FidelityQuantumKernel(feature_map=feature_map)"
      ]
    },
    {
      "cell_type": "markdown",
      "id": "attractive-stationery",
      "metadata": {
        "id": "attractive-stationery"
      },
      "source": [
        "The implementation `PegasosQSVC` is compatible with the `scikit-learn` interfaces and has a pretty standard way of training a model. In the constructor we pass parameters of the algorithm, in this case there are a regularization hyper-parameter $C$ and a number of steps.\n",
        "\n",
        "Then we pass training features and labels to the `fit` method, which trains a models and returns a fitted classifier.\n",
        "\n",
        "Afterwards, we score our model using test features and labels."
      ]
    },
    {
      "cell_type": "code",
      "execution_count": 7,
      "id": "representative-thumb",
      "metadata": {
        "colab": {
          "base_uri": "https://localhost:8080/"
        },
        "id": "representative-thumb",
        "outputId": "2caf7878-530c-4a91-aa0d-3ea0b676f236"
      },
      "outputs": [
        {
          "output_type": "stream",
          "name": "stdout",
          "text": [
            "PegasosQSVC classification test score: 1.0\n"
          ]
        }
      ],
      "source": [
        "from qiskit_machine_learning.algorithms import PegasosQSVC\n",
        "\n",
        "pegasos_qsvc = PegasosQSVC(quantum_kernel=qkernel, C=C, num_steps=tau)\n",
        "\n",
        "# training\n",
        "pegasos_qsvc.fit(train_features, train_labels)\n",
        "\n",
        "# testing\n",
        "pegasos_score = pegasos_qsvc.score(test_features, test_labels)\n",
        "print(f\"PegasosQSVC classification test score: {pegasos_score}\")"
      ]
    },
    {
      "cell_type": "markdown",
      "id": "sustainable-empire",
      "metadata": {
        "id": "sustainable-empire"
      },
      "source": [
        "For visualization purposes we create a mesh grid of a predefined step that spans our minimum and maximum values we applied in MinMaxScaler. We also add some margin to the grid for better representation of the training and test samples."
      ]
    },
    {
      "cell_type": "code",
      "execution_count": 8,
      "id": "judicial-pottery",
      "metadata": {
        "id": "judicial-pottery"
      },
      "outputs": [],
      "source": [
        "grid_step = 0.2\n",
        "margin = 0.2\n",
        "grid_x, grid_y = np.meshgrid(\n",
        "    np.arange(-margin, np.pi + margin, grid_step), np.arange(-margin, np.pi + margin, grid_step)\n",
        ")"
      ]
    },
    {
      "cell_type": "markdown",
      "id": "marine-constitution",
      "metadata": {
        "id": "marine-constitution"
      },
      "source": [
        "We convert the grid to the shape compatible with the model, the shape should be `(n_samples, n_features)`.\n",
        "Then for each grid point we predict a label. In our case predicted labels will be used for coloring the grid."
      ]
    },
    {
      "cell_type": "code",
      "execution_count": 9,
      "id": "competitive-outdoors",
      "metadata": {
        "id": "competitive-outdoors"
      },
      "outputs": [],
      "source": [
        "meshgrid_features = np.column_stack((grid_x.ravel(), grid_y.ravel()))\n",
        "meshgrid_colors = pegasos_qsvc.predict(meshgrid_features)"
      ]
    },
    {
      "cell_type": "markdown",
      "id": "former-constraint",
      "metadata": {
        "id": "former-constraint"
      },
      "source": [
        "Finally, we plot our grid according to the labels/colors we obtained from the model. We also plot training and test samples."
      ]
    },
    {
      "cell_type": "code",
      "execution_count": 10,
      "id": "monetary-knife",
      "metadata": {
        "tags": [
          "nbsphinx-thumbnail"
        ],
        "colab": {
          "base_uri": "https://localhost:8080/",
          "height": 468
        },
        "id": "monetary-knife",
        "outputId": "ec1d1c0b-ddef-475f-933c-abea55e5f07f"
      },
      "outputs": [
        {
          "output_type": "display_data",
          "data": {
            "text/plain": [
              "<Figure size 500x500 with 1 Axes>"
            ],
            "image/png": "[encoded data removed]"
          },
          "metadata": {}
        }
      ],
      "source": [
        "import matplotlib.pyplot as plt\n",
        "\n",
        "plt.figure(figsize=(5, 5))\n",
        "meshgrid_colors = meshgrid_colors.reshape(grid_x.shape)\n",
        "plt.pcolormesh(grid_x, grid_y, meshgrid_colors, cmap=\"RdBu\", shading=\"auto\")\n",
        "\n",
        "plt.scatter(\n",
        "    train_features[:, 0][train_labels == 0],\n",
        "    train_features[:, 1][train_labels == 0],\n",
        "    marker=\"s\",\n",
        "    facecolors=\"w\",\n",
        "    edgecolors=\"r\",\n",
        "    label=\"A train\",\n",
        ")\n",
        "plt.scatter(\n",
        "    train_features[:, 0][train_labels == 1],\n",
        "    train_features[:, 1][train_labels == 1],\n",
        "    marker=\"o\",\n",
        "    facecolors=\"w\",\n",
        "    edgecolors=\"b\",\n",
        "    label=\"B train\",\n",
        ")\n",
        "\n",
        "plt.scatter(\n",
        "    test_features[:, 0][test_labels == 0],\n",
        "    test_features[:, 1][test_labels == 0],\n",
        "    marker=\"s\",\n",
        "    facecolors=\"r\",\n",
        "    edgecolors=\"r\",\n",
        "    label=\"A test\",\n",
        ")\n",
        "plt.scatter(\n",
        "    test_features[:, 0][test_labels == 1],\n",
        "    test_features[:, 1][test_labels == 1],\n",
        "    marker=\"o\",\n",
        "    facecolors=\"b\",\n",
        "    edgecolors=\"b\",\n",
        "    label=\"B test\",\n",
        ")\n",
        "\n",
        "plt.legend(bbox_to_anchor=(1.05, 1), loc=\"upper left\", borderaxespad=0.0)\n",
        "plt.title(\"Pegasos Classification\")\n",
        "plt.show()"
      ]
    },
    {
      "cell_type": "code",
      "execution_count": 11,
      "id": "imperial-promise",
      "metadata": {
        "colab": {
          "base_uri": "https://localhost:8080/",
          "height": 533
        },
        "id": "imperial-promise",
        "outputId": "daafa8bc-8f4e-4c3e-a783-ddc108a45c8a"
      },
      "outputs": [
        {
          "output_type": "display_data",
          "data": {
            "text/plain": [
              "<IPython.core.display.HTML object>"
            ],
            "text/html": [
              "<h3>Version Information</h3><table><tr><th>Software</th><th>Version</th></tr><tr><td><code>qiskit</code></td><td>0.45.1</td></tr><tr><td><code>qiskit_machine_learning</code></td><td>0.7.1</td></tr><tr><td><code>qiskit_algorithms</code></td><td>0.2.1</td></tr><tr><th colspan='2'>System information</th></tr><tr><td>Python version</td><td>3.10.12</td></tr><tr><td>Python compiler</td><td>GCC 11.4.0</td></tr><tr><td>Python build</td><td>main, Nov 20 2023 15:14:05</td></tr><tr><td>OS</td><td>Linux</td></tr><tr><td>CPUs</td><td>1</td></tr><tr><td>Memory (Gb)</td><td>12.678337097167969</td></tr><tr><td colspan='2'>Sat Dec 02 06:30:00 2023 UTC</td></tr></table>"
            ]
          },
          "metadata": {}
        },
        {
          "output_type": "display_data",
          "data": {
            "text/plain": [
              "<IPython.core.display.HTML object>"
            ],
            "text/html": [
              "<div style='width: 100%; background-color:#d5d9e0;padding-left: 10px; padding-bottom: 10px; padding-right: 10px; padding-top: 5px'><h3>This code is a part of Qiskit</h3><p>&copy; Copyright IBM 2017, 2023.</p><p>This code is licensed under the Apache License, Version 2.0. You may<br>obtain a copy of this license in the LICENSE.txt file in the root directory<br> of this source tree or at http://www.apache.org/licenses/LICENSE-2.0.<p>Any modifications or derivative works of this code must retain this<br>copyright notice, and modified files need to carry a notice indicating<br>that they have been altered from the originals.</p></div>"
            ]
          },
          "metadata": {}
        }
      ],
      "source": [
        "import qiskit.tools.jupyter\n",
        "\n",
        "%qiskit_version_table\n",
        "%qiskit_copyright"
      ]
    }
  ],
  "metadata": {
    "celltoolbar": "Tags",
    "kernelspec": {
      "display_name": "Python 3",
      "language": "python",
      "name": "python3"
    },
    "language_info": {
      "codemirror_mode": {
        "name": "ipython",
        "version": 3
      },
      "file_extension": ".py",
      "mimetype": "text/x-python",
      "name": "python",
      "nbconvert_exporter": "python",
      "pygments_lexer": "ipython3",
      "version": "3.7.9"
    },
    "colab": {
      "provenance": [],
      "include_colab_link": true
    }
  },
  "nbformat": 4,
  "nbformat_minor": 5
}