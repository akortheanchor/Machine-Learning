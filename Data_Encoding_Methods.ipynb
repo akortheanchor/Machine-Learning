{
  "cells": [
    {
      "cell_type": "markdown",
      "metadata": {
        "id": "view-in-github",
        "colab_type": "text"
      },
      "source": [
        "<a href=\"https://colab.research.google.com/github/akortheanchor/Machine-Learning/blob/master/Data_Encoding_Methods.ipynb\" target=\"_parent\"><img src=\"https://colab.research.google.com/assets/colab-badge.svg\" alt=\"Open In Colab\"/></a>"
      ]
    },
    {
      "cell_type": "markdown",
      "metadata": {
        "gloss": {
          "computational-basis-state": {
            "text": "Also known as Z-basis states, these are the states we measure when we measure in the Z (or 'computational') basis. These are the states with labels like |00〉 and |00110100〉. IBM systems always measure in the Z-basis.",
            "title": "computational basis state"
          },
          "features": {
            "text": "A feature is a property of the things we're trying to learn about that we can assign a number to. If we were learning something about cats, the features might be \"height\" or \"age\" or \"propensity to consume treats\".",
            "title": "features"
          },
          "unitary": {
            "text": "A unitary operation is a reversible operation that preserves the norm (i.e. makes sure our probabilities always sum to 1). <a href='https://en.wikipedia.org/wiki/Unitary_matrix'>Read more</a>.",
            "title": "unitary"
          }
        },
        "id": "c13YnDprUctd"
      },
      "source": [
        "# Data Encoding\n",
        "\n",
        "In this notebook, we will introduce the problem of data encoding for quantum machine learning, then describe and implement various data encoding methods."
      ]
    },
    {
      "cell_type": "markdown",
      "metadata": {
        "id": "86HMIYshUctf"
      },
      "source": [
        "## Introduction\n",
        "\n",
        "Data representation is crucial for the success of machine learning models. For classical machine learning, the problem is how to represent the data numerically, so that it can be best processed by a classical machine learning algorithm.\n",
        "\n",
        "For quantum machine learning, this question is similar, but more fundamental: how to represent and efficiently input the data into a quantum system, so that it can be processed by a quantum machine learning algorithm. This is usually referred to as data *encoding*, but is also called data *embedding* or *loading*.\n",
        "\n",
        "This process is a critical part of quantum machine learning algorithms and directly affects their computational power."
      ]
    },
    {
      "cell_type": "markdown",
      "metadata": {
        "formulas": {
          "_ket-dataset": {
            "meaning": "This is a quantum statevector that represents our dataset, 𝒳.",
            "say": "Ket script X"
          },
          "_ket-x": {
            "meaning": "This vertical bar and angled bracket mean we're referring to a <a href='https://en.wikipedia.org/wiki/Bra%E2%80%93ket_notation'>ket</a> (column vector) with label 'x'.",
            "say": "Ket x"
          },
          "_m": {
            "meaning": "This is the number of entries in our dataset."
          },
          "_sum-m": {
            "meaning": "This notation means we add together |x<sup>m</sup>〉 (the m<sup>th</sup> element of our dataset) for all values of m between 1 and M (i.e., the entire dataset).",
            "say": "Sum of all computational basis states in our dataset (𝒳)"
          },
          "_x-lil-m": {
            "meaning": "This is the m<sup>th</sup> element of the dataset. It is an N-dimensional vector. Here, the 'm' is just used to mean \"any number between 1 and M\"",
            "say": "X little-M"
          },
          "brace": {
            "meaning": "These curly brackets (braces) mean everything inside the brackets forms a <a href='https://en.wikipedia.org/wiki/Set_(mathematics)'>set</a>.",
            "say": "Brace (or \"curly bracket\")",
            "type": "Universal notation"
          },
          "ellipsis": {
            "meaning": "These dots omit things where the pattern can be implied.",
            "say": "Ellipsis",
            "type": "Universal notation"
          },
          "in": {
            "meaning": "This symbol means the things to the left of the symbol are contained in the set to the right of the symbol.",
            "say": "In",
            "type": "Universal notation"
          },
          "script-x": {
            "meaning": "This is a symbol we’ve chosen to represent our dataset.",
            "say": "Script X",
            "type": "Locally defined variable"
          }
        },
        "id": "rYDSzv0CUctg"
      },
      "source": [
        "## Methods\n",
        "\n",
        "Let's consider a classical dataset $\\mathscr{X}$ consisting of $M$ samples, each with $N$ [features](gloss:features):\n",
        "\n",
        "$$\\class{script-x}{\\mathscr{X}} = \\class{brace}{\\{}x^{(1)},\\class{ellipsis}{\\dots},\\cssId{_x-lil-m}{x^{(m)}},\\dots,x^{(M)}\\class{brace}{\\}}$$\n",
        "\n",
        "where $x^{(m)}$ is an $N$ dimensional vector for $m = 1, ..., M$. To represent this dataset in a qubit system, we can use various embedding techniques, some of which are briefly explained and implemented below, as per References [1](#References) and  [2](#References)."
      ]
    },
    {
      "cell_type": "markdown",
      "metadata": {
        "id": "I5NxAavZUctg"
      },
      "source": [
        "### Basis encoding\n",
        "\n",
        "Basis encoding associates a classical $N$-bit string with a [computational basis state](gloss:computational-basis-state) of a $N$-qubit system. For example, if $x = 5$, this can be represented as a $4$-bit string as $0101$, and by a $4$-qubit system as the quantum state $|0101\\rangle$. More generally, for an $N$-bit string: $x = (b_1, b_2, ... , b_N)$, the corresponding $N$-qubit state is $\\cssId{ket-x}{| x \\rangle} = | b_1, b_2, ... , b_N \\rangle$ with $b_n \\class{in}{\\in} \\{0,1\\}$ for $n = 1 , \\dots , N$.\n",
        "\n",
        "For the classical dataset $\\mathscr{X}$ described above, to use basis encoding, each data point must be a $N$-bit string: $x^{(m)} = (b_1, b_2, ... , b_N)$, which then can be mapped directly to the quantum state $|x^{m}\\rangle = |b_1, b_2, ... , b_N \\rangle$ with $b_n \\in \\{0, 1 \\} $ for $n = 1, ...,  N$ and $m = 1, ..., M$. We can represent the entire dataset as superpositions of computational basis states:\n",
        "\n",
        "$$\\cssId{_ket-dataset}{| \\mathscr{X} \\rangle} = \\frac{1}{\\sqrt{\\cssId{_m}{M}}}\\cssId{_sum-m}{\\sum_{m=1}^{M}|x^{m} \\rangle} $$\n",
        "\n",
        "<!-- ::: q-block -->\n",
        "\n",
        "### Basis encoding\n",
        "\n",
        "    q-statevector-binary-encoding\n",
        "      p Add/remove bit strings to/from our input dataset on the left to see how basis encoding encodes this in the state vector on the right.\n",
        "\n",
        "<!-- ::: -->\n",
        "\n",
        "In Qiskit, once we calculate what state will encode our dataset, we can use the `initialize` function to prepare it. For example, the dataset $\\mathscr{X} = \\{x^{(1)}=101, x^{(2)}=111\\}$ is encoded as the state $|\\mathscr{X}\\rangle= \\frac{1}{\\sqrt{2}}(|101\\rangle+|111\\rangle)$:"
      ]
    },
    {
      "cell_type": "code",
      "source": [
        "pip install qiskit"
      ],
      "metadata": {
        "colab": {
          "base_uri": "https://localhost:8080/"
        },
        "id": "r-JSeIl5UvYG",
        "outputId": "bd4f2cc5-ca02-4405-d87e-f2f93d055e18"
      },
      "execution_count": 2,
      "outputs": [
        {
          "output_type": "stream",
          "name": "stdout",
          "text": [
            "Collecting qiskit\n",
            "  Downloading qiskit-0.45.1-py3-none-any.whl (9.6 kB)\n",
            "Collecting qiskit-terra==0.45.1 (from qiskit)\n",
            "  Downloading qiskit_terra-0.45.1-cp38-abi3-manylinux_2_17_x86_64.manylinux2014_x86_64.whl (6.3 MB)\n",
            "\u001b[2K     \u001b[90m━━━━━━━━━━━━━━━━━━━━━━━━━━━━━━━━━━━━━━━━\u001b[0m \u001b[32m6.3/6.3 MB\u001b[0m \u001b[31m26.8 MB/s\u001b[0m eta \u001b[36m0:00:00\u001b[0m\n",
            "\u001b[?25hCollecting rustworkx>=0.13.0 (from qiskit-terra==0.45.1->qiskit)\n",
            "  Downloading rustworkx-0.13.2-cp310-cp310-manylinux_2_17_x86_64.manylinux2014_x86_64.whl (2.0 MB)\n",
            "\u001b[2K     \u001b[90m━━━━━━━━━━━━━━━━━━━━━━━━━━━━━━━━━━━━━━━━\u001b[0m \u001b[32m2.0/2.0 MB\u001b[0m \u001b[31m56.0 MB/s\u001b[0m eta \u001b[36m0:00:00\u001b[0m\n",
            "\u001b[?25hRequirement already satisfied: numpy<2,>=1.17 in /usr/local/lib/python3.10/dist-packages (from qiskit-terra==0.45.1->qiskit) (1.23.5)\n",
            "Collecting ply>=3.10 (from qiskit-terra==0.45.1->qiskit)\n",
            "  Downloading ply-3.11-py2.py3-none-any.whl (49 kB)\n",
            "\u001b[2K     \u001b[90m━━━━━━━━━━━━━━━━━━━━━━━━━━━━━━━━━━━━━━━━\u001b[0m \u001b[32m49.6/49.6 kB\u001b[0m \u001b[31m7.0 MB/s\u001b[0m eta \u001b[36m0:00:00\u001b[0m\n",
            "\u001b[?25hRequirement already satisfied: psutil>=5 in /usr/local/lib/python3.10/dist-packages (from qiskit-terra==0.45.1->qiskit) (5.9.5)\n",
            "Requirement already satisfied: scipy>=1.5 in /usr/local/lib/python3.10/dist-packages (from qiskit-terra==0.45.1->qiskit) (1.11.4)\n",
            "Requirement already satisfied: sympy>=1.3 in /usr/local/lib/python3.10/dist-packages (from qiskit-terra==0.45.1->qiskit) (1.12)\n",
            "Collecting dill>=0.3 (from qiskit-terra==0.45.1->qiskit)\n",
            "  Downloading dill-0.3.7-py3-none-any.whl (115 kB)\n",
            "\u001b[2K     \u001b[90m━━━━━━━━━━━━━━━━━━━━━━━━━━━━━━━━━━━━━━━━\u001b[0m \u001b[32m115.3/115.3 kB\u001b[0m \u001b[31m13.6 MB/s\u001b[0m eta \u001b[36m0:00:00\u001b[0m\n",
            "\u001b[?25hRequirement already satisfied: python-dateutil>=2.8.0 in /usr/local/lib/python3.10/dist-packages (from qiskit-terra==0.45.1->qiskit) (2.8.2)\n",
            "Collecting stevedore>=3.0.0 (from qiskit-terra==0.45.1->qiskit)\n",
            "  Downloading stevedore-5.1.0-py3-none-any.whl (49 kB)\n",
            "\u001b[2K     \u001b[90m━━━━━━━━━━━━━━━━━━━━━━━━━━━━━━━━━━━━━━━━\u001b[0m \u001b[32m49.6/49.6 kB\u001b[0m \u001b[31m6.5 MB/s\u001b[0m eta \u001b[36m0:00:00\u001b[0m\n",
            "\u001b[?25hCollecting symengine!=0.10.0,>=0.9 (from qiskit-terra==0.45.1->qiskit)\n",
            "  Downloading symengine-0.11.0-cp310-cp310-manylinux_2_12_x86_64.manylinux2010_x86_64.whl (39.4 MB)\n",
            "\u001b[2K     \u001b[90m━━━━━━━━━━━━━━━━━━━━━━━━━━━━━━━━━━━━━━━━\u001b[0m \u001b[32m39.4/39.4 MB\u001b[0m \u001b[31m16.4 MB/s\u001b[0m eta \u001b[36m0:00:00\u001b[0m\n",
            "\u001b[?25hRequirement already satisfied: typing-extensions in /usr/local/lib/python3.10/dist-packages (from qiskit-terra==0.45.1->qiskit) (4.5.0)\n",
            "Requirement already satisfied: six>=1.5 in /usr/local/lib/python3.10/dist-packages (from python-dateutil>=2.8.0->qiskit-terra==0.45.1->qiskit) (1.16.0)\n",
            "Collecting pbr!=2.1.0,>=2.0.0 (from stevedore>=3.0.0->qiskit-terra==0.45.1->qiskit)\n",
            "  Downloading pbr-6.0.0-py2.py3-none-any.whl (107 kB)\n",
            "\u001b[2K     \u001b[90m━━━━━━━━━━━━━━━━━━━━━━━━━━━━━━━━━━━━━━━━\u001b[0m \u001b[32m107.5/107.5 kB\u001b[0m \u001b[31m15.1 MB/s\u001b[0m eta \u001b[36m0:00:00\u001b[0m\n",
            "\u001b[?25hRequirement already satisfied: mpmath>=0.19 in /usr/local/lib/python3.10/dist-packages (from sympy>=1.3->qiskit-terra==0.45.1->qiskit) (1.3.0)\n",
            "Installing collected packages: ply, symengine, rustworkx, pbr, dill, stevedore, qiskit-terra, qiskit\n",
            "Successfully installed dill-0.3.7 pbr-6.0.0 ply-3.11 qiskit-0.45.1 qiskit-terra-0.45.1 rustworkx-0.13.2 stevedore-5.1.0 symengine-0.11.0\n"
          ]
        }
      ]
    },
    {
      "cell_type": "code",
      "execution_count": 3,
      "metadata": {
        "colab": {
          "base_uri": "https://localhost:8080/",
          "height": 448
        },
        "id": "AZQ8j2iNUcth",
        "outputId": "3f1d231b-21f7-4fa6-c7bd-ed64339a7b00"
      },
      "outputs": [
        {
          "output_type": "execute_result",
          "data": {
            "text/plain": [
              "          ┌───────────────────────┐                      ┌───┐»\n",
              "q_0: ─|0>─┤ multiplex1_reverse_dg ├──────────────────────┤ X ├»\n",
              "          └──────┬─────────┬──────┘┌───┐┌──────────┐┌───┐└─┬─┘»\n",
              "q_1: ─|0>────────┤ Ry(π/4) ├───────┤ X ├┤ Ry(-π/4) ├┤ X ├──■──»\n",
              "                 ├─────────┴┐      └─┬─┘└──────────┘└─┬─┘     »\n",
              "q_2: ─|0>────────┤ R(π,π/2) ├────────■────────────────■───────»\n",
              "                 └──────────┘                                 »\n",
              "«     ┌───────────────────────────────┐┌───┐»\n",
              "«q_0: ┤ multiplex1_reverse_reverse_dg ├┤ X ├»\n",
              "«     └───────────────────────────────┘└─┬─┘»\n",
              "«q_1: ───────────────────────────────────┼──»\n",
              "«                                        │  »\n",
              "«q_2: ───────────────────────────────────■──»\n",
              "«                                           »\n",
              "«     ┌───────────────────────────────────────┐┌───┐»\n",
              "«q_0: ┤ multiplex1_reverse_reverse_reverse_dg ├┤ X ├»\n",
              "«     └───────────────────────────────────────┘└─┬─┘»\n",
              "«q_1: ───────────────────────────────────────────■──»\n",
              "«                                                   »\n",
              "«q_2: ──────────────────────────────────────────────»\n",
              "«                                                   »\n",
              "«     ┌───────────────────────────────┐┌───┐\n",
              "«q_0: ┤ multiplex1_reverse_reverse_dg ├┤ X ├\n",
              "«     └───────────────────────────────┘└─┬─┘\n",
              "«q_1: ───────────────────────────────────┼──\n",
              "«                                        │  \n",
              "«q_2: ───────────────────────────────────■──\n",
              "«                                           "
            ],
            "text/html": [
              "<pre style=\"word-wrap: normal;white-space: pre;background: #fff0;line-height: 1.1;font-family: &quot;Courier New&quot;,Courier,monospace\">          ┌───────────────────────┐                      ┌───┐»\n",
              "q_0: ─|0>─┤ multiplex1_reverse_dg ├──────────────────────┤ X ├»\n",
              "          └──────┬─────────┬──────┘┌───┐┌──────────┐┌───┐└─┬─┘»\n",
              "q_1: ─|0>────────┤ Ry(π/4) ├───────┤ X ├┤ Ry(-π/4) ├┤ X ├──■──»\n",
              "                 ├─────────┴┐      └─┬─┘└──────────┘└─┬─┘     »\n",
              "q_2: ─|0>────────┤ R(π,π/2) ├────────■────────────────■───────»\n",
              "                 └──────────┘                                 »\n",
              "«     ┌───────────────────────────────┐┌───┐»\n",
              "«q_0: ┤ multiplex1_reverse_reverse_dg ├┤ X ├»\n",
              "«     └───────────────────────────────┘└─┬─┘»\n",
              "«q_1: ───────────────────────────────────┼──»\n",
              "«                                        │  »\n",
              "«q_2: ───────────────────────────────────■──»\n",
              "«                                           »\n",
              "«     ┌───────────────────────────────────────┐┌───┐»\n",
              "«q_0: ┤ multiplex1_reverse_reverse_reverse_dg ├┤ X ├»\n",
              "«     └───────────────────────────────────────┘└─┬─┘»\n",
              "«q_1: ───────────────────────────────────────────■──»\n",
              "«                                                   »\n",
              "«q_2: ──────────────────────────────────────────────»\n",
              "«                                                   »\n",
              "«     ┌───────────────────────────────┐┌───┐\n",
              "«q_0: ┤ multiplex1_reverse_reverse_dg ├┤ X ├\n",
              "«     └───────────────────────────────┘└─┬─┘\n",
              "«q_1: ───────────────────────────────────┼──\n",
              "«                                        │  \n",
              "«q_2: ───────────────────────────────────■──\n",
              "«                                           </pre>"
            ]
          },
          "metadata": {},
          "execution_count": 3
        }
      ],
      "source": [
        "import math\n",
        "from qiskit import QuantumCircuit\n",
        "\n",
        "desired_state = [\n",
        "    0,\n",
        "    0,\n",
        "    0,\n",
        "    0,\n",
        "    0,\n",
        "    1 / math.sqrt(2),\n",
        "    0,\n",
        "    1 / math.sqrt(2)]\n",
        "\n",
        "qc = QuantumCircuit(3)\n",
        "qc.initialize(desired_state, [0,1,2])\n",
        "qc.decompose().decompose().decompose().decompose().decompose().draw()"
      ]
    },
    {
      "cell_type": "markdown",
      "metadata": {
        "id": "cHQUQwokUcti"
      },
      "source": [
        "This example illustrates a couple of disadvantages of basis encoding. While it is simple to understand, the state vectors can become quite sparse, and schemes to implement it are usually not efficient."
      ]
    },
    {
      "cell_type": "markdown",
      "metadata": {
        "formulas": {
          "_a-norm": {
            "meaning": "This is a normalization constant. We can calculate it from the inverse of the Euclidean (l2) norm of the datapoint vector.",
            "say": "A norm"
          }
        },
        "id": "TJKduNcOUctj"
      },
      "source": [
        "### Amplitude encoding\n",
        "\n",
        "Amplitude encoding encodes data into the amplitudes of a quantum state. It represents a normalised classical $N$-dimensional data point, $x$, as the amplitudes of a $n$-qubit quantum state, $|\\psi_x\\rangle$:\n",
        "\n",
        "$$|\\psi_x\\rangle = \\sum_{i=1}^N x_i |i\\rangle$$\n",
        "\n",
        "where $N = 2^n$, $x_i$ is the $i^{th}$ element of $x$ and $|i\\rangle$ is the $i^{th}$ computational basis state.\n",
        "\n",
        "To encode the classical dataset $\\mathscr{X}$ described above, we concatenate all $M$ $N$-dimensional data points into one amplitude vector, of length $N \\times M$:\n",
        "\n",
        "$$\\alpha=\\cssId{_a-norm}{A_{\\text{norm}}}(x_{1}^{(1)},...,x_{N}^{(1)},...,x_{1}^{(m)},...,x_{N}^{(m)},...,x_{1}^{(M)},...,x_{N}^{(M)})$$\n",
        "\n",
        "where $A_{\\text{norm}}$ is a normalisation constant, such that $|\\alpha|^2 = 1$. The dataset $\\mathscr{X}$ can now be represented in the computational basis as:\n",
        "\n",
        "$$|\\mathscr{X}\\rangle = \\sum_{i=1}^N \\alpha_i |i\\rangle$$\n",
        "\n",
        "where $\\alpha_i$ are elements of the amplitude vector and $|i\\rangle$ are the computational basis states. The number of amplitudes to be encoded is $N \\times M$.  As a system of $n$ qubits provides $2^n$ amplitudes, amplitude embedding requires $n \\ge \\mathrm{log}_2(NM)$ qubits.\n",
        "\n",
        "<!-- ::: q-block -->\n",
        "\n",
        "### Amplitude encoding\n",
        "\n",
        "    q-statevector-amplitude-encoding\n",
        "      p Change the values of the data points on the left, and see how amplitude encoding encodes these as a state vector on the right.\n",
        "\n",
        "<!-- ::: -->\n",
        "\n",
        "As an example, let's encode the dataset $\\mathscr{X}= \\{x^{(1)}=(1.5,0), x^{(2)}=(-2,3)\\}$ using amplitude encoding. Concatenating both data points and normalizing the resulting vector, we get:\n",
        "\n",
        "$$\\alpha = \\frac{1}{\\sqrt{15.25}}(1.5,0,-2,3)$$\n",
        "\n",
        "and the resulting 2-qubit quantum state would be:\n",
        "\n",
        "$$|\\mathscr{X}\\rangle = \\frac{1}{\\sqrt{15.25}}(1.5|00\\rangle-2|10\\rangle+3|11\\rangle)$$\n",
        "\n",
        "In the example above, the total number of elements of the amplitude vector, $N \\times M$, is a power of 2. When $N \\times M$ is not a power of 2, we can simply choose a value for $n$ such that $2^n\\geq MN$ and pad the amplitude vector with uninformative constants.\n",
        "\n",
        "Like in basis encoding, once we calculate what state will encode our dataset, in Qiskit we can use the `initialize` function to prepare it:"
      ]
    },
    {
      "cell_type": "code",
      "execution_count": 4,
      "metadata": {
        "colab": {
          "base_uri": "https://localhost:8080/",
          "height": 171
        },
        "id": "TPRJfJTeUctj",
        "outputId": "44b15fcb-b905-4548-ae98-bb23ecd986ef"
      },
      "outputs": [
        {
          "output_type": "execute_result",
          "data": {
            "text/plain": [
              "           ┌─────────────┐            ┌───┐┌──────────────┐┌─────────┐┌───┐»\n",
              "q_0: ─|0>──┤ Ry(0.98279) ├────────────┤ X ├┤ Ry(-0.98279) ├┤ Rz(π/2) ├┤ X ├»\n",
              "          ┌┴─────────────┴┐┌─────────┐└─┬─┘└──────────────┘└─────────┘└─┬─┘»\n",
              "q_1: ─|0>─┤ R(2.3531,π/2) ├┤ U1(π/2) ├──■───────────────────────────────■──»\n",
              "          └───────────────┘└─────────┘                                     »\n",
              "«     ┌──────────┐\n",
              "«q_0: ┤ Rz(-π/2) ├\n",
              "«     └──────────┘\n",
              "«q_1: ────────────\n",
              "«                 "
            ],
            "text/html": [
              "<pre style=\"word-wrap: normal;white-space: pre;background: #fff0;line-height: 1.1;font-family: &quot;Courier New&quot;,Courier,monospace\">           ┌─────────────┐            ┌───┐┌──────────────┐┌─────────┐┌───┐»\n",
              "q_0: ─|0>──┤ Ry(0.98279) ├────────────┤ X ├┤ Ry(-0.98279) ├┤ Rz(π/2) ├┤ X ├»\n",
              "          ┌┴─────────────┴┐┌─────────┐└─┬─┘└──────────────┘└─────────┘└─┬─┘»\n",
              "q_1: ─|0>─┤ R(2.3531,π/2) ├┤ U1(π/2) ├──■───────────────────────────────■──»\n",
              "          └───────────────┘└─────────┘                                     »\n",
              "«     ┌──────────┐\n",
              "«q_0: ┤ Rz(-π/2) ├\n",
              "«     └──────────┘\n",
              "«q_1: ────────────\n",
              "«                 </pre>"
            ]
          },
          "metadata": {},
          "execution_count": 4
        }
      ],
      "source": [
        "desired_state = [\n",
        "    1 / math.sqrt(15.25) * 1.5,\n",
        "    0,\n",
        "    1 / math.sqrt(15.25) * -2,\n",
        "    1 / math.sqrt(15.25) * 3]\n",
        "\n",
        "qc = QuantumCircuit(2)\n",
        "qc.initialize(desired_state, [0,1])\n",
        "\n",
        "qc.decompose().decompose().decompose().decompose().decompose().draw()"
      ]
    },
    {
      "cell_type": "markdown",
      "metadata": {
        "id": "WFLrqzn1Uctj"
      },
      "source": [
        "The advantage of amplitude encoding is that it only requires $\\mathrm{log}_2(NM)$ qubits to encode. However, subsequent algorithms must operate on the amplitudes of a quantum state, and methods to prepare and measure the quantum states tend not to be efficient."
      ]
    },
    {
      "cell_type": "markdown",
      "metadata": {
        "formulas": {
          "_big-o-times-n": {
            "meaning": "This represents the tensor product operation over N qubits.",
            "say": "big o-times"
          },
          "_big-o-times-n2": {
            "meaning": "This represents the tensor product operation over N/2 qubits.",
            "say": "big o-times"
          }
        },
        "id": "sgVYs20pUctk"
      },
      "source": [
        "### Angle encoding\n",
        "\n",
        "Angle encoding encodes $N$ features into the rotation angles of $n$ qubits, where $N \\le n$. For example, the data point $x = (x_1,...,x_N)$ can be encoded as:\n",
        "\n",
        "$$\\cssId{_}{|x\\rangle} = \\class{_big-o-times-n}{\\bigotimes^N_{i=1}} \\cos(x_i)|0\\rangle + \\sin(x_i)|1\\rangle$$\n",
        "\n",
        "This is different from the previous two encoding methods, as it only encodes one data point at a time, rather than a whole dataset. It does, however, only require N qubits or less and a constant depth quantum circuit, making it amenable to current quantum hardware.\n",
        "\n",
        "We can specify angle encoding as a [unitary](gloss:unitary):\n",
        "\n",
        "$$ S_{x_j} = \\class{_big-o-times-n}{\\bigotimes_{i=1}^N} U(x_j^{(i)}) $$\n",
        "\n",
        "where:\n",
        "\n",
        "$$\n",
        "U(x_j^{(i)}) = \\begin{bmatrix} \\cos(x_j^{(i)}) & -\\sin(x_j^{(i)}) \\\\ \\sin(x_j^{(i)}) & \\cos(x_j^{(i)}) \\\\ \\end{bmatrix}\n",
        "$$\n",
        "\n",
        "Remembering that a single-qubit rotation around the $Y$-axis is:\n",
        "\n",
        "$$RY(\\theta) = \\exp(-i \\frac{\\theta}{2} Y) = \\begin{pmatrix} \\cos{\\frac{\\theta}{2}} & -\\sin{\\frac{\\theta}{2}} \\\\ \\sin{\\frac{\\theta}{2}} & \\cos{\\frac{\\theta}{2}} \\end{pmatrix} $$            \n",
        "            \n",
        "We note that $U(x_j^{(i)}) = RY(2x_j^{(i)})$, and as an example, encode the data point $x = (0, \\pi/4, \\pi/2)$ using Qiskit:"
      ]
    },
    {
      "cell_type": "code",
      "execution_count": 5,
      "metadata": {
        "colab": {
          "base_uri": "https://localhost:8080/",
          "height": 125
        },
        "id": "G8leXm3GUctk",
        "outputId": "9fcec133-0eb0-4510-f0f8-f7f158e2ecb3"
      },
      "outputs": [
        {
          "output_type": "execute_result",
          "data": {
            "text/plain": [
              "      ┌───────┐ \n",
              "q_0: ─┤ Ry(0) ├─\n",
              "     ┌┴───────┴┐\n",
              "q_1: ┤ Ry(π/2) ├\n",
              "     └┬───────┬┘\n",
              "q_2: ─┤ Ry(π) ├─\n",
              "      └───────┘ "
            ],
            "text/html": [
              "<pre style=\"word-wrap: normal;white-space: pre;background: #fff0;line-height: 1.1;font-family: &quot;Courier New&quot;,Courier,monospace\">      ┌───────┐ \n",
              "q_0: ─┤ Ry(0) ├─\n",
              "     ┌┴───────┴┐\n",
              "q_1: ┤ Ry(π/2) ├\n",
              "     └┬───────┬┘\n",
              "q_2: ─┤ Ry(π) ├─\n",
              "      └───────┘ </pre>"
            ]
          },
          "metadata": {},
          "execution_count": 5
        }
      ],
      "source": [
        "qc = QuantumCircuit(3)\n",
        "qc.ry(0, 0)\n",
        "qc.ry(2*math.pi/4, 1)\n",
        "qc.ry(2*math.pi/2, 2)\n",
        "qc.draw()"
      ]
    },
    {
      "cell_type": "markdown",
      "metadata": {
        "id": "jtHSegrbUctk"
      },
      "source": [
        "Dense angle encoding is a slight generalization of angle encoding, that encodes two features per qubit using the relative phase, where the data point $x = (x_1,...,x_N)$ can be encoded as:\n",
        "\n",
        "$$|x\\rangle = \\class{_big-o-times-n2}{\\bigotimes_{i=1}^{N/2}} \\cos(x_{2i-1})|0\\rangle + e^{i x_{2i}}\\sin(x_{2i-1})|1\\rangle$$\n",
        "\n",
        "Although the angle and dense angle encoding use sinusoids and exponentials, there is nothing special about these functions. We can easily abstract these to a general class of qubit encodings that use arbitrary functions, or define the encodings as arbitrary unitaries, implemented as parameterized quantum circuits."
      ]
    },
    {
      "cell_type": "markdown",
      "metadata": {
        "id": "swJmp3DxUctk"
      },
      "source": [
        "### Arbitrary encoding\n",
        "\n",
        "Arbitrary encoding encodes $N$ features as rotations on $N$ parameterized gates on $n$ qubits, where $n \\leq N$. Like angle encoding, it only encodes one data point at a time, rather than a whole dataset. It also uses a constant depth quantum circuit and $n \\leq N$ qubits, meaning it can be run on current quantum hardware."
      ]
    },
    {
      "cell_type": "markdown",
      "metadata": {
        "id": "qtqUUcnPUctl"
      },
      "source": [
        "For example, to use the Qiskit [`EfficientSU2`](https://qiskit.org/documentation/stubs/qiskit.circuit.library.EfficientSU2.html) circuit to encode 12 features, would only use 3 qubits:"
      ]
    },
    {
      "cell_type": "code",
      "execution_count": 6,
      "metadata": {
        "colab": {
          "base_uri": "https://localhost:8080/",
          "height": 125
        },
        "id": "TS229sB5Uctl",
        "outputId": "2e9660a4-067e-488d-bc36-025bd9a318ed"
      },
      "outputs": [
        {
          "output_type": "execute_result",
          "data": {
            "text/plain": [
              "     ┌──────────┐┌──────────┐ ░            ░ ┌──────────┐ ┌──────────┐\n",
              "q_0: ┤ Ry(θ[0]) ├┤ Rz(θ[3]) ├─░────────■───░─┤ Ry(θ[6]) ├─┤ Rz(θ[9]) ├\n",
              "     ├──────────┤├──────────┤ ░      ┌─┴─┐ ░ ├──────────┤┌┴──────────┤\n",
              "q_1: ┤ Ry(θ[1]) ├┤ Rz(θ[4]) ├─░───■──┤ X ├─░─┤ Ry(θ[7]) ├┤ Rz(θ[10]) ├\n",
              "     ├──────────┤├──────────┤ ░ ┌─┴─┐└───┘ ░ ├──────────┤├───────────┤\n",
              "q_2: ┤ Ry(θ[2]) ├┤ Rz(θ[5]) ├─░─┤ X ├──────░─┤ Ry(θ[8]) ├┤ Rz(θ[11]) ├\n",
              "     └──────────┘└──────────┘ ░ └───┘      ░ └──────────┘└───────────┘"
            ],
            "text/html": [
              "<pre style=\"word-wrap: normal;white-space: pre;background: #fff0;line-height: 1.1;font-family: &quot;Courier New&quot;,Courier,monospace\">     ┌──────────┐┌──────────┐ ░            ░ ┌──────────┐ ┌──────────┐\n",
              "q_0: ┤ Ry(θ[0]) ├┤ Rz(θ[3]) ├─░────────■───░─┤ Ry(θ[6]) ├─┤ Rz(θ[9]) ├\n",
              "     ├──────────┤├──────────┤ ░      ┌─┴─┐ ░ ├──────────┤┌┴──────────┤\n",
              "q_1: ┤ Ry(θ[1]) ├┤ Rz(θ[4]) ├─░───■──┤ X ├─░─┤ Ry(θ[7]) ├┤ Rz(θ[10]) ├\n",
              "     ├──────────┤├──────────┤ ░ ┌─┴─┐└───┘ ░ ├──────────┤├───────────┤\n",
              "q_2: ┤ Ry(θ[2]) ├┤ Rz(θ[5]) ├─░─┤ X ├──────░─┤ Ry(θ[8]) ├┤ Rz(θ[11]) ├\n",
              "     └──────────┘└──────────┘ ░ └───┘      ░ └──────────┘└───────────┘</pre>"
            ]
          },
          "metadata": {},
          "execution_count": 6
        }
      ],
      "source": [
        "from qiskit.circuit.library import EfficientSU2\n",
        "circuit = EfficientSU2(num_qubits=3, reps=1, insert_barriers=True)\n",
        "circuit.decompose().draw()"
      ]
    },
    {
      "cell_type": "markdown",
      "metadata": {
        "id": "qNe1BhvHUctl"
      },
      "source": [
        "Here we encode the data point $x = [0.1,0.2,0.3,0.4,0.5,0.6,0.7,0.8,0.9,1.0,1.1,1.2]$ with 12 features, using each of the parameterized gates to encode a different feature."
      ]
    },
    {
      "cell_type": "code",
      "execution_count": 7,
      "metadata": {
        "colab": {
          "base_uri": "https://localhost:8080/",
          "height": 179
        },
        "id": "chgsV3oMUctl",
        "outputId": "4d9d4f50-882b-445b-cbd1-bcdfb5785587"
      },
      "outputs": [
        {
          "output_type": "stream",
          "name": "stderr",
          "text": [
            "<ipython-input-7-ac2d3f76c5f6>:2: DeprecationWarning: The method ``qiskit.circuit.quantumcircuit.QuantumCircuit.bind_parameters()`` is deprecated as of qiskit 0.45.0. It will be removed no earlier than 3 months after the release date. Use assign_parameters() instead\n",
            "  encode = circuit.bind_parameters(x)\n"
          ]
        },
        {
          "output_type": "execute_result",
          "data": {
            "text/plain": [
              "     ┌─────────┐┌─────────┐ ░            ░ ┌─────────┐ ┌───────┐ \n",
              "q_0: ┤ Ry(0.1) ├┤ Rz(0.4) ├─░────────■───░─┤ Ry(0.7) ├─┤ Rz(1) ├─\n",
              "     ├─────────┤├─────────┤ ░      ┌─┴─┐ ░ ├─────────┤┌┴───────┴┐\n",
              "q_1: ┤ Ry(0.2) ├┤ Rz(0.5) ├─░───■──┤ X ├─░─┤ Ry(0.8) ├┤ Rz(1.1) ├\n",
              "     ├─────────┤├─────────┤ ░ ┌─┴─┐└───┘ ░ ├─────────┤├─────────┤\n",
              "q_2: ┤ Ry(0.3) ├┤ Rz(0.6) ├─░─┤ X ├──────░─┤ Ry(0.9) ├┤ Rz(1.2) ├\n",
              "     └─────────┘└─────────┘ ░ └───┘      ░ └─────────┘└─────────┘"
            ],
            "text/html": [
              "<pre style=\"word-wrap: normal;white-space: pre;background: #fff0;line-height: 1.1;font-family: &quot;Courier New&quot;,Courier,monospace\">     ┌─────────┐┌─────────┐ ░            ░ ┌─────────┐ ┌───────┐ \n",
              "q_0: ┤ Ry(0.1) ├┤ Rz(0.4) ├─░────────■───░─┤ Ry(0.7) ├─┤ Rz(1) ├─\n",
              "     ├─────────┤├─────────┤ ░      ┌─┴─┐ ░ ├─────────┤┌┴───────┴┐\n",
              "q_1: ┤ Ry(0.2) ├┤ Rz(0.5) ├─░───■──┤ X ├─░─┤ Ry(0.8) ├┤ Rz(1.1) ├\n",
              "     ├─────────┤├─────────┤ ░ ┌─┴─┐└───┘ ░ ├─────────┤├─────────┤\n",
              "q_2: ┤ Ry(0.3) ├┤ Rz(0.6) ├─░─┤ X ├──────░─┤ Ry(0.9) ├┤ Rz(1.2) ├\n",
              "     └─────────┘└─────────┘ ░ └───┘      ░ └─────────┘└─────────┘</pre>"
            ]
          },
          "metadata": {},
          "execution_count": 7
        }
      ],
      "source": [
        "x = [0.1, 0.2, 0.3, 0.4, 0.5, 0.6, 0.7, 0.8, 0.9, 1.0, 1.1, 1.2]\n",
        "encode = circuit.bind_parameters(x)\n",
        "encode.decompose().draw()"
      ]
    },
    {
      "cell_type": "markdown",
      "metadata": {
        "id": "0xUqK7BbUctl"
      },
      "source": [
        "The Qiskit [`ZZFeatureMap`](https://qiskit.org/documentation/stubs/qiskit.circuit.library.ZZFeatureMap.html) circuit with 3 qubits, only encodes a data point of 3 features, despite having 6 parameterized gates:"
      ]
    },
    {
      "cell_type": "code",
      "execution_count": 8,
      "metadata": {
        "colab": {
          "base_uri": "https://localhost:8080/",
          "height": 340
        },
        "id": "PtkpkFPkUctl",
        "outputId": "c08fb64c-8560-4e5b-e3a1-e12749eadf71"
      },
      "outputs": [
        {
          "output_type": "execute_result",
          "data": {
            "text/plain": [
              "     ┌───┐ ░ ┌─────────────┐                                               »\n",
              "q_0: ┤ H ├─░─┤ P(2.0*x[0]) ├──■────────────────────────────────────■────■──»\n",
              "     ├───┤ ░ ├─────────────┤┌─┴─┐┌──────────────────────────────┐┌─┴─┐  │  »\n",
              "q_1: ┤ H ├─░─┤ P(2.0*x[1]) ├┤ X ├┤ P(2.0*(π - x[0])*(π - x[1])) ├┤ X ├──┼──»\n",
              "     ├───┤ ░ ├─────────────┤└───┘└──────────────────────────────┘└───┘┌─┴─┐»\n",
              "q_2: ┤ H ├─░─┤ P(2.0*x[2]) ├──────────────────────────────────────────┤ X ├»\n",
              "     └───┘ ░ └─────────────┘                                          └───┘»\n",
              "«                                               »\n",
              "«q_0: ──────────────────────────────────■───────»\n",
              "«                                       │       »\n",
              "«q_1: ──────────────────────────────────┼────■──»\n",
              "«     ┌──────────────────────────────┐┌─┴─┐┌─┴─┐»\n",
              "«q_2: ┤ P(2.0*(π - x[0])*(π - x[2])) ├┤ X ├┤ X ├»\n",
              "«     └──────────────────────────────┘└───┘└───┘»\n",
              "«                                          \n",
              "«q_0: ─────────────────────────────────────\n",
              "«                                          \n",
              "«q_1: ──────────────────────────────────■──\n",
              "«     ┌──────────────────────────────┐┌─┴─┐\n",
              "«q_2: ┤ P(2.0*(π - x[1])*(π - x[2])) ├┤ X ├\n",
              "«     └──────────────────────────────┘└───┘"
            ],
            "text/html": [
              "<pre style=\"word-wrap: normal;white-space: pre;background: #fff0;line-height: 1.1;font-family: &quot;Courier New&quot;,Courier,monospace\">     ┌───┐ ░ ┌─────────────┐                                               »\n",
              "q_0: ┤ H ├─░─┤ P(2.0*x[0]) ├──■────────────────────────────────────■────■──»\n",
              "     ├───┤ ░ ├─────────────┤┌─┴─┐┌──────────────────────────────┐┌─┴─┐  │  »\n",
              "q_1: ┤ H ├─░─┤ P(2.0*x[1]) ├┤ X ├┤ P(2.0*(π - x[0])*(π - x[1])) ├┤ X ├──┼──»\n",
              "     ├───┤ ░ ├─────────────┤└───┘└──────────────────────────────┘└───┘┌─┴─┐»\n",
              "q_2: ┤ H ├─░─┤ P(2.0*x[2]) ├──────────────────────────────────────────┤ X ├»\n",
              "     └───┘ ░ └─────────────┘                                          └───┘»\n",
              "«                                               »\n",
              "«q_0: ──────────────────────────────────■───────»\n",
              "«                                       │       »\n",
              "«q_1: ──────────────────────────────────┼────■──»\n",
              "«     ┌──────────────────────────────┐┌─┴─┐┌─┴─┐»\n",
              "«q_2: ┤ P(2.0*(π - x[0])*(π - x[2])) ├┤ X ├┤ X ├»\n",
              "«     └──────────────────────────────┘└───┘└───┘»\n",
              "«                                          \n",
              "«q_0: ─────────────────────────────────────\n",
              "«                                          \n",
              "«q_1: ──────────────────────────────────■──\n",
              "«     ┌──────────────────────────────┐┌─┴─┐\n",
              "«q_2: ┤ P(2.0*(π - x[1])*(π - x[2])) ├┤ X ├\n",
              "«     └──────────────────────────────┘└───┘</pre>"
            ]
          },
          "metadata": {},
          "execution_count": 8
        }
      ],
      "source": [
        "from qiskit.circuit.library import ZZFeatureMap\n",
        "circuit = ZZFeatureMap(3, reps=1, insert_barriers=True)\n",
        "circuit.decompose().draw()"
      ]
    },
    {
      "cell_type": "code",
      "execution_count": 9,
      "metadata": {
        "colab": {
          "base_uri": "https://localhost:8080/",
          "height": 287
        },
        "id": "ouLwFnSHUctl",
        "outputId": "6099347c-43a8-4400-dd51-3da74c21b7df"
      },
      "outputs": [
        {
          "output_type": "stream",
          "name": "stderr",
          "text": [
            "<ipython-input-9-4ba4d44c2a2d>:2: DeprecationWarning: The method ``qiskit.circuit.quantumcircuit.QuantumCircuit.bind_parameters()`` is deprecated as of qiskit 0.45.0. It will be removed no earlier than 3 months after the release date. Use assign_parameters() instead\n",
            "  encode = circuit.bind_parameters(x)\n"
          ]
        },
        {
          "output_type": "execute_result",
          "data": {
            "text/plain": [
              "     ┌───┐ ░ ┌────────┐                                                   »\n",
              "q_0: ┤ H ├─░─┤ P(0.2) ├──■─────────────────■────■─────────────────■───────»\n",
              "     ├───┤ ░ ├────────┤┌─┴─┐┌───────────┐┌─┴─┐  │                 │       »\n",
              "q_1: ┤ H ├─░─┤ P(0.4) ├┤ X ├┤ P(17.894) ├┤ X ├──┼─────────────────┼────■──»\n",
              "     ├───┤ ░ ├────────┤└───┘└───────────┘└───┘┌─┴─┐┌───────────┐┌─┴─┐┌─┴─┐»\n",
              "q_2: ┤ H ├─░─┤ P(0.6) ├───────────────────────┤ X ├┤ P(17.286) ├┤ X ├┤ X ├»\n",
              "     └───┘ ░ └────────┘                       └───┘└───────────┘└───┘└───┘»\n",
              "«                       \n",
              "«q_0: ──────────────────\n",
              "«                       \n",
              "«q_1: ───────────────■──\n",
              "«     ┌───────────┐┌─┴─┐\n",
              "«q_2: ┤ P(16.718) ├┤ X ├\n",
              "«     └───────────┘└───┘"
            ],
            "text/html": [
              "<pre style=\"word-wrap: normal;white-space: pre;background: #fff0;line-height: 1.1;font-family: &quot;Courier New&quot;,Courier,monospace\">     ┌───┐ ░ ┌────────┐                                                   »\n",
              "q_0: ┤ H ├─░─┤ P(0.2) ├──■─────────────────■────■─────────────────■───────»\n",
              "     ├───┤ ░ ├────────┤┌─┴─┐┌───────────┐┌─┴─┐  │                 │       »\n",
              "q_1: ┤ H ├─░─┤ P(0.4) ├┤ X ├┤ P(17.894) ├┤ X ├──┼─────────────────┼────■──»\n",
              "     ├───┤ ░ ├────────┤└───┘└───────────┘└───┘┌─┴─┐┌───────────┐┌─┴─┐┌─┴─┐»\n",
              "q_2: ┤ H ├─░─┤ P(0.6) ├───────────────────────┤ X ├┤ P(17.286) ├┤ X ├┤ X ├»\n",
              "     └───┘ ░ └────────┘                       └───┘└───────────┘└───┘└───┘»\n",
              "«                       \n",
              "«q_0: ──────────────────\n",
              "«                       \n",
              "«q_1: ───────────────■──\n",
              "«     ┌───────────┐┌─┴─┐\n",
              "«q_2: ┤ P(16.718) ├┤ X ├\n",
              "«     └───────────┘└───┘</pre>"
            ]
          },
          "metadata": {},
          "execution_count": 9
        }
      ],
      "source": [
        "x = [0.1, 0.2, 0.3]\n",
        "encode = circuit.bind_parameters(x)\n",
        "encode.decompose().draw()"
      ]
    },
    {
      "cell_type": "markdown",
      "metadata": {
        "id": "wJwWP1yDUctm"
      },
      "source": [
        "<!-- ::: q-block.exercise -->\n",
        "\n",
        "### Quick quiz\n",
        "\n",
        "<!-- ::: q-quiz(goal=\"qml-encoding-0\") -->\n",
        "\n",
        "<!-- ::: .question -->\n",
        "\n",
        "A parameterized quantum circuit has 16 parameters. What is the largest number of features it can encode?\n",
        "\n",
        "<!-- ::: -->\n",
        "\n",
        "<!-- ::: .option -->\n",
        "\n",
        "1. 4\n",
        "\n",
        "<!-- ::: -->\n",
        "\n",
        "<!-- ::: .option -->\n",
        "\n",
        "2. 8\n",
        "\n",
        "<!-- ::: -->\n",
        "\n",
        "<!-- ::: .option(correct) -->\n",
        "\n",
        "3. 16\n",
        "\n",
        "<!-- ::: -->\n",
        "\n",
        "<!-- ::: .option -->\n",
        "\n",
        "3. 32\n",
        "\n",
        "<!-- ::: -->\n",
        "\n",
        "<!-- ::: -->\n",
        "\n",
        "<!-- ::: -->"
      ]
    },
    {
      "cell_type": "markdown",
      "metadata": {
        "formulas": {
          "big-o-times": {
            "meaning": "In the same way a big sigma (Σ) represents summation over different values, this big 'otimes' means we take the Kronecker product of the formula to it's right for a set of values.",
            "say": "big o-times"
          }
        },
        "id": "YEB7ByLsUctm"
      },
      "source": [
        "The performance of different parameterized quantum circuits on different types of data is an active area of investigation.\n",
        "\n",
        "<div style=\"display: none\">\n",
        "\n",
        "$$\\cssId{big-o-times}{\\bigotimes}$$\n",
        "\n",
        "</div>"
      ]
    },
    {
      "cell_type": "markdown",
      "metadata": {
        "id": "jjovFoACUctm"
      },
      "source": [
        "## References\n",
        "\n",
        "1.  Maria Schuld and Francesco Petruccione, *Supervised Learning with Quantum Computers*, Springer 2018, [doi:10.1007/978-3-319-96424-9](https://www.springer.com/gp/book/9783319964232).\n",
        "2. Ryan LaRose and Brian Coyle, *Robust data encodings for quantum classifiers*, Physical Review A 102, 032420 (2020), [doi:10.1103/PhysRevA.102.032420](https://journals.aps.org/pra/abstract/10.1103/PhysRevA.102.032420), [arXiv:2003.01695](https://arxiv.org/abs/2003.01695)."
      ]
    },
    {
      "cell_type": "code",
      "execution_count": 10,
      "metadata": {
        "colab": {
          "base_uri": "https://localhost:8080/",
          "height": 273
        },
        "id": "mFswIG77Uctm",
        "outputId": "ed1ac1e7-6c9f-4f0b-8289-9f35c1b97563"
      },
      "outputs": [
        {
          "output_type": "display_data",
          "data": {
            "text/plain": [
              "<IPython.core.display.HTML object>"
            ],
            "text/html": [
              "<h3>Version Information</h3><table><tr><th>Software</th><th>Version</th></tr><tr><td><code>qiskit</code></td><td>0.45.1</td></tr><tr><th colspan='2'>System information</th></tr><tr><td>Python version</td><td>3.10.12</td></tr><tr><td>Python compiler</td><td>GCC 11.4.0</td></tr><tr><td>Python build</td><td>main, Nov 20 2023 15:14:05</td></tr><tr><td>OS</td><td>Linux</td></tr><tr><td>CPUs</td><td>1</td></tr><tr><td>Memory (Gb)</td><td>12.6783447265625</td></tr><tr><td colspan='2'>Tue Dec 05 04:54:56 2023 UTC</td></tr></table>"
            ]
          },
          "metadata": {}
        }
      ],
      "source": [
        "# pylint: disable=unused-import\n",
        "import qiskit.tools.jupyter\n",
        "%qiskit_version_table"
      ]
    }
  ],
  "metadata": {
    "kernelspec": {
      "display_name": "Python 3",
      "language": "python",
      "name": "python3"
    },
    "language_info": {
      "codemirror_mode": {
        "name": "ipython",
        "version": 3
      },
      "file_extension": ".py",
      "mimetype": "text/x-python",
      "name": "python",
      "nbconvert_exporter": "python",
      "pygments_lexer": "ipython3",
      "version": "3.9"
    },
    "colab": {
      "provenance": [],
      "include_colab_link": true
    }
  },
  "nbformat": 4,
  "nbformat_minor": 0
}