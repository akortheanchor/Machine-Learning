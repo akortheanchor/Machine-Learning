{
  "cells": [
    {
      "cell_type": "markdown",
      "metadata": {
        "id": "view-in-github",
        "colab_type": "text"
      },
      "source": [
        "<a href=\"https://colab.research.google.com/github/akortheanchor/Machine-Learning/blob/master/Akor_QKA.ipynb\" target=\"_parent\"><img src=\"https://colab.research.google.com/assets/colab-badge.svg\" alt=\"Open In Colab\"/></a>"
      ]
    },
    {
      "cell_type": "code",
      "source": [
        "!pip install qiskit qiskit_machine_learning"
      ],
      "metadata": {
        "colab": {
          "base_uri": "https://localhost:8080/"
        },
        "id": "1kwJIe8ukWy2",
        "outputId": "1b4fc14a-d3f0-405f-daa9-c05d5b29fd86"
      },
      "id": "1kwJIe8ukWy2",
      "execution_count": 1,
      "outputs": [
        {
          "output_type": "stream",
          "name": "stdout",
          "text": [
            "Collecting qiskit\n",
            "  Downloading qiskit-0.45.1-py3-none-any.whl (9.6 kB)\n",
            "Collecting qiskit_machine_learning\n",
            "  Downloading qiskit_machine_learning-0.7.1-py3-none-any.whl (96 kB)\n",
            "\u001b[2K     \u001b[90m━━━━━━━━━━━━━━━━━━━━━━━━━━━━━━━━━━━━━━━━\u001b[0m \u001b[32m96.8/96.8 kB\u001b[0m \u001b[31m2.2 MB/s\u001b[0m eta \u001b[36m0:00:00\u001b[0m\n",
            "\u001b[?25hCollecting qiskit-terra==0.45.1 (from qiskit)\n",
            "  Downloading qiskit_terra-0.45.1-cp38-abi3-manylinux_2_17_x86_64.manylinux2014_x86_64.whl (6.3 MB)\n",
            "\u001b[2K     \u001b[90m━━━━━━━━━━━━━━━━━━━━━━━━━━━━━━━━━━━━━━━━\u001b[0m \u001b[32m6.3/6.3 MB\u001b[0m \u001b[31m36.5 MB/s\u001b[0m eta \u001b[36m0:00:00\u001b[0m\n",
            "\u001b[?25hCollecting rustworkx>=0.13.0 (from qiskit-terra==0.45.1->qiskit)\n",
            "  Downloading rustworkx-0.13.2-cp310-cp310-manylinux_2_17_x86_64.manylinux2014_x86_64.whl (2.0 MB)\n",
            "\u001b[2K     \u001b[90m━━━━━━━━━━━━━━━━━━━━━━━━━━━━━━━━━━━━━━━━\u001b[0m \u001b[32m2.0/2.0 MB\u001b[0m \u001b[31m48.7 MB/s\u001b[0m eta \u001b[36m0:00:00\u001b[0m\n",
            "\u001b[?25hRequirement already satisfied: numpy<2,>=1.17 in /usr/local/lib/python3.10/dist-packages (from qiskit-terra==0.45.1->qiskit) (1.23.5)\n",
            "Collecting ply>=3.10 (from qiskit-terra==0.45.1->qiskit)\n",
            "  Downloading ply-3.11-py2.py3-none-any.whl (49 kB)\n",
            "\u001b[2K     \u001b[90m━━━━━━━━━━━━━━━━━━━━━━━━━━━━━━━━━━━━━━━━\u001b[0m \u001b[32m49.6/49.6 kB\u001b[0m \u001b[31m4.6 MB/s\u001b[0m eta \u001b[36m0:00:00\u001b[0m\n",
            "\u001b[?25hRequirement already satisfied: psutil>=5 in /usr/local/lib/python3.10/dist-packages (from qiskit-terra==0.45.1->qiskit) (5.9.5)\n",
            "Requirement already satisfied: scipy>=1.5 in /usr/local/lib/python3.10/dist-packages (from qiskit-terra==0.45.1->qiskit) (1.11.4)\n",
            "Requirement already satisfied: sympy>=1.3 in /usr/local/lib/python3.10/dist-packages (from qiskit-terra==0.45.1->qiskit) (1.12)\n",
            "Collecting dill>=0.3 (from qiskit-terra==0.45.1->qiskit)\n",
            "  Downloading dill-0.3.7-py3-none-any.whl (115 kB)\n",
            "\u001b[2K     \u001b[90m━━━━━━━━━━━━━━━━━━━━━━━━━━━━━━━━━━━━━━━━\u001b[0m \u001b[32m115.3/115.3 kB\u001b[0m \u001b[31m8.7 MB/s\u001b[0m eta \u001b[36m0:00:00\u001b[0m\n",
            "\u001b[?25hRequirement already satisfied: python-dateutil>=2.8.0 in /usr/local/lib/python3.10/dist-packages (from qiskit-terra==0.45.1->qiskit) (2.8.2)\n",
            "Collecting stevedore>=3.0.0 (from qiskit-terra==0.45.1->qiskit)\n",
            "  Downloading stevedore-5.1.0-py3-none-any.whl (49 kB)\n",
            "\u001b[2K     \u001b[90m━━━━━━━━━━━━━━━━━━━━━━━━━━━━━━━━━━━━━━━━\u001b[0m \u001b[32m49.6/49.6 kB\u001b[0m \u001b[31m3.8 MB/s\u001b[0m eta \u001b[36m0:00:00\u001b[0m\n",
            "\u001b[?25hCollecting symengine!=0.10.0,>=0.9 (from qiskit-terra==0.45.1->qiskit)\n",
            "  Downloading symengine-0.11.0-cp310-cp310-manylinux_2_12_x86_64.manylinux2010_x86_64.whl (39.4 MB)\n",
            "\u001b[2K     \u001b[90m━━━━━━━━━━━━━━━━━━━━━━━━━━━━━━━━━━━━━━━━\u001b[0m \u001b[32m39.4/39.4 MB\u001b[0m \u001b[31m16.3 MB/s\u001b[0m eta \u001b[36m0:00:00\u001b[0m\n",
            "\u001b[?25hRequirement already satisfied: typing-extensions in /usr/local/lib/python3.10/dist-packages (from qiskit-terra==0.45.1->qiskit) (4.5.0)\n",
            "Collecting qiskit-algorithms>=0.2.0 (from qiskit_machine_learning)\n",
            "  Downloading qiskit_algorithms-0.2.1-py3-none-any.whl (306 kB)\n",
            "\u001b[2K     \u001b[90m━━━━━━━━━━━━━━━━━━━━━━━━━━━━━━━━━━━━━━━━\u001b[0m \u001b[32m306.9/306.9 kB\u001b[0m \u001b[31m25.8 MB/s\u001b[0m eta \u001b[36m0:00:00\u001b[0m\n",
            "\u001b[?25hRequirement already satisfied: scikit-learn>=1.2.0 in /usr/local/lib/python3.10/dist-packages (from qiskit_machine_learning) (1.2.2)\n",
            "Collecting fastdtw (from qiskit_machine_learning)\n",
            "  Downloading fastdtw-0.3.4.tar.gz (133 kB)\n",
            "\u001b[2K     \u001b[90m━━━━━━━━━━━━━━━━━━━━━━━━━━━━━━━━━━━━━━━━\u001b[0m \u001b[32m133.4/133.4 kB\u001b[0m \u001b[31m14.0 MB/s\u001b[0m eta \u001b[36m0:00:00\u001b[0m\n",
            "\u001b[?25h  Preparing metadata (setup.py) ... \u001b[?25l\u001b[?25hdone\n",
            "Requirement already satisfied: setuptools>=40.1.0 in /usr/local/lib/python3.10/dist-packages (from qiskit_machine_learning) (67.7.2)\n",
            "Requirement already satisfied: joblib>=1.1.1 in /usr/local/lib/python3.10/dist-packages (from scikit-learn>=1.2.0->qiskit_machine_learning) (1.3.2)\n",
            "Requirement already satisfied: threadpoolctl>=2.0.0 in /usr/local/lib/python3.10/dist-packages (from scikit-learn>=1.2.0->qiskit_machine_learning) (3.2.0)\n",
            "Requirement already satisfied: six>=1.5 in /usr/local/lib/python3.10/dist-packages (from python-dateutil>=2.8.0->qiskit-terra==0.45.1->qiskit) (1.16.0)\n",
            "Collecting pbr!=2.1.0,>=2.0.0 (from stevedore>=3.0.0->qiskit-terra==0.45.1->qiskit)\n",
            "  Downloading pbr-6.0.0-py2.py3-none-any.whl (107 kB)\n",
            "\u001b[2K     \u001b[90m━━━━━━━━━━━━━━━━━━━━━━━━━━━━━━━━━━━━━━━━\u001b[0m \u001b[32m107.5/107.5 kB\u001b[0m \u001b[31m9.6 MB/s\u001b[0m eta \u001b[36m0:00:00\u001b[0m\n",
            "\u001b[?25hRequirement already satisfied: mpmath>=0.19 in /usr/local/lib/python3.10/dist-packages (from sympy>=1.3->qiskit-terra==0.45.1->qiskit) (1.3.0)\n",
            "Building wheels for collected packages: fastdtw\n",
            "  Building wheel for fastdtw (setup.py) ... \u001b[?25l\u001b[?25hdone\n",
            "  Created wheel for fastdtw: filename=fastdtw-0.3.4-cp310-cp310-linux_x86_64.whl size=512576 sha256=6105abde87c772348d9ea6c9053ecf707d247ea8b34ac9042777f7c2f691b8d2\n",
            "  Stored in directory: /root/.cache/pip/wheels/73/c8/f7/c25448dab74c3acf4848bc25d513c736bb93910277e1528ef4\n",
            "Successfully built fastdtw\n",
            "Installing collected packages: ply, symengine, rustworkx, pbr, fastdtw, dill, stevedore, qiskit-terra, qiskit-algorithms, qiskit, qiskit_machine_learning\n",
            "Successfully installed dill-0.3.7 fastdtw-0.3.4 pbr-6.0.0 ply-3.11 qiskit-0.45.1 qiskit-algorithms-0.2.1 qiskit-terra-0.45.1 qiskit_machine_learning-0.7.1 rustworkx-0.13.2 stevedore-5.1.0 symengine-0.11.0\n"
          ]
        }
      ]
    },
    {
      "cell_type": "markdown",
      "id": "38df9aa0",
      "metadata": {
        "id": "38df9aa0"
      },
      "source": [
        "# Quantum Kernel Training for Machine Learning Applications\n",
        "\n",
        "In this tutorial, we will train a quantum kernel on a labeled dataset for a machine learning application. To illustrate the basic steps, we will use Quantum Kernel Alignment (QKA) for a binary classification task. QKA is a technique that iteratively adapts a parametrized quantum kernel to a dataset while converging to the maximum SVM margin. More information about QKA can be found in the preprint, [\"Covariant quantum kernels for data with group structure.\"](https://arxiv.org/abs/2105.03406)\n",
        "\n",
        "\n",
        "The entry point to training a quantum kernel is the `QuantumKernelTrainer` class. The basic steps are:\n",
        "\n",
        "1. Prepare the dataset\n",
        "2. Define the quantum feature map\n",
        "3. Set up an instance of `TrainableKernel` and `QuantumKernelTrainer` objects\n",
        "4. Use the `QuantumKernelTrainer.fit` method to train the kernel parameters on the dataset\n",
        "5. Pass the trained quantum kernel to a machine learning model"
      ]
    },
    {
      "cell_type": "markdown",
      "id": "ed6aafa9",
      "metadata": {
        "id": "ed6aafa9"
      },
      "source": [
        "### Import Local, External, and Qiskit Packages and define a callback class for our optimizer"
      ]
    },
    {
      "cell_type": "code",
      "execution_count": 4,
      "id": "1a646351",
      "metadata": {
        "id": "1a646351"
      },
      "outputs": [],
      "source": [
        "# External imports\n",
        "from pylab import cm\n",
        "from sklearn import metrics\n",
        "import numpy as np\n",
        "import matplotlib\n",
        "import matplotlib.pyplot as plt\n",
        "\n",
        "# Qiskit imports\n",
        "from qiskit import QuantumCircuit\n",
        "from qiskit.circuit import ParameterVector\n",
        "from qiskit.visualization import circuit_drawer\n",
        "from qiskit.algorithms.optimizers import SPSA\n",
        "from qiskit.circuit.library import ZZFeatureMap\n",
        "from qiskit_machine_learning.kernels import TrainableFidelityQuantumKernel\n",
        "from qiskit_machine_learning.kernels.algorithms import QuantumKernelTrainer\n",
        "from qiskit_machine_learning.algorithms import QSVC\n",
        "from qiskit_machine_learning.datasets import ad_hoc_data\n",
        "from qiskit_algorithms.utils import algorithm_globals\n",
        "\n",
        "algorithm_globals.random_seed = 42\n",
        "\n",
        "class QKTCallback:\n",
        "    \"\"\"Callback wrapper class.\"\"\"\n",
        "\n",
        "    def __init__(self) -> None:\n",
        "        self._data = [[] for i in range(5)]\n",
        "\n",
        "    def callback(self, x0, x1=None, x2=None, x3=None, x4=None):\n",
        "        \"\"\"\n",
        "        Args:\n",
        "            x0: number of function evaluations\n",
        "            x1: the parameters\n",
        "            x2: the function value\n",
        "            x3: the stepsize\n",
        "            x4: whether the step was accepted\n",
        "        \"\"\"\n",
        "        self._data[0].append(x0)\n",
        "        self._data[1].append(x1)\n",
        "        self._data[2].append(x2)\n",
        "        self._data[3].append(x3)\n",
        "        self._data[4].append(x4)\n",
        "\n",
        "    def get_callback_data(self):\n",
        "        return self._data\n",
        "\n",
        "    def clear_callback_data(self):\n",
        "        self._data = [[] for i in range(5)]"
      ]
    },
    {
      "cell_type": "markdown",
      "id": "39535c04",
      "metadata": {
        "id": "39535c04"
      },
      "source": [
        "### Prepare the Dataset\n",
        "\n",
        "In this guide, we will use Qiskit Machine Learning's `ad_hoc.py` dataset to demonstrate the kernel training process. See the documentation [here](https://qiskit.org/ecosystem/machine-learning/stubs/qiskit_machine_learning.datasets.ad_hoc_data.html)."
      ]
    },
    {
      "cell_type": "code",
      "execution_count": 5,
      "id": "2311cff1",
      "metadata": {
        "colab": {
          "base_uri": "https://localhost:8080/",
          "height": 468
        },
        "id": "2311cff1",
        "outputId": "03149a78-a219-4d25-c841-e045c188a53e"
      },
      "outputs": [
        {
          "output_type": "display_data",
          "data": {
            "text/plain": [
              "<Figure size 500x500 with 1 Axes>"
            ],
            "image/png": "[encoded data removed]"
          },
          "metadata": {}
        }
      ],
      "source": [
        "adhoc_dimension = 2\n",
        "X_train, y_train, X_test, y_test, adhoc_total = ad_hoc_data(\n",
        "    training_size=20,\n",
        "    test_size=5,\n",
        "    n=adhoc_dimension,\n",
        "    gap=0.3,\n",
        "    plot_data=False,\n",
        "    one_hot=False,\n",
        "    include_sample_total=True,\n",
        ")\n",
        "\n",
        "plt.figure(figsize=(5, 5))\n",
        "plt.ylim(0, 2 * np.pi)\n",
        "plt.xlim(0, 2 * np.pi)\n",
        "plt.imshow(\n",
        "    np.asmatrix(adhoc_total).T,\n",
        "    interpolation=\"nearest\",\n",
        "    origin=\"lower\",\n",
        "    cmap=\"RdBu\",\n",
        "    extent=[0, 2 * np.pi, 0, 2 * np.pi],\n",
        ")\n",
        "\n",
        "plt.scatter(\n",
        "    X_train[np.where(y_train[:] == 0), 0],\n",
        "    X_train[np.where(y_train[:] == 0), 1],\n",
        "    marker=\"s\",\n",
        "    facecolors=\"w\",\n",
        "    edgecolors=\"b\",\n",
        "    label=\"A train\",\n",
        ")\n",
        "plt.scatter(\n",
        "    X_train[np.where(y_train[:] == 1), 0],\n",
        "    X_train[np.where(y_train[:] == 1), 1],\n",
        "    marker=\"o\",\n",
        "    facecolors=\"w\",\n",
        "    edgecolors=\"r\",\n",
        "    label=\"B train\",\n",
        ")\n",
        "plt.scatter(\n",
        "    X_test[np.where(y_test[:] == 0), 0],\n",
        "    X_test[np.where(y_test[:] == 0), 1],\n",
        "    marker=\"s\",\n",
        "    facecolors=\"b\",\n",
        "    edgecolors=\"w\",\n",
        "    label=\"A test\",\n",
        ")\n",
        "plt.scatter(\n",
        "    X_test[np.where(y_test[:] == 1), 0],\n",
        "    X_test[np.where(y_test[:] == 1), 1],\n",
        "    marker=\"o\",\n",
        "    facecolors=\"r\",\n",
        "    edgecolors=\"w\",\n",
        "    label=\"B test\",\n",
        ")\n",
        "\n",
        "plt.legend(bbox_to_anchor=(1.05, 1), loc=\"upper left\", borderaxespad=0.0)\n",
        "plt.title(\"Ad hoc dataset for classification\")\n",
        "\n",
        "plt.show()"
      ]
    },
    {
      "cell_type": "markdown",
      "id": "41a439be",
      "metadata": {
        "id": "41a439be"
      },
      "source": [
        "### Define the Quantum Feature Map\n",
        "\n",
        "Next, we set up the quantum feature map, which encodes classical data into the quantum state space. Here, we use a `QuantumCircuit` to set up a trainable rotation layer and a `ZZFeatureMap` from `Qiskit` to represent the input data."
      ]
    },
    {
      "cell_type": "code",
      "execution_count": 6,
      "id": "60b58ede",
      "metadata": {
        "colab": {
          "base_uri": "https://localhost:8080/"
        },
        "id": "60b58ede",
        "outputId": "6fca0664-f6ac-492f-a65e-5d615544d933"
      },
      "outputs": [
        {
          "output_type": "stream",
          "name": "stdout",
          "text": [
            "     ┌──────────┐┌──────────────────────────┐\n",
            "q_0: ┤ Ry(θ[0]) ├┤0                         ├\n",
            "     ├──────────┤│  ZZFeatureMap(x[0],x[1]) │\n",
            "q_1: ┤ Ry(θ[0]) ├┤1                         ├\n",
            "     └──────────┘└──────────────────────────┘\n",
            "Trainable parameters: θ, ['θ[0]']\n"
          ]
        }
      ],
      "source": [
        "# Create a rotational layer to train. We will rotate each qubit the same amount.\n",
        "training_params = ParameterVector(\"θ\", 1)\n",
        "fm0 = QuantumCircuit(2)\n",
        "fm0.ry(training_params[0], 0)\n",
        "fm0.ry(training_params[0], 1)\n",
        "\n",
        "# Use ZZFeatureMap to represent input data\n",
        "fm1 = ZZFeatureMap(2)\n",
        "\n",
        "# Create the feature map, composed of our two circuits\n",
        "fm = fm0.compose(fm1)\n",
        "\n",
        "print(circuit_drawer(fm))\n",
        "print(f\"Trainable parameters: {training_params}\")"
      ]
    },
    {
      "cell_type": "markdown",
      "id": "54ae41ca",
      "metadata": {
        "id": "54ae41ca"
      },
      "source": [
        "### Set Up the Quantum Kernel and Quantum Kernel Trainer\n",
        "\n",
        "To train the quantum kernel, we will use an instance of `TrainableFidelityQuantumKernel` (holds the feature map and its parameters) and `QuantumKernelTrainer` (manages the training process).\n",
        "\n",
        "We will train using the Quantum Kernel Alignment technique by selecting the kernel loss function, `SVCLoss`, as input to the `QuantumKernelTrainer`. Since this is a Qiskit-supported loss, we can use the string, `\"svc_loss\"`; however, note that default settings are used when passing the loss as a string. For custom settings, instantiate explicitly with the desired options, and pass the `KernelLoss` object to the `QuantumKernelTrainer`.\n",
        "\n",
        "We will select SPSA as the optimizer and initialize the trainable parameter with the `initial_point` argument. Note: The length of the list passed as the `initial_point` argument must equal the number of trainable parameters in the feature map."
      ]
    },
    {
      "cell_type": "code",
      "execution_count": 7,
      "id": "a190efef",
      "metadata": {
        "id": "a190efef"
      },
      "outputs": [],
      "source": [
        "# Instantiate quantum kernel\n",
        "quant_kernel = TrainableFidelityQuantumKernel(feature_map=fm, training_parameters=training_params)\n",
        "\n",
        "# Set up the optimizer\n",
        "cb_qkt = QKTCallback()\n",
        "spsa_opt = SPSA(maxiter=10, callback=cb_qkt.callback, learning_rate=0.05, perturbation=0.05)\n",
        "\n",
        "# Instantiate a quantum kernel trainer.\n",
        "qkt = QuantumKernelTrainer(\n",
        "    quantum_kernel=quant_kernel, loss=\"svc_loss\", optimizer=spsa_opt, initial_point=[np.pi / 2]\n",
        ")"
      ]
    },
    {
      "cell_type": "markdown",
      "id": "b6f4fd48",
      "metadata": {
        "id": "b6f4fd48"
      },
      "source": [
        "### Train the Quantum Kernel\n",
        "\n",
        "To train the quantum kernel on the dataset (samples and labels), we call the `fit` method of `QuantumKernelTrainer`.\n",
        "\n",
        "The output of `QuantumKernelTrainer.fit` is a `QuantumKernelTrainerResult` object. The results object contains the following class fields:\n",
        "\n",
        " - `optimal_parameters`: A dictionary containing {parameter: optimal value} pairs\n",
        " - `optimal_point`: The optimal parameter value found in training\n",
        " - `optimal_value`: The value of the loss function at the optimal point\n",
        " - `optimizer_evals`: The number of evaluations performed by the optimizer\n",
        " - `optimizer_time`: The amount of time taken to perform optimization\n",
        " - `quantum_kernel`: A `TrainableKernel` object with optimal values bound to the feature map"
      ]
    },
    {
      "cell_type": "code",
      "execution_count": 8,
      "id": "9d26212c",
      "metadata": {
        "colab": {
          "base_uri": "https://localhost:8080/"
        },
        "id": "9d26212c",
        "outputId": "1232fa10-eef2-454a-ef0e-4491e4c68071"
      },
      "outputs": [
        {
          "output_type": "stream",
          "name": "stdout",
          "text": [
            "{   'optimal_circuit': None,\n",
            "    'optimal_parameters': {ParameterVectorElement(θ[0]): 2.5667285977763017},\n",
            "    'optimal_point': array([2.5667286]),\n",
            "    'optimal_value': 7.947196640304836,\n",
            "    'optimizer_evals': 30,\n",
            "    'optimizer_result': None,\n",
            "    'optimizer_time': None,\n",
            "    'quantum_kernel': <qiskit_machine_learning.kernels.trainable_fidelity_quantum_kernel.TrainableFidelityQuantumKernel object at 0x7aa6e2605060>}\n"
          ]
        }
      ],
      "source": [
        "# Train the kernel using QKT directly\n",
        "qka_results = qkt.fit(X_train, y_train)\n",
        "optimized_kernel = qka_results.quantum_kernel\n",
        "print(qka_results)"
      ]
    },
    {
      "cell_type": "markdown",
      "id": "5455be3c",
      "metadata": {
        "id": "5455be3c"
      },
      "source": [
        "### Fit and Test the Model\n",
        "\n",
        "We can pass the trained quantum kernel to a machine learning model, then fit the model and test on new data. Here, we will use Qiskit's `QSVC` for classification."
      ]
    },
    {
      "cell_type": "code",
      "execution_count": 9,
      "id": "e716655f",
      "metadata": {
        "colab": {
          "base_uri": "https://localhost:8080/"
        },
        "id": "e716655f",
        "outputId": "a8f71092-04e9-44d4-c29f-d6586f65a249"
      },
      "outputs": [
        {
          "output_type": "stream",
          "name": "stdout",
          "text": [
            "accuracy test: 0.7\n"
          ]
        }
      ],
      "source": [
        "# Use QSVC for classification\n",
        "qsvc = QSVC(quantum_kernel=optimized_kernel)\n",
        "\n",
        "# Fit the QSVC\n",
        "qsvc.fit(X_train, y_train)\n",
        "\n",
        "# Predict the labels\n",
        "labels_test = qsvc.predict(X_test)\n",
        "\n",
        "# Evalaute the test accuracy\n",
        "accuracy_test = metrics.balanced_accuracy_score(y_true=y_test, y_pred=labels_test)\n",
        "print(f\"accuracy test: {accuracy_test}\")"
      ]
    },
    {
      "cell_type": "markdown",
      "id": "9cd4cbf2",
      "metadata": {
        "id": "9cd4cbf2"
      },
      "source": [
        "### Visualize the Kernel Training Process\n",
        "\n",
        "From the callback data, we can plot how the loss evolves during the training process. We see it converges rapidly and reaches high test accuracy on this dataset with our choice of inputs.\n",
        "\n",
        "We can also display the final kernel matrix, which is a measure of similarity between the training samples."
      ]
    },
    {
      "cell_type": "code",
      "execution_count": 10,
      "id": "0cb85c46",
      "metadata": {
        "colab": {
          "base_uri": "https://localhost:8080/",
          "height": 477
        },
        "id": "0cb85c46",
        "outputId": "4d56d182-51a8-46c1-d8b2-07136d84c185"
      },
      "outputs": [
        {
          "output_type": "display_data",
          "data": {
            "text/plain": [
              "<Figure size 1400x500 with 2 Axes>"
            ],
            "image/png": "[encoded data removed]"
          },
          "metadata": {}
        }
      ],
      "source": [
        "plot_data = cb_qkt.get_callback_data()  # callback data\n",
        "K = optimized_kernel.evaluate(X_train)  # kernel matrix evaluated on the training samples\n",
        "\n",
        "plt.rcParams[\"font.size\"] = 20\n",
        "fig, ax = plt.subplots(1, 2, figsize=(14, 5))\n",
        "ax[0].plot([i + 1 for i in range(len(plot_data[0]))], np.array(plot_data[2]), c=\"k\", marker=\"o\")\n",
        "ax[0].set_xlabel(\"Iterations\")\n",
        "ax[0].set_ylabel(\"Loss\")\n",
        "ax[1].imshow(K, cmap=matplotlib.colormaps[\"bwr\"])\n",
        "fig.tight_layout()\n",
        "plt.show()"
      ]
    },
    {
      "cell_type": "code",
      "execution_count": 11,
      "id": "aa6e50bc",
      "metadata": {
        "id": "aa6e50bc",
        "outputId": "6678a250-f5d3-44d1-d0a3-f0fb9213b7c8",
        "colab": {
          "base_uri": "https://localhost:8080/",
          "height": 533
        }
      },
      "outputs": [
        {
          "output_type": "display_data",
          "data": {
            "text/plain": [
              "<IPython.core.display.HTML object>"
            ],
            "text/html": [
              "<h3>Version Information</h3><table><tr><th>Software</th><th>Version</th></tr><tr><td><code>qiskit</code></td><td>0.45.1</td></tr><tr><td><code>qiskit_algorithms</code></td><td>0.2.1</td></tr><tr><td><code>qiskit_machine_learning</code></td><td>0.7.1</td></tr><tr><th colspan='2'>System information</th></tr><tr><td>Python version</td><td>3.10.12</td></tr><tr><td>Python compiler</td><td>GCC 11.4.0</td></tr><tr><td>Python build</td><td>main, Nov 20 2023 15:14:05</td></tr><tr><td>OS</td><td>Linux</td></tr><tr><td>CPUs</td><td>1</td></tr><tr><td>Memory (Gb)</td><td>12.678337097167969</td></tr><tr><td colspan='2'>Sat Dec 02 06:35:41 2023 UTC</td></tr></table>"
            ]
          },
          "metadata": {}
        },
        {
          "output_type": "display_data",
          "data": {
            "text/plain": [
              "<IPython.core.display.HTML object>"
            ],
            "text/html": [
              "<div style='width: 100%; background-color:#d5d9e0;padding-left: 10px; padding-bottom: 10px; padding-right: 10px; padding-top: 5px'><h3>This code is a part of Qiskit</h3><p>&copy; Copyright IBM 2017, 2023.</p><p>This code is licensed under the Apache License, Version 2.0. You may<br>obtain a copy of this license in the LICENSE.txt file in the root directory<br> of this source tree or at http://www.apache.org/licenses/LICENSE-2.0.<p>Any modifications or derivative works of this code must retain this<br>copyright notice, and modified files need to carry a notice indicating<br>that they have been altered from the originals.</p></div>"
            ]
          },
          "metadata": {}
        }
      ],
      "source": [
        "import qiskit.tools.jupyter\n",
        "\n",
        "%qiskit_version_table\n",
        "%qiskit_copyright"
      ]
    }
  ],
  "metadata": {
    "kernelspec": {
      "display_name": "Python 3 (ipykernel)",
      "language": "python",
      "name": "python3"
    },
    "language_info": {
      "codemirror_mode": {
        "name": "ipython",
        "version": 3
      },
      "file_extension": ".py",
      "mimetype": "text/x-python",
      "name": "python",
      "nbconvert_exporter": "python",
      "pygments_lexer": "ipython3",
      "version": "3.8.13"
    },
    "rise": {
      "height": "90%",
      "scroll": true,
      "start_slideshow_at": "beginning",
      "theme": "white",
      "transition": "zoom",
      "width": "90%"
    },
    "colab": {
      "provenance": [],
      "include_colab_link": true
    }
  },
  "nbformat": 4,
  "nbformat_minor": 5
}